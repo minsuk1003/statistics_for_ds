{
 "cells": [
  {
   "cell_type": "markdown",
   "metadata": {},
   "source": [
    "![](https://velog.velcdn.com/images/kms1003/post/229d8855-12b1-48fe-a002-bb24d0a88b7c/image.png)\n",
    "[데이터 과학을 위한 통계 - 한빛미디어](http://www.kyobobook.co.kr/product/detailViewKor.laf?mallGb=KOR&ejkGb=KOR&barcode=9791162244180)"
   ]
  },
  {
   "cell_type": "markdown",
   "metadata": {},
   "source": [
    "### 필요한 라이브러리 import"
   ]
  },
  {
   "cell_type": "code",
   "execution_count": 1,
   "metadata": {
    "ExecuteTime": {
     "end_time": "2022-08-29T09:11:07.628718Z",
     "start_time": "2022-08-29T09:11:04.912923Z"
    }
   },
   "outputs": [],
   "source": [
    "%matplotlib inline\n",
    "\n",
    "from pathlib import Path\n",
    "\n",
    "import pandas as pd\n",
    "import numpy as np\n",
    "from scipy.stats import trim_mean\n",
    "from statsmodels import robust\n",
    "import statsmodels.api as sm\n",
    "\n",
    "import seaborn as sns\n",
    "import matplotlib.pylab as plt\n",
    "import random\n",
    "\n",
    "from sklearn.linear_model import LinearRegression\n",
    "from sklearn.metrics import mean_squared_error\n",
    "from sklearn.metrics import r2_score"
   ]
  },
  {
   "cell_type": "markdown",
   "metadata": {},
   "source": [
    "### 데이터 불러오기"
   ]
  },
  {
   "cell_type": "code",
   "execution_count": 2,
   "metadata": {
    "ExecuteTime": {
     "end_time": "2022-08-29T09:11:08.992101Z",
     "start_time": "2022-08-29T09:11:07.631710Z"
    },
    "scrolled": true
   },
   "outputs": [],
   "source": [
    "state = pd.read_csv(\"state.csv\")\n",
    "dfw = pd.read_csv(\"dfw_airline.csv\")\n",
    "sp500_px = pd.read_csv(\"sp500_data.csv/sp500_data.csv\", index_col=0)\n",
    "sp500_sym = pd.read_csv(\"sp500_data.csv/sp500_sectors.csv\")\n",
    "kc_tax = pd.read_csv(\"kc_tax.csv/kc_tax.csv\")\n",
    "lc_loans = pd.read_csv(\"lc_loans.csv\")\n",
    "airline_stats = pd.read_csv('airline_stats.csv')\n",
    "loans_income = pd.read_csv(\"loans_income.csv\")\n",
    "session_times = pd.read_csv(\"web_page_data.csv\")\n",
    "lung = pd.read_csv(\"LungDisease.csv\")\n",
    "house = pd.read_csv(\"house.csv\", sep='\\t')"
   ]
  },
  {
   "cell_type": "markdown",
   "metadata": {},
   "source": [
    "## 탐색적 데이터 분석"
   ]
  },
  {
   "cell_type": "markdown",
   "metadata": {},
   "source": [
    "### <span style=\"color:olivedrab\">개요</span>\n",
    "\n",
    "고전적인 통계학에서는 적은 표본을 가지고 더 큰 모집단에 대한 결론을 도출하는 **`추론`**이라는 과정을 다루었다.\n",
    "\n",
    "1962년, 존 투키의 논문 **<데이터 분석의 미래>**에서 통계적 추론을 하나의 구성 요소로 보는 **`데이터 분석`**이라는 새로운 과학적 학문을 제안했다.\n",
    "\n",
    "\n",
    "이후 투키는 통계를 공학과 컴퓨터 과학에 접목시키는 꾸준한 노력 끝에 **`데이터 과학`**의 한 토대가 되었다.\n",
    "\n",
    "1977년, 투키의 책 <탐색적 데이터 분석>을 통해 요약통계량과 함께 데이터 집합을 그림으로 표현하는 **`탐색적 데이터 분석`**이라는 분야가 정립되었다.\n",
    "\n",
    "탐색적 데이터 분석은 새로운 기술이 급속히 발전되고, 접근 가능한 데이터가 더욱 많아지며, 많은 분석들이 다양한 학문에서 활용되면서 원래 범주를 뛰어넘어 진화하고 있다."
   ]
  },
  {
   "cell_type": "markdown",
   "metadata": {},
   "source": [
    "### <span style=\"color:olivedrab\">정형화된 데이터의 요소</span>\n",
    "\n",
    "먼저, 통계적 개념을 활용하기 위해서는 정형화되지 않은 원시 데이터를 가공해 정형화된 형태로 변환해야 한다.\n",
    "\n",
    "> 정형 데이터 : 행과 열이 있는 테이블 형태\n",
    "\n",
    "정형 데이터는 크게 두 가지로 나눌 수 있다.\n",
    "\n",
    "1. 수치형 데이터\n",
    "    - 연속형 데이터 (시간, 풍속)\n",
    "    - 이산형 데이터 (사건의 발생 빈도)\n",
    "2. 범주형 데이터\n",
    "\t- 일반적인 범주형 데이터 (범위가 정해진 값)\n",
    "    - 이진 데이터 (0/1, 참/거짓)\n",
    "    - 순서형 데이터 (범주 안의 값들이 순위를 가지는 경우)\n",
    "\n",
    "<span style=\"color:slateblue\">**데이터를 분석하고 예측을 모델링할 때, 데이터 종류를 분류하는 것은 시각화, 해석, 통계 모델 결정 등에 중요한 역할을 한다.**</span>\n"
   ]
  },
  {
   "cell_type": "markdown",
   "metadata": {},
   "source": [
    "### <span style=\"color:olivedrab\">테이블 데이터</span>\n",
    "\n",
    "테이블 데이터는 데이터 분석에서 가장 대표적으로 사용되는 객체의 형태이다.\n",
    "\n",
    "> 테이블 데이터 : 행과 열로 이루어진 2차원 행렬\n",
    "\n",
    "|프로그래밍 언어|테이블 데이터 형식|\n",
    "|-|-|\n",
    "|Excel|스프레드시트|\n",
    "|DB|테이블|\n",
    "|Python, R|데이터프레임|\n",
    "\n",
    "데이터는 항상 테이블 데이터의 형태로 이루어지지 않으므로, 비정형 데이터는 테이블 데이터의 형태로 표현되도록 처리해야 한다.\n",
    "\n",
    "테이블 데이터의 맨 오른쪽 열에는 분석하고자 하는 변수인 결과 변수에 대한 값들로 이루어져 있다.\n",
    "\n",
    "#### <span style=\"color:dodgerblue\">데이터프레임과 인덱스</span>\n",
    "\n",
    "파이썬에서는 pandas 라이브러리에서 Dataframe 객체를 제공한다.\n",
    "\n",
    "보통 데이터프레임에는 각 행마다 순차적으로 정수값을 붙여 인덱스로 사용한다. 이로써 데이터베이스의 쿼리 성능을 향상시킨다.\n",
    "\n",
    "#### <span style=\"color:dodgerblue\">테이블 형식이 아닌 데이터 구조</span>\n",
    "\n",
    "- 시계열 데이터\n",
    "- 공간 데이터\n",
    "- 그래프 데이터\n",
    "...\n",
    "\n",
    "각 데이터에 맞는 특화된 방법론을 사용한다."
   ]
  },
  {
   "cell_type": "markdown",
   "metadata": {},
   "source": [
    "### <span style=\"color:olivedrab\">위치 추정</span>\n",
    "\n",
    "위치 추정은 데이터가 주어졌을 때, 데이터를 살펴보는 가장 기초적인 단계로, 각 변수의 대표값을 파악하게 된다.\n",
    "\n",
    "#### <span style=\"color:dodgerblue\">평균</span>\n",
    "\n",
    "평균 : 계산 간단하지만, 대표값에 부적합한 경우가 많다.\n",
    "\n",
    "평균을 대체해 **`절사평균`**을 사용함\n",
    "\n",
    "절사평균 : $x_1$부터 $x_n$까지 오름차순으로 정렬 후, p개의 가장 크고 작은 값들을 제외한 뒤에 평균을 계산해 극단값의 영향을 제거한다.\n",
    "ex) 국제 다이빙 대회 : 5명의 심판이 매긴 점수 중 가장 높고 낮은 점수를 제외한 나머지 3명의 점수를 평균한 값으로 최종 점수 계산\n",
    "\n",
    "가중평균 : 각 데이터값에 사용자가 지정한 가중치를 곱한 값들의 총합을 가중치의 총합으로 나누어 계산한다.\n",
    "\n",
    "#### <span style=\"color:dodgerblue\">중간값, 특이값</span>\n",
    "\n",
    "중간값 : 데이터에 매우 민감한 평균보다 위치 추정에 더 유리하다.\n",
    "\n",
    "특이값 (outlier) : 데이터 집합에서 다른 값들과 매우 멀리 떨어져 있는 값\n",
    "특이값이 발생한 원인에 대해 살펴보는 것이 중요함\n",
    "- 에러에 의해 발생했는지 올바른 수집이었는지 파악\n",
    "    \n",
    "중간값은 로버스트하지만, 오직 하나에 대한 값이므로 부정확할 수 있다.\n",
    "\n",
    "- 중간값과 평균의 절충안인 절사평균을 사용한다."
   ]
  },
  {
   "cell_type": "markdown",
   "metadata": {},
   "source": [
    "#### 인구에 따른 살인 비율의 위치 추정"
   ]
  },
  {
   "cell_type": "code",
   "execution_count": 3,
   "metadata": {
    "ExecuteTime": {
     "end_time": "2022-08-29T09:11:09.024017Z",
     "start_time": "2022-08-29T09:11:08.999085Z"
    }
   },
   "outputs": [
    {
     "data": {
      "text/html": [
       "<div>\n",
       "<style scoped>\n",
       "    .dataframe tbody tr th:only-of-type {\n",
       "        vertical-align: middle;\n",
       "    }\n",
       "\n",
       "    .dataframe tbody tr th {\n",
       "        vertical-align: top;\n",
       "    }\n",
       "\n",
       "    .dataframe thead th {\n",
       "        text-align: right;\n",
       "    }\n",
       "</style>\n",
       "<table border=\"1\" class=\"dataframe\">\n",
       "  <thead>\n",
       "    <tr style=\"text-align: right;\">\n",
       "      <th></th>\n",
       "      <th>State</th>\n",
       "      <th>Population</th>\n",
       "      <th>Murder.Rate</th>\n",
       "      <th>Abbreviation</th>\n",
       "    </tr>\n",
       "  </thead>\n",
       "  <tbody>\n",
       "    <tr>\n",
       "      <th>0</th>\n",
       "      <td>Alabama</td>\n",
       "      <td>4779736</td>\n",
       "      <td>5.7</td>\n",
       "      <td>AL</td>\n",
       "    </tr>\n",
       "    <tr>\n",
       "      <th>1</th>\n",
       "      <td>Alaska</td>\n",
       "      <td>710231</td>\n",
       "      <td>5.6</td>\n",
       "      <td>AK</td>\n",
       "    </tr>\n",
       "    <tr>\n",
       "      <th>2</th>\n",
       "      <td>Arizona</td>\n",
       "      <td>6392017</td>\n",
       "      <td>4.7</td>\n",
       "      <td>AZ</td>\n",
       "    </tr>\n",
       "    <tr>\n",
       "      <th>3</th>\n",
       "      <td>Arkansas</td>\n",
       "      <td>2915918</td>\n",
       "      <td>5.6</td>\n",
       "      <td>AR</td>\n",
       "    </tr>\n",
       "    <tr>\n",
       "      <th>4</th>\n",
       "      <td>California</td>\n",
       "      <td>37253956</td>\n",
       "      <td>4.4</td>\n",
       "      <td>CA</td>\n",
       "    </tr>\n",
       "  </tbody>\n",
       "</table>\n",
       "</div>"
      ],
      "text/plain": [
       "        State  Population  Murder.Rate Abbreviation\n",
       "0     Alabama     4779736          5.7           AL\n",
       "1      Alaska      710231          5.6           AK\n",
       "2     Arizona     6392017          4.7           AZ\n",
       "3    Arkansas     2915918          5.6           AR\n",
       "4  California    37253956          4.4           CA"
      ]
     },
     "execution_count": 3,
     "metadata": {},
     "output_type": "execute_result"
    }
   ],
   "source": [
    "state.head()"
   ]
  },
  {
   "cell_type": "code",
   "execution_count": 4,
   "metadata": {
    "ExecuteTime": {
     "end_time": "2022-08-29T09:11:09.054936Z",
     "start_time": "2022-08-29T09:11:09.027010Z"
    }
   },
   "outputs": [
    {
     "data": {
      "text/plain": [
       "count    50.000000\n",
       "mean      4.066000\n",
       "std       1.915736\n",
       "min       0.900000\n",
       "25%       2.425000\n",
       "50%       4.000000\n",
       "75%       5.550000\n",
       "max      10.300000\n",
       "Name: Murder.Rate, dtype: float64"
      ]
     },
     "execution_count": 4,
     "metadata": {},
     "output_type": "execute_result"
    }
   ],
   "source": [
    "state['Murder.Rate'].describe()"
   ]
  },
  {
   "cell_type": "code",
   "execution_count": 5,
   "metadata": {
    "ExecuteTime": {
     "end_time": "2022-08-29T09:11:09.070896Z",
     "start_time": "2022-08-29T09:11:09.056929Z"
    }
   },
   "outputs": [
    {
     "data": {
      "text/plain": [
       "count    5.000000e+01\n",
       "mean     6.162876e+06\n",
       "std      6.848235e+06\n",
       "min      5.636260e+05\n",
       "25%      1.833004e+06\n",
       "50%      4.436370e+06\n",
       "75%      6.680312e+06\n",
       "max      3.725396e+07\n",
       "Name: Population, dtype: float64"
      ]
     },
     "execution_count": 5,
     "metadata": {},
     "output_type": "execute_result"
    }
   ],
   "source": [
    "state['Population'].describe()"
   ]
  },
  {
   "cell_type": "code",
   "execution_count": 6,
   "metadata": {
    "ExecuteTime": {
     "end_time": "2022-08-29T09:11:09.102807Z",
     "start_time": "2022-08-29T09:11:09.073885Z"
    }
   },
   "outputs": [
    {
     "name": "stdout",
     "output_type": "stream",
     "text": [
      "평균 : 6162876.3\n",
      "절사평균 : 4783697.125\n",
      "중앙값 : 4436369.5\n"
     ]
    }
   ],
   "source": [
    "print(f\"평균 : {state['Population'].mean()}\")\n",
    "print(f\"절사평균 : {trim_mean(state['Population'], 0.1)}\")\n",
    "print(f\"중앙값 : {state['Population'].median()}\")"
   ]
  },
  {
   "cell_type": "code",
   "execution_count": 7,
   "metadata": {
    "ExecuteTime": {
     "end_time": "2022-08-29T09:11:09.118766Z",
     "start_time": "2022-08-29T09:11:09.107795Z"
    }
   },
   "outputs": [
    {
     "name": "stdout",
     "output_type": "stream",
     "text": [
      "가중평균 : 4.445833981123393\n"
     ]
    }
   ],
   "source": [
    "print(f\"가중평균 : {np.average(state['Murder.Rate'], weights=state['Population'])}\")"
   ]
  },
  {
   "cell_type": "markdown",
   "metadata": {},
   "source": [
    "### <span style=\"color:olivedrab\">변이 추정</span>\n",
    "\n",
    "변이 : 데이터가 얼마나 밀집해 있는지 혹은 퍼져 있는지를 나타내는 산포도\n",
    "\n",
    "다양한 변이 추정 방법이 존재함\n",
    "\n",
    "#### <span style=\"color:dodgerblue\">편차들의 대표값 추정</span>\n",
    "\n",
    "- 평균절대편차 : 편차의 절대값의 평균 (항상 양의 편차)\n",
    "- 분산 : 제곱편차의 평균\n",
    "- 표준편차 : 분산의 제곱근\n",
    "\n",
    "분산을 구할 때 분모에 n이 아닌 n-1을 사용하는 이유\n",
    "- 표준편차는 표본의 평균에 따른다는 단 하나의 제약 조건을 가지므로 n-1의 자유도를 갖는다.\n",
    "\n",
    "> 자유도 : 추정값을 계산할 때의 제약조건의 개수\n",
    "\n",
    "평균절대편차, 분산, 표준편차 모두 특이값에 로버스트하지 않다.\n",
    "\n",
    "- 대체 수단으로 중간값의 중위절대편차 사용\n",
    "\n",
    "#### <span style=\"color:dodgerblue\">백분위수에 기초한 추정</span>\n",
    "\n",
    "> 순서통계량 : 정렬 데이터를 나타내는 통계량\n",
    "\n",
    "범위 : 가장 큰 값과 작은 값의 차이\n",
    "- 특이값에 매우 민감하므로 변이 측정하는데 부적절\n",
    "\n",
    "백분위수 사이의 차이를 통해 추정 가능\n",
    "- **`사분위범위`** 사용"
   ]
  },
  {
   "cell_type": "markdown",
   "metadata": {},
   "source": [
    "#### 주별 인구의 변이 추정"
   ]
  },
  {
   "cell_type": "code",
   "execution_count": 8,
   "metadata": {
    "ExecuteTime": {
     "end_time": "2022-08-29T09:11:09.150681Z",
     "start_time": "2022-08-29T09:11:09.122757Z"
    }
   },
   "outputs": [
    {
     "data": {
      "text/html": [
       "<div>\n",
       "<style scoped>\n",
       "    .dataframe tbody tr th:only-of-type {\n",
       "        vertical-align: middle;\n",
       "    }\n",
       "\n",
       "    .dataframe tbody tr th {\n",
       "        vertical-align: top;\n",
       "    }\n",
       "\n",
       "    .dataframe thead th {\n",
       "        text-align: right;\n",
       "    }\n",
       "</style>\n",
       "<table border=\"1\" class=\"dataframe\">\n",
       "  <thead>\n",
       "    <tr style=\"text-align: right;\">\n",
       "      <th></th>\n",
       "      <th>State</th>\n",
       "      <th>Population</th>\n",
       "      <th>Murder.Rate</th>\n",
       "      <th>Abbreviation</th>\n",
       "    </tr>\n",
       "  </thead>\n",
       "  <tbody>\n",
       "    <tr>\n",
       "      <th>0</th>\n",
       "      <td>Alabama</td>\n",
       "      <td>4779736</td>\n",
       "      <td>5.7</td>\n",
       "      <td>AL</td>\n",
       "    </tr>\n",
       "    <tr>\n",
       "      <th>1</th>\n",
       "      <td>Alaska</td>\n",
       "      <td>710231</td>\n",
       "      <td>5.6</td>\n",
       "      <td>AK</td>\n",
       "    </tr>\n",
       "    <tr>\n",
       "      <th>2</th>\n",
       "      <td>Arizona</td>\n",
       "      <td>6392017</td>\n",
       "      <td>4.7</td>\n",
       "      <td>AZ</td>\n",
       "    </tr>\n",
       "    <tr>\n",
       "      <th>3</th>\n",
       "      <td>Arkansas</td>\n",
       "      <td>2915918</td>\n",
       "      <td>5.6</td>\n",
       "      <td>AR</td>\n",
       "    </tr>\n",
       "    <tr>\n",
       "      <th>4</th>\n",
       "      <td>California</td>\n",
       "      <td>37253956</td>\n",
       "      <td>4.4</td>\n",
       "      <td>CA</td>\n",
       "    </tr>\n",
       "  </tbody>\n",
       "</table>\n",
       "</div>"
      ],
      "text/plain": [
       "        State  Population  Murder.Rate Abbreviation\n",
       "0     Alabama     4779736          5.7           AL\n",
       "1      Alaska      710231          5.6           AK\n",
       "2     Arizona     6392017          4.7           AZ\n",
       "3    Arkansas     2915918          5.6           AR\n",
       "4  California    37253956          4.4           CA"
      ]
     },
     "execution_count": 8,
     "metadata": {},
     "output_type": "execute_result"
    }
   ],
   "source": [
    "state.head()"
   ]
  },
  {
   "cell_type": "code",
   "execution_count": 9,
   "metadata": {
    "ExecuteTime": {
     "end_time": "2022-08-29T09:11:09.166651Z",
     "start_time": "2022-08-29T09:11:09.153673Z"
    }
   },
   "outputs": [
    {
     "name": "stdout",
     "output_type": "stream",
     "text": [
      "표준편차 : 6848235.35\n",
      "사분위범위 : 4847308.00\n",
      "중위절대편차 : 3849876.15\n"
     ]
    }
   ],
   "source": [
    "print(f\"표준편차 : {state['Population'].std():.2f}\")\n",
    "print(f\"사분위범위 : {state['Population'].quantile(0.75) - state['Population'].quantile(0.25):.2f}\")\n",
    "print(f\"중위절대편차 : {robust.scale.mad(state['Population']):.2f}\")"
   ]
  },
  {
   "cell_type": "markdown",
   "metadata": {},
   "source": [
    "### <span style=\"color:olivedrab\">데이터 분포 탐색하기</span>\n",
    "\n",
    "지금까지의 추정은 위치, 변위를 나타내기 위한 하나의 수치로 데이터를 요약한 것이다.\n",
    "\n",
    "데이터가 전반적으로 어떻게 분포하고 있는지 파악하는 것도 중요하다.\n",
    "\n",
    "#### <span style=\"color:dodgerblue\">백분위수와 상자그림</span>\n",
    "\n",
    "- 상자그림 : 백분위수를 이용해 데이터의 분산을 손쉽게 시각화하는 방법\n",
    "\n",
    "    - 상자는 25%부터 75%까지, 상자 안의 굵은 값은 중간값\n",
    "    \n",
    "    - 위아래의 점선(수염)은 사분위범위의 1.5배 이내\n",
    "    \n",
    "    - 수염 바깥쪽 데이터(특잇값)는 하나의 점 또는 원으로 표현"
   ]
  },
  {
   "cell_type": "code",
   "execution_count": 10,
   "metadata": {
    "ExecuteTime": {
     "end_time": "2022-08-29T09:11:09.182597Z",
     "start_time": "2022-08-29T09:11:09.170629Z"
    }
   },
   "outputs": [
    {
     "data": {
      "text/plain": [
       "0.05    1.600\n",
       "0.25    2.425\n",
       "0.50    4.000\n",
       "0.75    5.550\n",
       "0.95    6.510\n",
       "Name: Murder.Rate, dtype: float64"
      ]
     },
     "execution_count": 10,
     "metadata": {},
     "output_type": "execute_result"
    }
   ],
   "source": [
    "# 주별 살인율의 백분위수\n",
    "state['Murder.Rate'].quantile([0.05, 0.25, 0.5, 0.75, 0.95])"
   ]
  },
  {
   "cell_type": "code",
   "execution_count": 11,
   "metadata": {
    "ExecuteTime": {
     "end_time": "2022-08-29T09:11:09.516710Z",
     "start_time": "2022-08-29T09:11:09.185592Z"
    }
   },
   "outputs": [
    {
     "data": {
      "text/plain": [
       "Text(0, 0.5, 'Population (millions)')"
      ]
     },
     "execution_count": 11,
     "metadata": {},
     "output_type": "execute_result"
    },
    {
     "data": {
      "image/png": "[encoded data removed]",
      "text/plain": [
       "<Figure size 432x288 with 1 Axes>"
      ]
     },
     "metadata": {
      "needs_background": "light"
     },
     "output_type": "display_data"
    }
   ],
   "source": [
    "# 주별 인구의 상자그림\n",
    "ax = (state['Population']/1_000_000).plot.box()\n",
    "ax.set_ylabel('Population (millions)')"
   ]
  },
  {
   "cell_type": "markdown",
   "metadata": {},
   "source": [
    "#### <span style=\"color:dodgerblue\">도수분포표와 히스토그램</span>\n",
    "\n",
    "- 도수분포표 : 변수의 범위를 동일한 크기의 구간으로 나누고, 각 구간마다 변수값의 수를 나타냄"
   ]
  },
  {
   "cell_type": "code",
   "execution_count": 12,
   "metadata": {
    "ExecuteTime": {
     "end_time": "2022-08-29T09:11:09.547628Z",
     "start_time": "2022-08-29T09:11:09.519703Z"
    }
   },
   "outputs": [
    {
     "data": {
      "text/plain": [
       "(526935.67, 4232659.0]      24\n",
       "(4232659.0, 7901692.0]      14\n",
       "(7901692.0, 11570725.0]      6\n",
       "(11570725.0, 15239758.0]     2\n",
       "(33584923.0, 37253956.0]     1\n",
       "(22577824.0, 26246857.0]     1\n",
       "(18908791.0, 22577824.0]     1\n",
       "(15239758.0, 18908791.0]     1\n",
       "(29915890.0, 33584923.0]     0\n",
       "(26246857.0, 29915890.0]     0\n",
       "Name: Population, dtype: int64"
      ]
     },
     "execution_count": 12,
     "metadata": {},
     "output_type": "execute_result"
    }
   ],
   "source": [
    "# 주별 인구의 도수분포표\n",
    "binnedPopulation = pd.cut(state['Population'], 10)\n",
    "binnedPopulation.value_counts()"
   ]
  },
  {
   "cell_type": "code",
   "execution_count": 13,
   "metadata": {
    "ExecuteTime": {
     "end_time": "2022-08-29T09:11:09.816915Z",
     "start_time": "2022-08-29T09:11:09.549625Z"
    }
   },
   "outputs": [
    {
     "data": {
      "text/plain": [
       "Text(0.5, 0, 'Population (millions)')"
      ]
     },
     "execution_count": 13,
     "metadata": {},
     "output_type": "execute_result"
    },
    {
     "data": {
      "image/png": "[encoded data removed]",
      "text/plain": [
       "<Figure size 288x288 with 1 Axes>"
      ]
     },
     "metadata": {
      "needs_background": "light"
     },
     "output_type": "display_data"
    }
   ],
   "source": [
    "# 주별 인구의 히스토그램\n",
    "ax = (state['Population'] / 1_000_000).hist(figsize=(4,4), bins=12)\n",
    "ax.set_xlabel('Population (millions)')"
   ]
  },
  {
   "cell_type": "markdown",
   "metadata": {},
   "source": [
    "#### <span style=\"color:dodgerblue\">밀도 그림과 추정</span>\n",
    "\n",
    "- 밀도 그림 : 데이터의 분포를 연속된 선으로 나타냄 (부드러운 히스토그램)\n",
    "    - 밀도 곡선 아래의 면적은 1\n",
    "    - y축은 개수가 아닌 비율"
   ]
  },
  {
   "cell_type": "code",
   "execution_count": 14,
   "metadata": {
    "ExecuteTime": {
     "end_time": "2022-08-29T09:11:10.213862Z",
     "start_time": "2022-08-29T09:11:09.819907Z"
    }
   },
   "outputs": [
    {
     "data": {
      "text/plain": [
       "Text(0.5, 0, 'Murder Rate (per 100,000)')"
      ]
     },
     "execution_count": 14,
     "metadata": {},
     "output_type": "execute_result"
    },
    {
     "data": {
      "image/png": "[encoded data removed]",
      "text/plain": [
       "<Figure size 432x288 with 1 Axes>"
      ]
     },
     "metadata": {
      "needs_background": "light"
     },
     "output_type": "display_data"
    }
   ],
   "source": [
    "# 주별 살인율 밀도 그림\n",
    "ax = state['Murder.Rate'].hist(density=True, bins=range(1,12))\n",
    "ax.set_xlim([0,12])\n",
    "state['Murder.Rate'].plot.density(ax=ax)\n",
    "ax.set_xlabel('Murder Rate (per 100,000)')"
   ]
  },
  {
   "cell_type": "markdown",
   "metadata": {},
   "source": [
    "### <span style=\"color:olivedrab\">이진 데이터와 범주 데이터 탐색하기</span>\n",
    "\n",
    "이진 변수 : 0과 1 중 1을 중요한 변수로 설정한다.\n",
    "\n",
    "막대 도표 : 가장 흔한 범주형 자료 시각화 방법\n",
    "\n",
    "- 막대 도표 vs 히스토그램\n",
    "    - 막대 도표의 x축은 각 요인변수의 서로 다른 범주들을 나타냄\n",
    "    - 히스토그램의 x축은 수치적으로 나타낼 수 있는 하나의 변수값"
   ]
  },
  {
   "cell_type": "code",
   "execution_count": 15,
   "metadata": {
    "ExecuteTime": {
     "end_time": "2022-08-29T09:11:10.244780Z",
     "start_time": "2022-08-29T09:11:10.215856Z"
    }
   },
   "outputs": [
    {
     "data": {
      "text/html": [
       "<div>\n",
       "<style scoped>\n",
       "    .dataframe tbody tr th:only-of-type {\n",
       "        vertical-align: middle;\n",
       "    }\n",
       "\n",
       "    .dataframe tbody tr th {\n",
       "        vertical-align: top;\n",
       "    }\n",
       "\n",
       "    .dataframe thead th {\n",
       "        text-align: right;\n",
       "    }\n",
       "</style>\n",
       "<table border=\"1\" class=\"dataframe\">\n",
       "  <thead>\n",
       "    <tr style=\"text-align: right;\">\n",
       "      <th></th>\n",
       "      <th>Carrier</th>\n",
       "      <th>ATC</th>\n",
       "      <th>Weather</th>\n",
       "      <th>Security</th>\n",
       "      <th>Inbound</th>\n",
       "    </tr>\n",
       "  </thead>\n",
       "  <tbody>\n",
       "    <tr>\n",
       "      <th>0</th>\n",
       "      <td>64263.16</td>\n",
       "      <td>84856.5</td>\n",
       "      <td>11235.42</td>\n",
       "      <td>343.15</td>\n",
       "      <td>118427.82</td>\n",
       "    </tr>\n",
       "  </tbody>\n",
       "</table>\n",
       "</div>"
      ],
      "text/plain": [
       "    Carrier      ATC   Weather  Security    Inbound\n",
       "0  64263.16  84856.5  11235.42    343.15  118427.82"
      ]
     },
     "execution_count": 15,
     "metadata": {},
     "output_type": "execute_result"
    }
   ],
   "source": [
    "dfw.head()"
   ]
  },
  {
   "cell_type": "code",
   "execution_count": 16,
   "metadata": {
    "ExecuteTime": {
     "end_time": "2022-08-29T09:11:10.546977Z",
     "start_time": "2022-08-29T09:11:10.247772Z"
    }
   },
   "outputs": [
    {
     "data": {
      "text/plain": [
       "Text(0, 0.5, 'Count')"
      ]
     },
     "execution_count": 16,
     "metadata": {},
     "output_type": "execute_result"
    },
    {
     "data": {
      "image/png": "[encoded data removed]",
      "text/plain": [
       "<Figure size 288x288 with 1 Axes>"
      ]
     },
     "metadata": {
      "needs_background": "light"
     },
     "output_type": "display_data"
    }
   ],
   "source": [
    "# 항공기 운행 지연 요인 횟수의 막대도표\n",
    "ax = dfw.transpose().plot.bar(figsize=(4,4), legend=False)\n",
    "ax.set_xlabel('Cause of delay')\n",
    "ax.set_ylabel('Count')"
   ]
  },
  {
   "cell_type": "markdown",
   "metadata": {},
   "source": [
    "#### <span style=\"color:dodgerblue\">최빈값</span>\n",
    "\n",
    "- 최빈값 : 데이터에서 가장 자주 등장하는 값 (최다 빈도수)\n",
    "\n",
    "#### <span style=\"color:dodgerblue\">기댓값</span>\n",
    "\n",
    "- 기댓값 : 각 범주에 해당하는 수치형 변수들이 존재하는 경우에 사용\n",
    "\n",
    "#### <span style=\"color:dodgerblue\">확률</span>\n",
    "\n",
    "- 확률 : 사건이 발생할 비율"
   ]
  },
  {
   "cell_type": "markdown",
   "metadata": {},
   "source": [
    "### <span style=\"color:olivedrab\">상관관계</span>\n",
    "\n",
    "- 피어슨 상관계수 : 변수 1, 2 각각의 평균으로부터의 편차들을 서로 곱한 값들의 평균을 각 변수의 표준편차 곱으로 나눠준 값\n",
    "    - 항상 -1과 1 사이 값\n",
    "\n",
    "변수들이 선형적 관계를 갖지 않으면 상관계수는 무의미\n",
    "\n",
    "상관행렬을 이용해 여러 변수들 사이의 관계를 시각화할 수 있다.\n",
    "\n",
    "상관계수도 데이터의 특이값에 민감 -> 상관계수를 대체할 로버스트한 다른 방법들 존재"
   ]
  },
  {
   "cell_type": "code",
   "execution_count": 17,
   "metadata": {
    "ExecuteTime": {
     "end_time": "2022-08-29T09:11:10.609811Z",
     "start_time": "2022-08-29T09:11:10.550967Z"
    }
   },
   "outputs": [
    {
     "data": {
      "text/html": [
       "<div>\n",
       "<style scoped>\n",
       "    .dataframe tbody tr th:only-of-type {\n",
       "        vertical-align: middle;\n",
       "    }\n",
       "\n",
       "    .dataframe tbody tr th {\n",
       "        vertical-align: top;\n",
       "    }\n",
       "\n",
       "    .dataframe thead th {\n",
       "        text-align: right;\n",
       "    }\n",
       "</style>\n",
       "<table border=\"1\" class=\"dataframe\">\n",
       "  <thead>\n",
       "    <tr style=\"text-align: right;\">\n",
       "      <th></th>\n",
       "      <th>ADS</th>\n",
       "      <th>CA</th>\n",
       "      <th>MSFT</th>\n",
       "      <th>RHT</th>\n",
       "      <th>CTSH</th>\n",
       "      <th>CSC</th>\n",
       "      <th>EMC</th>\n",
       "      <th>IBM</th>\n",
       "      <th>XRX</th>\n",
       "      <th>ALTR</th>\n",
       "      <th>...</th>\n",
       "      <th>WAT</th>\n",
       "      <th>ALXN</th>\n",
       "      <th>AMGN</th>\n",
       "      <th>BXLT</th>\n",
       "      <th>BIIB</th>\n",
       "      <th>CELG</th>\n",
       "      <th>GILD</th>\n",
       "      <th>REGN</th>\n",
       "      <th>VRTX</th>\n",
       "      <th>HSIC</th>\n",
       "    </tr>\n",
       "  </thead>\n",
       "  <tbody>\n",
       "    <tr>\n",
       "      <th>1993-01-29</th>\n",
       "      <td>0.000000</td>\n",
       "      <td>0.060124</td>\n",
       "      <td>-0.022100</td>\n",
       "      <td>0.000000</td>\n",
       "      <td>0.000000</td>\n",
       "      <td>0.018897</td>\n",
       "      <td>0.007368</td>\n",
       "      <td>0.092165</td>\n",
       "      <td>0.259140</td>\n",
       "      <td>-0.007105</td>\n",
       "      <td>...</td>\n",
       "      <td>0.000000</td>\n",
       "      <td>0.000000</td>\n",
       "      <td>0.347160</td>\n",
       "      <td>0.000000</td>\n",
       "      <td>0.041670</td>\n",
       "      <td>0.000000</td>\n",
       "      <td>0.015564</td>\n",
       "      <td>1.750000</td>\n",
       "      <td>0.125000</td>\n",
       "      <td>0.000000</td>\n",
       "    </tr>\n",
       "    <tr>\n",
       "      <th>1993-02-01</th>\n",
       "      <td>0.000000</td>\n",
       "      <td>-0.180389</td>\n",
       "      <td>0.027621</td>\n",
       "      <td>0.000000</td>\n",
       "      <td>0.000000</td>\n",
       "      <td>0.018889</td>\n",
       "      <td>0.018425</td>\n",
       "      <td>0.115207</td>\n",
       "      <td>-0.100775</td>\n",
       "      <td>0.063893</td>\n",
       "      <td>...</td>\n",
       "      <td>0.000000</td>\n",
       "      <td>0.000000</td>\n",
       "      <td>-0.231440</td>\n",
       "      <td>0.000000</td>\n",
       "      <td>0.000000</td>\n",
       "      <td>-0.010410</td>\n",
       "      <td>0.007782</td>\n",
       "      <td>1.250000</td>\n",
       "      <td>0.125000</td>\n",
       "      <td>0.000000</td>\n",
       "    </tr>\n",
       "    <tr>\n",
       "      <th>1993-02-02</th>\n",
       "      <td>0.000000</td>\n",
       "      <td>-0.120257</td>\n",
       "      <td>0.035900</td>\n",
       "      <td>0.000000</td>\n",
       "      <td>0.000000</td>\n",
       "      <td>-0.075573</td>\n",
       "      <td>0.029482</td>\n",
       "      <td>-0.023041</td>\n",
       "      <td>0.028796</td>\n",
       "      <td>-0.014192</td>\n",
       "      <td>...</td>\n",
       "      <td>0.000000</td>\n",
       "      <td>0.000000</td>\n",
       "      <td>-0.115720</td>\n",
       "      <td>0.000000</td>\n",
       "      <td>0.000000</td>\n",
       "      <td>0.000000</td>\n",
       "      <td>-0.007792</td>\n",
       "      <td>-0.250000</td>\n",
       "      <td>0.000000</td>\n",
       "      <td>0.000000</td>\n",
       "    </tr>\n",
       "    <tr>\n",
       "      <th>1993-02-03</th>\n",
       "      <td>0.000000</td>\n",
       "      <td>0.060124</td>\n",
       "      <td>-0.024857</td>\n",
       "      <td>0.000000</td>\n",
       "      <td>0.000000</td>\n",
       "      <td>-0.151128</td>\n",
       "      <td>0.003689</td>\n",
       "      <td>-0.253454</td>\n",
       "      <td>-0.043190</td>\n",
       "      <td>-0.007105</td>\n",
       "      <td>...</td>\n",
       "      <td>0.000000</td>\n",
       "      <td>0.000000</td>\n",
       "      <td>-0.086790</td>\n",
       "      <td>0.000000</td>\n",
       "      <td>0.041670</td>\n",
       "      <td>-0.041670</td>\n",
       "      <td>-0.038919</td>\n",
       "      <td>-0.500000</td>\n",
       "      <td>0.062500</td>\n",
       "      <td>0.000000</td>\n",
       "    </tr>\n",
       "    <tr>\n",
       "      <th>1993-02-04</th>\n",
       "      <td>0.000000</td>\n",
       "      <td>-0.360770</td>\n",
       "      <td>-0.060757</td>\n",
       "      <td>0.000000</td>\n",
       "      <td>0.000000</td>\n",
       "      <td>0.113350</td>\n",
       "      <td>-0.022114</td>\n",
       "      <td>0.069862</td>\n",
       "      <td>0.000000</td>\n",
       "      <td>-0.007096</td>\n",
       "      <td>...</td>\n",
       "      <td>0.000000</td>\n",
       "      <td>0.000000</td>\n",
       "      <td>0.144650</td>\n",
       "      <td>0.000000</td>\n",
       "      <td>-0.041660</td>\n",
       "      <td>-0.031260</td>\n",
       "      <td>-0.046711</td>\n",
       "      <td>0.000000</td>\n",
       "      <td>0.062500</td>\n",
       "      <td>0.000000</td>\n",
       "    </tr>\n",
       "    <tr>\n",
       "      <th>...</th>\n",
       "      <td>...</td>\n",
       "      <td>...</td>\n",
       "      <td>...</td>\n",
       "      <td>...</td>\n",
       "      <td>...</td>\n",
       "      <td>...</td>\n",
       "      <td>...</td>\n",
       "      <td>...</td>\n",
       "      <td>...</td>\n",
       "      <td>...</td>\n",
       "      <td>...</td>\n",
       "      <td>...</td>\n",
       "      <td>...</td>\n",
       "      <td>...</td>\n",
       "      <td>...</td>\n",
       "      <td>...</td>\n",
       "      <td>...</td>\n",
       "      <td>...</td>\n",
       "      <td>...</td>\n",
       "      <td>...</td>\n",
       "      <td>...</td>\n",
       "    </tr>\n",
       "    <tr>\n",
       "      <th>2015-06-25</th>\n",
       "      <td>0.019989</td>\n",
       "      <td>-0.529999</td>\n",
       "      <td>-0.379997</td>\n",
       "      <td>0.080002</td>\n",
       "      <td>0.350003</td>\n",
       "      <td>-0.580002</td>\n",
       "      <td>-0.457999</td>\n",
       "      <td>-1.720001</td>\n",
       "      <td>-0.009936</td>\n",
       "      <td>0.039997</td>\n",
       "      <td>...</td>\n",
       "      <td>-2.500000</td>\n",
       "      <td>1.889999</td>\n",
       "      <td>-2.060012</td>\n",
       "      <td>0.150002</td>\n",
       "      <td>-1.630004</td>\n",
       "      <td>-0.990005</td>\n",
       "      <td>-2.250000</td>\n",
       "      <td>1.270019</td>\n",
       "      <td>-1.919998</td>\n",
       "      <td>-0.080002</td>\n",
       "    </tr>\n",
       "    <tr>\n",
       "      <th>2015-06-26</th>\n",
       "      <td>-1.299988</td>\n",
       "      <td>-0.330000</td>\n",
       "      <td>-0.390004</td>\n",
       "      <td>-1.820000</td>\n",
       "      <td>0.190003</td>\n",
       "      <td>0.330002</td>\n",
       "      <td>-0.328565</td>\n",
       "      <td>-0.769989</td>\n",
       "      <td>0.020000</td>\n",
       "      <td>0.000000</td>\n",
       "      <td>...</td>\n",
       "      <td>-0.070007</td>\n",
       "      <td>-2.380005</td>\n",
       "      <td>-1.390000</td>\n",
       "      <td>0.550004</td>\n",
       "      <td>-3.509979</td>\n",
       "      <td>-1.080002</td>\n",
       "      <td>-0.800003</td>\n",
       "      <td>-1.900024</td>\n",
       "      <td>-3.629997</td>\n",
       "      <td>0.440002</td>\n",
       "    </tr>\n",
       "    <tr>\n",
       "      <th>2015-06-29</th>\n",
       "      <td>-10.299988</td>\n",
       "      <td>-0.410000</td>\n",
       "      <td>-0.670002</td>\n",
       "      <td>-1.250000</td>\n",
       "      <td>-1.919998</td>\n",
       "      <td>-0.510002</td>\n",
       "      <td>-0.139999</td>\n",
       "      <td>-0.949997</td>\n",
       "      <td>-0.100000</td>\n",
       "      <td>-0.040001</td>\n",
       "      <td>...</td>\n",
       "      <td>-2.250000</td>\n",
       "      <td>-5.490005</td>\n",
       "      <td>-5.029999</td>\n",
       "      <td>0.090000</td>\n",
       "      <td>-8.290009</td>\n",
       "      <td>-1.209999</td>\n",
       "      <td>-2.419998</td>\n",
       "      <td>-9.620026</td>\n",
       "      <td>-3.770004</td>\n",
       "      <td>-2.479996</td>\n",
       "    </tr>\n",
       "    <tr>\n",
       "      <th>2015-06-30</th>\n",
       "      <td>-2.109986</td>\n",
       "      <td>-0.049999</td>\n",
       "      <td>-0.559997</td>\n",
       "      <td>-0.099999</td>\n",
       "      <td>-0.689999</td>\n",
       "      <td>-0.610001</td>\n",
       "      <td>0.239999</td>\n",
       "      <td>-1.330001</td>\n",
       "      <td>-0.200000</td>\n",
       "      <td>0.020001</td>\n",
       "      <td>...</td>\n",
       "      <td>-0.299988</td>\n",
       "      <td>0.270004</td>\n",
       "      <td>0.279999</td>\n",
       "      <td>-1.710001</td>\n",
       "      <td>0.390014</td>\n",
       "      <td>0.439995</td>\n",
       "      <td>-0.209999</td>\n",
       "      <td>-2.070007</td>\n",
       "      <td>-0.849999</td>\n",
       "      <td>-1.360001</td>\n",
       "    </tr>\n",
       "    <tr>\n",
       "      <th>2015-07-01</th>\n",
       "      <td>-1.210022</td>\n",
       "      <td>0.020000</td>\n",
       "      <td>-0.009998</td>\n",
       "      <td>0.869995</td>\n",
       "      <td>0.329998</td>\n",
       "      <td>-0.190003</td>\n",
       "      <td>-0.039999</td>\n",
       "      <td>0.520004</td>\n",
       "      <td>-0.030000</td>\n",
       "      <td>-0.079998</td>\n",
       "      <td>...</td>\n",
       "      <td>-0.250000</td>\n",
       "      <td>1.270005</td>\n",
       "      <td>0.050003</td>\n",
       "      <td>-1.380001</td>\n",
       "      <td>-2.910003</td>\n",
       "      <td>1.180000</td>\n",
       "      <td>-2.099999</td>\n",
       "      <td>-8.719970</td>\n",
       "      <td>2.080001</td>\n",
       "      <td>0.940002</td>\n",
       "    </tr>\n",
       "  </tbody>\n",
       "</table>\n",
       "<p>5647 rows × 517 columns</p>\n",
       "</div>"
      ],
      "text/plain": [
       "                  ADS        CA      MSFT       RHT      CTSH       CSC  \\\n",
       "1993-01-29   0.000000  0.060124 -0.022100  0.000000  0.000000  0.018897   \n",
       "1993-02-01   0.000000 -0.180389  0.027621  0.000000  0.000000  0.018889   \n",
       "1993-02-02   0.000000 -0.120257  0.035900  0.000000  0.000000 -0.075573   \n",
       "1993-02-03   0.000000  0.060124 -0.024857  0.000000  0.000000 -0.151128   \n",
       "1993-02-04   0.000000 -0.360770 -0.060757  0.000000  0.000000  0.113350   \n",
       "...               ...       ...       ...       ...       ...       ...   \n",
       "2015-06-25   0.019989 -0.529999 -0.379997  0.080002  0.350003 -0.580002   \n",
       "2015-06-26  -1.299988 -0.330000 -0.390004 -1.820000  0.190003  0.330002   \n",
       "2015-06-29 -10.299988 -0.410000 -0.670002 -1.250000 -1.919998 -0.510002   \n",
       "2015-06-30  -2.109986 -0.049999 -0.559997 -0.099999 -0.689999 -0.610001   \n",
       "2015-07-01  -1.210022  0.020000 -0.009998  0.869995  0.329998 -0.190003   \n",
       "\n",
       "                 EMC       IBM       XRX      ALTR  ...       WAT      ALXN  \\\n",
       "1993-01-29  0.007368  0.092165  0.259140 -0.007105  ...  0.000000  0.000000   \n",
       "1993-02-01  0.018425  0.115207 -0.100775  0.063893  ...  0.000000  0.000000   \n",
       "1993-02-02  0.029482 -0.023041  0.028796 -0.014192  ...  0.000000  0.000000   \n",
       "1993-02-03  0.003689 -0.253454 -0.043190 -0.007105  ...  0.000000  0.000000   \n",
       "1993-02-04 -0.022114  0.069862  0.000000 -0.007096  ...  0.000000  0.000000   \n",
       "...              ...       ...       ...       ...  ...       ...       ...   \n",
       "2015-06-25 -0.457999 -1.720001 -0.009936  0.039997  ... -2.500000  1.889999   \n",
       "2015-06-26 -0.328565 -0.769989  0.020000  0.000000  ... -0.070007 -2.380005   \n",
       "2015-06-29 -0.139999 -0.949997 -0.100000 -0.040001  ... -2.250000 -5.490005   \n",
       "2015-06-30  0.239999 -1.330001 -0.200000  0.020001  ... -0.299988  0.270004   \n",
       "2015-07-01 -0.039999  0.520004 -0.030000 -0.079998  ... -0.250000  1.270005   \n",
       "\n",
       "                AMGN      BXLT      BIIB      CELG      GILD      REGN  \\\n",
       "1993-01-29  0.347160  0.000000  0.041670  0.000000  0.015564  1.750000   \n",
       "1993-02-01 -0.231440  0.000000  0.000000 -0.010410  0.007782  1.250000   \n",
       "1993-02-02 -0.115720  0.000000  0.000000  0.000000 -0.007792 -0.250000   \n",
       "1993-02-03 -0.086790  0.000000  0.041670 -0.041670 -0.038919 -0.500000   \n",
       "1993-02-04  0.144650  0.000000 -0.041660 -0.031260 -0.046711  0.000000   \n",
       "...              ...       ...       ...       ...       ...       ...   \n",
       "2015-06-25 -2.060012  0.150002 -1.630004 -0.990005 -2.250000  1.270019   \n",
       "2015-06-26 -1.390000  0.550004 -3.509979 -1.080002 -0.800003 -1.900024   \n",
       "2015-06-29 -5.029999  0.090000 -8.290009 -1.209999 -2.419998 -9.620026   \n",
       "2015-06-30  0.279999 -1.710001  0.390014  0.439995 -0.209999 -2.070007   \n",
       "2015-07-01  0.050003 -1.380001 -2.910003  1.180000 -2.099999 -8.719970   \n",
       "\n",
       "                VRTX      HSIC  \n",
       "1993-01-29  0.125000  0.000000  \n",
       "1993-02-01  0.125000  0.000000  \n",
       "1993-02-02  0.000000  0.000000  \n",
       "1993-02-03  0.062500  0.000000  \n",
       "1993-02-04  0.062500  0.000000  \n",
       "...              ...       ...  \n",
       "2015-06-25 -1.919998 -0.080002  \n",
       "2015-06-26 -3.629997  0.440002  \n",
       "2015-06-29 -3.770004 -2.479996  \n",
       "2015-06-30 -0.849999 -1.360001  \n",
       "2015-07-01  2.080001  0.940002  \n",
       "\n",
       "[5647 rows x 517 columns]"
      ]
     },
     "execution_count": 17,
     "metadata": {},
     "output_type": "execute_result"
    }
   ],
   "source": [
    "sp500_px"
   ]
  },
  {
   "cell_type": "code",
   "execution_count": 18,
   "metadata": {
    "ExecuteTime": {
     "end_time": "2022-08-29T09:11:10.641725Z",
     "start_time": "2022-08-29T09:11:10.612804Z"
    }
   },
   "outputs": [
    {
     "data": {
      "text/html": [
       "<div>\n",
       "<style scoped>\n",
       "    .dataframe tbody tr th:only-of-type {\n",
       "        vertical-align: middle;\n",
       "    }\n",
       "\n",
       "    .dataframe tbody tr th {\n",
       "        vertical-align: top;\n",
       "    }\n",
       "\n",
       "    .dataframe thead th {\n",
       "        text-align: right;\n",
       "    }\n",
       "</style>\n",
       "<table border=\"1\" class=\"dataframe\">\n",
       "  <thead>\n",
       "    <tr style=\"text-align: right;\">\n",
       "      <th></th>\n",
       "      <th>sector</th>\n",
       "      <th>sector_label</th>\n",
       "      <th>sub_sector</th>\n",
       "      <th>symbol</th>\n",
       "    </tr>\n",
       "  </thead>\n",
       "  <tbody>\n",
       "    <tr>\n",
       "      <th>0</th>\n",
       "      <td>information_technology</td>\n",
       "      <td>Technology</td>\n",
       "      <td>data_processing_&amp;_outsourced_services</td>\n",
       "      <td>ADS</td>\n",
       "    </tr>\n",
       "    <tr>\n",
       "      <th>1</th>\n",
       "      <td>information_technology</td>\n",
       "      <td>Technology</td>\n",
       "      <td>systems_software</td>\n",
       "      <td>CA</td>\n",
       "    </tr>\n",
       "    <tr>\n",
       "      <th>2</th>\n",
       "      <td>information_technology</td>\n",
       "      <td>Technology</td>\n",
       "      <td>systems_software</td>\n",
       "      <td>MSFT</td>\n",
       "    </tr>\n",
       "    <tr>\n",
       "      <th>3</th>\n",
       "      <td>information_technology</td>\n",
       "      <td>Technology</td>\n",
       "      <td>systems_software</td>\n",
       "      <td>RHT</td>\n",
       "    </tr>\n",
       "    <tr>\n",
       "      <th>4</th>\n",
       "      <td>information_technology</td>\n",
       "      <td>Technology</td>\n",
       "      <td>it_consulting_&amp;_services</td>\n",
       "      <td>CTSH</td>\n",
       "    </tr>\n",
       "    <tr>\n",
       "      <th>...</th>\n",
       "      <td>...</td>\n",
       "      <td>...</td>\n",
       "      <td>...</td>\n",
       "      <td>...</td>\n",
       "    </tr>\n",
       "    <tr>\n",
       "      <th>512</th>\n",
       "      <td>health_care</td>\n",
       "      <td>Health Care</td>\n",
       "      <td>biotechnology</td>\n",
       "      <td>CELG</td>\n",
       "    </tr>\n",
       "    <tr>\n",
       "      <th>513</th>\n",
       "      <td>health_care</td>\n",
       "      <td>Health Care</td>\n",
       "      <td>biotechnology</td>\n",
       "      <td>GILD</td>\n",
       "    </tr>\n",
       "    <tr>\n",
       "      <th>514</th>\n",
       "      <td>health_care</td>\n",
       "      <td>Health Care</td>\n",
       "      <td>biotechnology</td>\n",
       "      <td>REGN</td>\n",
       "    </tr>\n",
       "    <tr>\n",
       "      <th>515</th>\n",
       "      <td>health_care</td>\n",
       "      <td>Health Care</td>\n",
       "      <td>biotechnology</td>\n",
       "      <td>VRTX</td>\n",
       "    </tr>\n",
       "    <tr>\n",
       "      <th>516</th>\n",
       "      <td>health_care</td>\n",
       "      <td>Health Care</td>\n",
       "      <td>health_care_distributors</td>\n",
       "      <td>HSIC</td>\n",
       "    </tr>\n",
       "  </tbody>\n",
       "</table>\n",
       "<p>517 rows × 4 columns</p>\n",
       "</div>"
      ],
      "text/plain": [
       "                     sector sector_label  \\\n",
       "0    information_technology   Technology   \n",
       "1    information_technology   Technology   \n",
       "2    information_technology   Technology   \n",
       "3    information_technology   Technology   \n",
       "4    information_technology   Technology   \n",
       "..                      ...          ...   \n",
       "512             health_care  Health Care   \n",
       "513             health_care  Health Care   \n",
       "514             health_care  Health Care   \n",
       "515             health_care  Health Care   \n",
       "516             health_care  Health Care   \n",
       "\n",
       "                                sub_sector symbol  \n",
       "0    data_processing_&_outsourced_services    ADS  \n",
       "1                         systems_software     CA  \n",
       "2                         systems_software   MSFT  \n",
       "3                         systems_software    RHT  \n",
       "4                 it_consulting_&_services   CTSH  \n",
       "..                                     ...    ...  \n",
       "512                          biotechnology   CELG  \n",
       "513                          biotechnology   GILD  \n",
       "514                          biotechnology   REGN  \n",
       "515                          biotechnology   VRTX  \n",
       "516               health_care_distributors   HSIC  \n",
       "\n",
       "[517 rows x 4 columns]"
      ]
     },
     "execution_count": 18,
     "metadata": {},
     "output_type": "execute_result"
    }
   ],
   "source": [
    "sp500_sym"
   ]
  },
  {
   "cell_type": "code",
   "execution_count": 19,
   "metadata": {
    "ExecuteTime": {
     "end_time": "2022-08-29T09:11:11.642073Z",
     "start_time": "2022-08-29T09:11:10.644720Z"
    }
   },
   "outputs": [
    {
     "data": {
      "text/plain": [
       "<AxesSubplot:>"
      ]
     },
     "execution_count": 19,
     "metadata": {},
     "output_type": "execute_result"
    },
    {
     "data": {
      "image/png": "[encoded data removed]",
      "text/plain": [
       "<Figure size 432x288 with 2 Axes>"
      ]
     },
     "metadata": {
      "needs_background": "light"
     },
     "output_type": "display_data"
    }
   ],
   "source": [
    "# etf 수익 간 상관관계 (히트맵)\n",
    "etfs = sp500_px.loc[sp500_px.index > '2012-07-01', sp500_sym[sp500_sym['sector'] == 'etf']['symbol']]\n",
    "sns.heatmap(etfs.corr(), vmin=-1, vmax=1, cmap=sns.diverging_palette(0,200,as_cmap=True))"
   ]
  },
  {
   "cell_type": "markdown",
   "metadata": {},
   "source": [
    "#### <span style=\"color:dodgerblue\">산점도</span>\n",
    "\n",
    "- 산점도 : 두 변수 사이의 관계를 시각화하는 가장 기본적인 방법"
   ]
  },
  {
   "cell_type": "code",
   "execution_count": 20,
   "metadata": {
    "ExecuteTime": {
     "end_time": "2022-08-29T09:11:12.022064Z",
     "start_time": "2022-08-29T09:11:11.645065Z"
    }
   },
   "outputs": [
    {
     "data": {
      "text/plain": [
       "<matplotlib.lines.Line2D at 0x1daae93af40>"
      ]
     },
     "execution_count": 20,
     "metadata": {},
     "output_type": "execute_result"
    },
    {
     "data": {
      "image/png": "[encoded data removed]",
      "text/plain": [
       "<Figure size 432x288 with 1 Axes>"
      ]
     },
     "metadata": {
      "needs_background": "light"
     },
     "output_type": "display_data"
    }
   ],
   "source": [
    "# 코카콜라와 펩시의 일일 수익 산점도\n",
    "sp500_px = sp500_px[sp500_px.index > '2010-01-01']\n",
    "ax = sp500_px.plot(kind='scatter', x='KO', y='PEP')\n",
    "ax.axhline(0, color='grey', lw=1)\n",
    "ax.axvline(0, color='grey', lw=1)"
   ]
  },
  {
   "cell_type": "markdown",
   "metadata": {},
   "source": [
    "### <span style=\"color:olivedrab\">다변량분석</span>\n",
    "\n",
    "일변량분석 - 평균, 분산\n",
    "\n",
    "이변량분석 - 상관관계\n",
    "\n",
    "다변량분석 : 셋 이상의 변수 분석\n",
    "\n",
    "이변량, 다변량 분석의 형태는 데이터의 특성, 형태에 따라 달라진다!\n",
    "\n",
    "#### <span style=\"color:dodgerblue\">육각형 구간과 등고선 (수치형 VS 수치형)</span>\n",
    "\n",
    "산점도 : 데이터 개수가 많아지면 비효율\n",
    "\n",
    "육각형 구간 : 점으로 표시하지 않고, 기록값을 육각형 모양의 구간들로 나눈 다음, 각 구간에 포함된 기록값의 개수에 따라 색 표시\n",
    "\n",
    "등고선 : 산점도 위에 등고선을 사용하고, 등고선 위의 점들은 밀도를 의미한다.\n",
    "\n",
    "꼭대기로 갈수록 밀도가 높아진다."
   ]
  },
  {
   "cell_type": "code",
   "execution_count": 21,
   "metadata": {
    "ExecuteTime": {
     "end_time": "2022-08-29T09:11:12.052981Z",
     "start_time": "2022-08-29T09:11:12.025057Z"
    }
   },
   "outputs": [
    {
     "data": {
      "text/html": [
       "<div>\n",
       "<style scoped>\n",
       "    .dataframe tbody tr th:only-of-type {\n",
       "        vertical-align: middle;\n",
       "    }\n",
       "\n",
       "    .dataframe tbody tr th {\n",
       "        vertical-align: top;\n",
       "    }\n",
       "\n",
       "    .dataframe thead th {\n",
       "        text-align: right;\n",
       "    }\n",
       "</style>\n",
       "<table border=\"1\" class=\"dataframe\">\n",
       "  <thead>\n",
       "    <tr style=\"text-align: right;\">\n",
       "      <th></th>\n",
       "      <th>TaxAssessedValue</th>\n",
       "      <th>SqFtTotLiving</th>\n",
       "      <th>ZipCode</th>\n",
       "    </tr>\n",
       "  </thead>\n",
       "  <tbody>\n",
       "    <tr>\n",
       "      <th>0</th>\n",
       "      <td>NaN</td>\n",
       "      <td>1730</td>\n",
       "      <td>98117.0</td>\n",
       "    </tr>\n",
       "    <tr>\n",
       "      <th>1</th>\n",
       "      <td>206000.0</td>\n",
       "      <td>1870</td>\n",
       "      <td>98002.0</td>\n",
       "    </tr>\n",
       "    <tr>\n",
       "      <th>2</th>\n",
       "      <td>303000.0</td>\n",
       "      <td>1530</td>\n",
       "      <td>98166.0</td>\n",
       "    </tr>\n",
       "    <tr>\n",
       "      <th>3</th>\n",
       "      <td>361000.0</td>\n",
       "      <td>2000</td>\n",
       "      <td>98108.0</td>\n",
       "    </tr>\n",
       "    <tr>\n",
       "      <th>4</th>\n",
       "      <td>459000.0</td>\n",
       "      <td>3150</td>\n",
       "      <td>98108.0</td>\n",
       "    </tr>\n",
       "  </tbody>\n",
       "</table>\n",
       "</div>"
      ],
      "text/plain": [
       "   TaxAssessedValue  SqFtTotLiving  ZipCode\n",
       "0               NaN           1730  98117.0\n",
       "1          206000.0           1870  98002.0\n",
       "2          303000.0           1530  98166.0\n",
       "3          361000.0           2000  98108.0\n",
       "4          459000.0           3150  98108.0"
      ]
     },
     "execution_count": 21,
     "metadata": {},
     "output_type": "execute_result"
    }
   ],
   "source": [
    "kc_tax.head()"
   ]
  },
  {
   "cell_type": "code",
   "execution_count": 22,
   "metadata": {
    "ExecuteTime": {
     "end_time": "2022-08-29T09:11:12.132770Z",
     "start_time": "2022-08-29T09:11:12.060961Z"
    }
   },
   "outputs": [
    {
     "data": {
      "text/html": [
       "<div>\n",
       "<style scoped>\n",
       "    .dataframe tbody tr th:only-of-type {\n",
       "        vertical-align: middle;\n",
       "    }\n",
       "\n",
       "    .dataframe tbody tr th {\n",
       "        vertical-align: top;\n",
       "    }\n",
       "\n",
       "    .dataframe thead th {\n",
       "        text-align: right;\n",
       "    }\n",
       "</style>\n",
       "<table border=\"1\" class=\"dataframe\">\n",
       "  <thead>\n",
       "    <tr style=\"text-align: right;\">\n",
       "      <th></th>\n",
       "      <th>TaxAssessedValue</th>\n",
       "      <th>SqFtTotLiving</th>\n",
       "      <th>ZipCode</th>\n",
       "    </tr>\n",
       "  </thead>\n",
       "  <tbody>\n",
       "    <tr>\n",
       "      <th>1</th>\n",
       "      <td>206000.0</td>\n",
       "      <td>1870</td>\n",
       "      <td>98002.0</td>\n",
       "    </tr>\n",
       "    <tr>\n",
       "      <th>2</th>\n",
       "      <td>303000.0</td>\n",
       "      <td>1530</td>\n",
       "      <td>98166.0</td>\n",
       "    </tr>\n",
       "    <tr>\n",
       "      <th>3</th>\n",
       "      <td>361000.0</td>\n",
       "      <td>2000</td>\n",
       "      <td>98108.0</td>\n",
       "    </tr>\n",
       "    <tr>\n",
       "      <th>4</th>\n",
       "      <td>459000.0</td>\n",
       "      <td>3150</td>\n",
       "      <td>98108.0</td>\n",
       "    </tr>\n",
       "    <tr>\n",
       "      <th>5</th>\n",
       "      <td>223000.0</td>\n",
       "      <td>1570</td>\n",
       "      <td>98032.0</td>\n",
       "    </tr>\n",
       "    <tr>\n",
       "      <th>...</th>\n",
       "      <td>...</td>\n",
       "      <td>...</td>\n",
       "      <td>...</td>\n",
       "    </tr>\n",
       "    <tr>\n",
       "      <th>498244</th>\n",
       "      <td>375000.0</td>\n",
       "      <td>2230</td>\n",
       "      <td>98056.0</td>\n",
       "    </tr>\n",
       "    <tr>\n",
       "      <th>498245</th>\n",
       "      <td>316000.0</td>\n",
       "      <td>1710</td>\n",
       "      <td>98056.0</td>\n",
       "    </tr>\n",
       "    <tr>\n",
       "      <th>498246</th>\n",
       "      <td>340000.0</td>\n",
       "      <td>1930</td>\n",
       "      <td>98056.0</td>\n",
       "    </tr>\n",
       "    <tr>\n",
       "      <th>498247</th>\n",
       "      <td>132000.0</td>\n",
       "      <td>2930</td>\n",
       "      <td>98056.0</td>\n",
       "    </tr>\n",
       "    <tr>\n",
       "      <th>498248</th>\n",
       "      <td>286000.0</td>\n",
       "      <td>1310</td>\n",
       "      <td>98056.0</td>\n",
       "    </tr>\n",
       "  </tbody>\n",
       "</table>\n",
       "<p>432693 rows × 3 columns</p>\n",
       "</div>"
      ],
      "text/plain": [
       "        TaxAssessedValue  SqFtTotLiving  ZipCode\n",
       "1               206000.0           1870  98002.0\n",
       "2               303000.0           1530  98166.0\n",
       "3               361000.0           2000  98108.0\n",
       "4               459000.0           3150  98108.0\n",
       "5               223000.0           1570  98032.0\n",
       "...                  ...            ...      ...\n",
       "498244          375000.0           2230  98056.0\n",
       "498245          316000.0           1710  98056.0\n",
       "498246          340000.0           1930  98056.0\n",
       "498247          132000.0           2930  98056.0\n",
       "498248          286000.0           1310  98056.0\n",
       "\n",
       "[432693 rows x 3 columns]"
      ]
     },
     "execution_count": 22,
     "metadata": {},
     "output_type": "execute_result"
    }
   ],
   "source": [
    "kc_tax0 = kc_tax.loc[(kc_tax.TaxAssessedValue < 750000) &\n",
    "                     (kc_tax.SqFtTotLiving > 100) &\n",
    "                     (kc_tax.SqFtTotLiving < 3500)]\n",
    "kc_tax0"
   ]
  },
  {
   "cell_type": "code",
   "execution_count": 23,
   "metadata": {
    "ExecuteTime": {
     "end_time": "2022-08-29T09:11:12.812969Z",
     "start_time": "2022-08-29T09:11:12.138755Z"
    }
   },
   "outputs": [
    {
     "data": {
      "image/png": "[encoded data removed]",
      "text/plain": [
       "<Figure size 360x288 with 2 Axes>"
      ]
     },
     "metadata": {
      "needs_background": "light"
     },
     "output_type": "display_data"
    }
   ],
   "source": [
    "# 집의 크기와 과세 평가액을 나타낸 육각형 구간 도표\n",
    "ax = kc_tax0.plot(kind='hexbin', x='SqFtTotLiving', y='TaxAssessedValue', gridsize=30, sharex=False, figsize=(5,4))"
   ]
  },
  {
   "cell_type": "markdown",
   "metadata": {
    "ExecuteTime": {
     "start_time": "2022-08-15T08:56:25.852Z"
    }
   },
   "source": [
    "#### <span style=\"color:dodgerblue\">범주형 vs 범주형</span>\n",
    "\n",
    "- 분할표 : 두 범주형 변수를 요약하는데 효과적 방법, 범주별 빈도수를 기록한 표"
   ]
  },
  {
   "cell_type": "code",
   "execution_count": 24,
   "metadata": {
    "ExecuteTime": {
     "end_time": "2022-08-29T09:11:12.844883Z",
     "start_time": "2022-08-29T09:11:12.816956Z"
    }
   },
   "outputs": [
    {
     "data": {
      "text/html": [
       "<div>\n",
       "<style scoped>\n",
       "    .dataframe tbody tr th:only-of-type {\n",
       "        vertical-align: middle;\n",
       "    }\n",
       "\n",
       "    .dataframe tbody tr th {\n",
       "        vertical-align: top;\n",
       "    }\n",
       "\n",
       "    .dataframe thead th {\n",
       "        text-align: right;\n",
       "    }\n",
       "</style>\n",
       "<table border=\"1\" class=\"dataframe\">\n",
       "  <thead>\n",
       "    <tr style=\"text-align: right;\">\n",
       "      <th></th>\n",
       "      <th>status</th>\n",
       "      <th>grade</th>\n",
       "    </tr>\n",
       "  </thead>\n",
       "  <tbody>\n",
       "    <tr>\n",
       "      <th>0</th>\n",
       "      <td>Fully Paid</td>\n",
       "      <td>B</td>\n",
       "    </tr>\n",
       "    <tr>\n",
       "      <th>1</th>\n",
       "      <td>Charged Off</td>\n",
       "      <td>C</td>\n",
       "    </tr>\n",
       "    <tr>\n",
       "      <th>2</th>\n",
       "      <td>Fully Paid</td>\n",
       "      <td>C</td>\n",
       "    </tr>\n",
       "    <tr>\n",
       "      <th>3</th>\n",
       "      <td>Fully Paid</td>\n",
       "      <td>C</td>\n",
       "    </tr>\n",
       "    <tr>\n",
       "      <th>4</th>\n",
       "      <td>Current</td>\n",
       "      <td>B</td>\n",
       "    </tr>\n",
       "    <tr>\n",
       "      <th>...</th>\n",
       "      <td>...</td>\n",
       "      <td>...</td>\n",
       "    </tr>\n",
       "    <tr>\n",
       "      <th>450956</th>\n",
       "      <td>Current</td>\n",
       "      <td>D</td>\n",
       "    </tr>\n",
       "    <tr>\n",
       "      <th>450957</th>\n",
       "      <td>Current</td>\n",
       "      <td>D</td>\n",
       "    </tr>\n",
       "    <tr>\n",
       "      <th>450958</th>\n",
       "      <td>Current</td>\n",
       "      <td>D</td>\n",
       "    </tr>\n",
       "    <tr>\n",
       "      <th>450959</th>\n",
       "      <td>Current</td>\n",
       "      <td>D</td>\n",
       "    </tr>\n",
       "    <tr>\n",
       "      <th>450960</th>\n",
       "      <td>Fully Paid</td>\n",
       "      <td>A</td>\n",
       "    </tr>\n",
       "  </tbody>\n",
       "</table>\n",
       "<p>450961 rows × 2 columns</p>\n",
       "</div>"
      ],
      "text/plain": [
       "             status grade\n",
       "0        Fully Paid     B\n",
       "1       Charged Off     C\n",
       "2        Fully Paid     C\n",
       "3        Fully Paid     C\n",
       "4           Current     B\n",
       "...             ...   ...\n",
       "450956      Current     D\n",
       "450957      Current     D\n",
       "450958      Current     D\n",
       "450959      Current     D\n",
       "450960   Fully Paid     A\n",
       "\n",
       "[450961 rows x 2 columns]"
      ]
     },
     "execution_count": 24,
     "metadata": {},
     "output_type": "execute_result"
    }
   ],
   "source": [
    "lc_loans"
   ]
  },
  {
   "cell_type": "code",
   "execution_count": 25,
   "metadata": {
    "ExecuteTime": {
     "end_time": "2022-08-29T09:11:13.240830Z",
     "start_time": "2022-08-29T09:11:12.848871Z"
    }
   },
   "outputs": [
    {
     "data": {
      "text/html": [
       "<div>\n",
       "<style scoped>\n",
       "    .dataframe tbody tr th:only-of-type {\n",
       "        vertical-align: middle;\n",
       "    }\n",
       "\n",
       "    .dataframe tbody tr th {\n",
       "        vertical-align: top;\n",
       "    }\n",
       "\n",
       "    .dataframe thead th {\n",
       "        text-align: right;\n",
       "    }\n",
       "</style>\n",
       "<table border=\"1\" class=\"dataframe\">\n",
       "  <thead>\n",
       "    <tr style=\"text-align: right;\">\n",
       "      <th>status</th>\n",
       "      <th>Charged Off</th>\n",
       "      <th>Current</th>\n",
       "      <th>Fully Paid</th>\n",
       "      <th>Late</th>\n",
       "      <th>All</th>\n",
       "    </tr>\n",
       "    <tr>\n",
       "      <th>grade</th>\n",
       "      <th></th>\n",
       "      <th></th>\n",
       "      <th></th>\n",
       "      <th></th>\n",
       "      <th></th>\n",
       "    </tr>\n",
       "  </thead>\n",
       "  <tbody>\n",
       "    <tr>\n",
       "      <th>A</th>\n",
       "      <td>1562</td>\n",
       "      <td>50051</td>\n",
       "      <td>20408</td>\n",
       "      <td>469</td>\n",
       "      <td>72490</td>\n",
       "    </tr>\n",
       "    <tr>\n",
       "      <th>B</th>\n",
       "      <td>5302</td>\n",
       "      <td>93852</td>\n",
       "      <td>31160</td>\n",
       "      <td>2056</td>\n",
       "      <td>132370</td>\n",
       "    </tr>\n",
       "    <tr>\n",
       "      <th>C</th>\n",
       "      <td>6023</td>\n",
       "      <td>88928</td>\n",
       "      <td>23147</td>\n",
       "      <td>2777</td>\n",
       "      <td>120875</td>\n",
       "    </tr>\n",
       "    <tr>\n",
       "      <th>D</th>\n",
       "      <td>5007</td>\n",
       "      <td>53281</td>\n",
       "      <td>13681</td>\n",
       "      <td>2308</td>\n",
       "      <td>74277</td>\n",
       "    </tr>\n",
       "    <tr>\n",
       "      <th>E</th>\n",
       "      <td>2842</td>\n",
       "      <td>24639</td>\n",
       "      <td>5949</td>\n",
       "      <td>1374</td>\n",
       "      <td>34804</td>\n",
       "    </tr>\n",
       "    <tr>\n",
       "      <th>F</th>\n",
       "      <td>1526</td>\n",
       "      <td>8444</td>\n",
       "      <td>2328</td>\n",
       "      <td>606</td>\n",
       "      <td>12904</td>\n",
       "    </tr>\n",
       "    <tr>\n",
       "      <th>G</th>\n",
       "      <td>409</td>\n",
       "      <td>1990</td>\n",
       "      <td>643</td>\n",
       "      <td>199</td>\n",
       "      <td>3241</td>\n",
       "    </tr>\n",
       "    <tr>\n",
       "      <th>All</th>\n",
       "      <td>22671</td>\n",
       "      <td>321185</td>\n",
       "      <td>97316</td>\n",
       "      <td>9789</td>\n",
       "      <td>450961</td>\n",
       "    </tr>\n",
       "  </tbody>\n",
       "</table>\n",
       "</div>"
      ],
      "text/plain": [
       "status  Charged Off  Current  Fully Paid  Late     All\n",
       "grade                                                 \n",
       "A              1562    50051       20408   469   72490\n",
       "B              5302    93852       31160  2056  132370\n",
       "C              6023    88928       23147  2777  120875\n",
       "D              5007    53281       13681  2308   74277\n",
       "E              2842    24639        5949  1374   34804\n",
       "F              1526     8444        2328   606   12904\n",
       "G               409     1990         643   199    3241\n",
       "All           22671   321185       97316  9789  450961"
      ]
     },
     "execution_count": 25,
     "metadata": {},
     "output_type": "execute_result"
    }
   ],
   "source": [
    "crosstab = lc_loans.pivot_table(index='grade', columns='status', aggfunc=lambda x: len(x), margins=True)\n",
    "crosstab"
   ]
  },
  {
   "cell_type": "code",
   "execution_count": 26,
   "metadata": {
    "ExecuteTime": {
     "end_time": "2022-08-29T09:11:13.271750Z",
     "start_time": "2022-08-29T09:11:13.242825Z"
    }
   },
   "outputs": [
    {
     "data": {
      "text/html": [
       "<div>\n",
       "<style scoped>\n",
       "    .dataframe tbody tr th:only-of-type {\n",
       "        vertical-align: middle;\n",
       "    }\n",
       "\n",
       "    .dataframe tbody tr th {\n",
       "        vertical-align: top;\n",
       "    }\n",
       "\n",
       "    .dataframe thead th {\n",
       "        text-align: right;\n",
       "    }\n",
       "</style>\n",
       "<table border=\"1\" class=\"dataframe\">\n",
       "  <thead>\n",
       "    <tr style=\"text-align: right;\">\n",
       "      <th>status</th>\n",
       "      <th>Charged Off</th>\n",
       "      <th>Current</th>\n",
       "      <th>Fully Paid</th>\n",
       "      <th>Late</th>\n",
       "      <th>All</th>\n",
       "    </tr>\n",
       "    <tr>\n",
       "      <th>grade</th>\n",
       "      <th></th>\n",
       "      <th></th>\n",
       "      <th></th>\n",
       "      <th></th>\n",
       "      <th></th>\n",
       "    </tr>\n",
       "  </thead>\n",
       "  <tbody>\n",
       "    <tr>\n",
       "      <th>A</th>\n",
       "      <td>0.021548</td>\n",
       "      <td>0.690454</td>\n",
       "      <td>0.281528</td>\n",
       "      <td>0.006470</td>\n",
       "      <td>0.160746</td>\n",
       "    </tr>\n",
       "    <tr>\n",
       "      <th>B</th>\n",
       "      <td>0.040054</td>\n",
       "      <td>0.709013</td>\n",
       "      <td>0.235401</td>\n",
       "      <td>0.015532</td>\n",
       "      <td>0.293529</td>\n",
       "    </tr>\n",
       "    <tr>\n",
       "      <th>C</th>\n",
       "      <td>0.049828</td>\n",
       "      <td>0.735702</td>\n",
       "      <td>0.191495</td>\n",
       "      <td>0.022974</td>\n",
       "      <td>0.268039</td>\n",
       "    </tr>\n",
       "    <tr>\n",
       "      <th>D</th>\n",
       "      <td>0.067410</td>\n",
       "      <td>0.717328</td>\n",
       "      <td>0.184189</td>\n",
       "      <td>0.031073</td>\n",
       "      <td>0.164708</td>\n",
       "    </tr>\n",
       "    <tr>\n",
       "      <th>E</th>\n",
       "      <td>0.081657</td>\n",
       "      <td>0.707936</td>\n",
       "      <td>0.170929</td>\n",
       "      <td>0.039478</td>\n",
       "      <td>0.077177</td>\n",
       "    </tr>\n",
       "    <tr>\n",
       "      <th>F</th>\n",
       "      <td>0.118258</td>\n",
       "      <td>0.654371</td>\n",
       "      <td>0.180409</td>\n",
       "      <td>0.046962</td>\n",
       "      <td>0.028614</td>\n",
       "    </tr>\n",
       "    <tr>\n",
       "      <th>G</th>\n",
       "      <td>0.126196</td>\n",
       "      <td>0.614008</td>\n",
       "      <td>0.198396</td>\n",
       "      <td>0.061401</td>\n",
       "      <td>0.007187</td>\n",
       "    </tr>\n",
       "  </tbody>\n",
       "</table>\n",
       "</div>"
      ],
      "text/plain": [
       "status  Charged Off   Current  Fully Paid      Late       All\n",
       "grade                                                        \n",
       "A          0.021548  0.690454    0.281528  0.006470  0.160746\n",
       "B          0.040054  0.709013    0.235401  0.015532  0.293529\n",
       "C          0.049828  0.735702    0.191495  0.022974  0.268039\n",
       "D          0.067410  0.717328    0.184189  0.031073  0.164708\n",
       "E          0.081657  0.707936    0.170929  0.039478  0.077177\n",
       "F          0.118258  0.654371    0.180409  0.046962  0.028614\n",
       "G          0.126196  0.614008    0.198396  0.061401  0.007187"
      ]
     },
     "execution_count": 26,
     "metadata": {},
     "output_type": "execute_result"
    }
   ],
   "source": [
    "# 대출 등급과 상황에 대한 분할표\n",
    "df = crosstab.loc['A':'G',:].copy()\n",
    "df.loc[:,'Charged Off':'Late'] = df.loc[:, 'Charged Off':'Late'].div(df['All'], axis=0)\n",
    "df['All'] = df['All'] / sum(df['All'])\n",
    "perc_crosstab = df\n",
    "perc_crosstab"
   ]
  },
  {
   "cell_type": "markdown",
   "metadata": {},
   "source": [
    "#### <span style=\"color:dodgerblue\">범주형 vs 수치형</span>\n",
    "\n",
    "- 상자그림 : 범주형 변수에 따라 분류된 수치형 변수의 분포를 시각화\n",
    "- 바이올린 도표 : 상자그림을 보완한 형태로, 밀도추정 결과를 동시에 시각화해 상자그림에서 보이지 않는 데이터 분포 파악 가능"
   ]
  },
  {
   "cell_type": "code",
   "execution_count": 27,
   "metadata": {
    "ExecuteTime": {
     "end_time": "2022-08-29T09:11:13.303663Z",
     "start_time": "2022-08-29T09:11:13.274743Z"
    }
   },
   "outputs": [
    {
     "data": {
      "text/html": [
       "<div>\n",
       "<style scoped>\n",
       "    .dataframe tbody tr th:only-of-type {\n",
       "        vertical-align: middle;\n",
       "    }\n",
       "\n",
       "    .dataframe tbody tr th {\n",
       "        vertical-align: top;\n",
       "    }\n",
       "\n",
       "    .dataframe thead th {\n",
       "        text-align: right;\n",
       "    }\n",
       "</style>\n",
       "<table border=\"1\" class=\"dataframe\">\n",
       "  <thead>\n",
       "    <tr style=\"text-align: right;\">\n",
       "      <th></th>\n",
       "      <th>pct_carrier_delay</th>\n",
       "      <th>pct_atc_delay</th>\n",
       "      <th>pct_weather_delay</th>\n",
       "      <th>airline</th>\n",
       "    </tr>\n",
       "  </thead>\n",
       "  <tbody>\n",
       "    <tr>\n",
       "      <th>0</th>\n",
       "      <td>8.153226</td>\n",
       "      <td>1.971774</td>\n",
       "      <td>0.762097</td>\n",
       "      <td>American</td>\n",
       "    </tr>\n",
       "    <tr>\n",
       "      <th>1</th>\n",
       "      <td>5.959924</td>\n",
       "      <td>3.706107</td>\n",
       "      <td>1.585878</td>\n",
       "      <td>American</td>\n",
       "    </tr>\n",
       "    <tr>\n",
       "      <th>2</th>\n",
       "      <td>7.157270</td>\n",
       "      <td>2.706231</td>\n",
       "      <td>2.026706</td>\n",
       "      <td>American</td>\n",
       "    </tr>\n",
       "    <tr>\n",
       "      <th>3</th>\n",
       "      <td>12.100000</td>\n",
       "      <td>11.033333</td>\n",
       "      <td>0.000000</td>\n",
       "      <td>American</td>\n",
       "    </tr>\n",
       "    <tr>\n",
       "      <th>4</th>\n",
       "      <td>7.333333</td>\n",
       "      <td>3.365591</td>\n",
       "      <td>1.774194</td>\n",
       "      <td>American</td>\n",
       "    </tr>\n",
       "    <tr>\n",
       "      <th>...</th>\n",
       "      <td>...</td>\n",
       "      <td>...</td>\n",
       "      <td>...</td>\n",
       "      <td>...</td>\n",
       "    </tr>\n",
       "    <tr>\n",
       "      <th>33463</th>\n",
       "      <td>6.186422</td>\n",
       "      <td>8.798491</td>\n",
       "      <td>1.651940</td>\n",
       "      <td>Southwest</td>\n",
       "    </tr>\n",
       "    <tr>\n",
       "      <th>33464</th>\n",
       "      <td>9.522167</td>\n",
       "      <td>3.591133</td>\n",
       "      <td>0.261084</td>\n",
       "      <td>Southwest</td>\n",
       "    </tr>\n",
       "    <tr>\n",
       "      <th>33465</th>\n",
       "      <td>9.164179</td>\n",
       "      <td>2.664179</td>\n",
       "      <td>0.343284</td>\n",
       "      <td>Southwest</td>\n",
       "    </tr>\n",
       "    <tr>\n",
       "      <th>33466</th>\n",
       "      <td>5.152293</td>\n",
       "      <td>1.964520</td>\n",
       "      <td>0.122817</td>\n",
       "      <td>Southwest</td>\n",
       "    </tr>\n",
       "    <tr>\n",
       "      <th>33467</th>\n",
       "      <td>3.964393</td>\n",
       "      <td>1.700479</td>\n",
       "      <td>0.019449</td>\n",
       "      <td>Southwest</td>\n",
       "    </tr>\n",
       "  </tbody>\n",
       "</table>\n",
       "<p>33468 rows × 4 columns</p>\n",
       "</div>"
      ],
      "text/plain": [
       "       pct_carrier_delay  pct_atc_delay  pct_weather_delay    airline\n",
       "0               8.153226       1.971774           0.762097   American\n",
       "1               5.959924       3.706107           1.585878   American\n",
       "2               7.157270       2.706231           2.026706   American\n",
       "3              12.100000      11.033333           0.000000   American\n",
       "4               7.333333       3.365591           1.774194   American\n",
       "...                  ...            ...                ...        ...\n",
       "33463           6.186422       8.798491           1.651940  Southwest\n",
       "33464           9.522167       3.591133           0.261084  Southwest\n",
       "33465           9.164179       2.664179           0.343284  Southwest\n",
       "33466           5.152293       1.964520           0.122817  Southwest\n",
       "33467           3.964393       1.700479           0.019449  Southwest\n",
       "\n",
       "[33468 rows x 4 columns]"
      ]
     },
     "execution_count": 27,
     "metadata": {},
     "output_type": "execute_result"
    }
   ],
   "source": [
    "airline_stats"
   ]
  },
  {
   "cell_type": "code",
   "execution_count": 28,
   "metadata": {
    "ExecuteTime": {
     "end_time": "2022-08-29T09:11:13.717567Z",
     "start_time": "2022-08-29T09:11:13.306657Z"
    }
   },
   "outputs": [
    {
     "data": {
      "text/plain": [
       "Text(0.5, 0.98, '')"
      ]
     },
     "execution_count": 28,
     "metadata": {},
     "output_type": "execute_result"
    },
    {
     "data": {
      "image/png": "[encoded data removed]",
      "text/plain": [
       "<Figure size 432x288 with 1 Axes>"
      ]
     },
     "metadata": {
      "needs_background": "light"
     },
     "output_type": "display_data"
    }
   ],
   "source": [
    "# 항공기 지연 비율 상자그림\n",
    "ax = airline_stats.boxplot(by='airline', column='pct_carrier_delay')\n",
    "ax.set_xlabel('')\n",
    "ax.set_ylabel('Daily % of Delayed Flights')\n",
    "plt.suptitle('')"
   ]
  },
  {
   "cell_type": "code",
   "execution_count": 29,
   "metadata": {
    "ExecuteTime": {
     "end_time": "2022-08-29T09:11:14.209263Z",
     "start_time": "2022-08-29T09:11:13.719562Z"
    }
   },
   "outputs": [
    {
     "name": "stderr",
     "output_type": "stream",
     "text": [
      "C:\\Users\\kms10\\anaconda3\\lib\\site-packages\\seaborn\\_decorators.py:36: FutureWarning: Pass the following variables as keyword args: x, y. From version 0.12, the only valid positional argument will be `data`, and passing other arguments without an explicit keyword will result in an error or misinterpretation.\n",
      "  warnings.warn(\n"
     ]
    },
    {
     "data": {
      "text/plain": [
       "Text(0, 0.5, 'Daily % of Delayed Flights')"
      ]
     },
     "execution_count": 29,
     "metadata": {},
     "output_type": "execute_result"
    },
    {
     "data": {
      "image/png": "[encoded data removed]",
      "text/plain": [
       "<Figure size 432x288 with 1 Axes>"
      ]
     },
     "metadata": {
      "needs_background": "light"
     },
     "output_type": "display_data"
    }
   ],
   "source": [
    "ax = sns.violinplot(airline_stats.airline, airline_stats.pct_carrier_delay, inner='quartile', color='white')\n",
    "ax.set_xlabel('')\n",
    "ax.set_ylabel('Daily % of Delayed Flights')"
   ]
  },
  {
   "cell_type": "markdown",
   "metadata": {},
   "source": [
    "### <span style=\"color:olivedrab\">결론</span>\n",
    "\n",
    "존 투키에 의해 시작된 탐색적 데이터 분석 (EDA) 은 데이터 과학 분야에 초석\n",
    "\n",
    "- 데이터를 다루는 모든 프로젝트에서 가장 우선적이며 가장 중요한 과정\n",
    "\n",
    "- 데이터를 들여보고, 요약, 시각화하는 것을 통해 프로젝트에 대한 가치 있는 통찰과 이해를 해야 한다!"
   ]
  },
  {
   "cell_type": "markdown",
   "metadata": {},
   "source": [
    "## 데이터와 표본분포"
   ]
  },
  {
   "cell_type": "markdown",
   "metadata": {},
   "source": [
    "빅데이터 시대가 되어도 다양한 데이터를 효과적으로 다루고, 데이터 편향을 최소화하기 위해 **`표본추출`**은 여전히 중요하다!"
   ]
  },
  {
   "cell_type": "markdown",
   "metadata": {},
   "source": [
    "### <span style=\"color:olivedrab\">임의표본추출과 표본편향</span>\n",
    "\n",
    "- **`표본`** : 더 큰 데이터 집합 (모집단) 으로부터 얻은 데이터의 부분집합\n",
    "\n",
    "- **`임의표본추출`** : 모집단 내의 선택 가능한 원소들을 무작위로 추출하는 과정 (모든 원소들이 동일한 확률로 추출)\n",
    "\n",
    "- **`단순임의표본`**: 임의표본추출에 의해 얻은 샘플\n",
    "\n",
    "재추출방법 : **`복원추출`**, **`비복원추출`**\n",
    "\n",
    "샘플 기반의 추정, 모델링에서 데이터 품질은 데이터 양보다 중요함\n",
    "\n",
    "데이터 품질 : 완결성, 형식의 일관성, 깨끗함 및 각 데이터 값의 정확성\n",
    "\n",
    "대표성에 대한 대표적 사례\n",
    "- 리터러리 다이제스트 vs 조지 갤럽\n",
    "    - 리터러리 다이제스트는 1000만명에게 투표 but, 대선 예측 실패\n",
    "    - 조지 갤럽은 단 2000명에게 투표, 대선 예측 성공\n",
    "    - 리터러리 다이제스트는 선정 방식보다 수를 늘리는데 집중 -> 사회경제적 지위가 높은 사람들을 조사 대상으로 한 결과, **`표본편향`** 발생\n",
    "    - **`비임의`** : 모집단과 표본 사이의 차이가 유의미할 만큼 큼"
   ]
  },
  {
   "cell_type": "markdown",
   "metadata": {},
   "source": [
    "#### <span style=\"color:dodgerblue\">편향</span>\n",
    "\n",
    "임의표본추출로 인한 오류와 편향으로 인한 오류를 구분해야 한다!\n",
    "\n",
    "- 임의표본추출로 인한 오류 : 모든 방향에서 오차 발생\n",
    "- 편향으로 인한 오류 : 특정 방향에서 오차 발생\n",
    "\n",
    "#### <span style=\"color:dodgerblue\">임의 선택</span>\n",
    "\n",
    "조지 갤럽은 표본편향 문제를 해소하여 미국 유권자를 대표하는 표본을 얻기 위해, 과학적으로 조사자를 선정함\n",
    "- 핵심 : 임의표본추출을 통해 대표성 담보\n",
    "1. 접근 가능한 모집단을 적절하게 정의하는게 중요함\n",
    "2. 표본추출 절차 결정\n",
    "\n",
    "- **`층화표본추출`** : 모집단을 여러 층으로 나누고, 각 층에서 무작위로 샘플 추출\n",
    "    - 대표성을 담보하지 못할 가능성이 있는 단순임의표본 보완"
   ]
  },
  {
   "cell_type": "markdown",
   "metadata": {},
   "source": [
    "### <span style=\"color:olivedrab\">선택편향</span>\n",
    "\n",
    "- **`선택편향`** : 데이터를 의식적이든 무의식적이든 선택적으로 고르는 관행 -> 오해의 소지가 있거나 단편적인 결론 발생\n",
    "\n",
    "- **`데이터 스누핑`** : 갖고 있는 데이터를 통해 결론에 이르는 것이 아닌, 원하는 결과를 도출하기 위해 데이터를 얻는 행위\n",
    "\n",
    "데이터를 반복적으로 조사하는 것은 데이터 과학에서 중요한 가치 명제이므로 선택편향에 대해 조심해야 한다!\n",
    "\n",
    "선택편향의 형태\n",
    "1. 방대한 검색 효과\n",
    "    - 큰 데이터 집합으로 계속해서 모델을 설계하고, 질문을 던지다 보면 흥미로운 것을 발견하게 된다.\n",
    "    - 이것이 정말 의미 있는 결과인가? 우연히 얻은 예외의 경우가 아닌가?\n",
    "    - **둘 이상의 홀드아웃 세트 이용 (목푯값 섞기)**\n",
    "2. 비임의표본추출\n",
    "3. 데이터 체리 피킹"
   ]
  },
  {
   "cell_type": "markdown",
   "metadata": {},
   "source": [
    "#### <span style=\"color:dodgerblue\">평균으로의 회귀</span>\n",
    "\n",
    "주어진 어떤 변수를 연속적으로 측정했을 때 나타나는 현상\n",
    "\n",
    "예외적인 경우가 관찰되면 그 이후에는 평균 정도의 경우가 관찰되는 경향이 있음\n",
    "\n",
    "일종의 선택편향으로 인해 발생함\n",
    "\n",
    "ex) 신인 선수의 2년차 징크스"
   ]
  },
  {
   "cell_type": "markdown",
   "metadata": {},
   "source": [
    "### <span style=\"color:olivedrab\">통계학에서의 표본분포</span>\n",
    "\n",
    "- **`표본분포`** : 하나의 동일한 모집단에서 얻은 여러 표본에 대한 통계량의 분포\n",
    "\n",
    "추출한 표본에 따라 결과가 다를 수 있다. 표본에 따라 결과가 얼마나 달라질지에 관심 (**표본의 변동성**)\n",
    "\n",
    "보통의 경우, 표본이 클수록 표본통계량의 분포는 좁아짐\n"
   ]
  },
  {
   "cell_type": "markdown",
   "metadata": {},
   "source": [
    "#### <span style=\"color:dodgerblue\">중심극한정리</span>\n",
    "\n",
    "모집단이 정규분포가 아니더라도, 표본의 크기가 충분하고 데이터가 정규성을 크게 이탈하지 않는 경우, 여러 표본에서 추출한 평균은 종 모양의 정규곡선을 따른다.\n",
    "\n",
    "통계학에서는 중요한 개념, 데이터 과학에서는 부트스트랩을 사용하므로 덜 중요한 개념\n",
    "\n",
    "#### <span style=\"color:dodgerblue\">표준오차</span>\n",
    "\n",
    "표본분포의 변동성을 의미하는 단일 측정 지표\n",
    "\n",
    "표본 값들의 표준편차 s / 표본크기 n의 제곱근\n",
    "\n",
    "표본크기가 커지면 표준오차가 감소\n",
    "- n 제곱근의 법칙\n",
    "- 표준오차가 2배로 감소하면 표본크기는 4배로 증가시켜야 한다.\n",
    "\n",
    "표준오차를 측정할 때 고려할 사항\n",
    "1. 모집단에서 완전히 새로운 샘플들을 많이 수집해야 함\n",
    "2. 각각의 새 샘플에 대해 통계량 계산\n",
    "3. 통계량의 표준편차를 계산하고, 표준오차의 추정치로 사용\n",
    "\n",
    "현대 통계에서 부트스트랩은 표준오차를 추정하는 표준 방법\n",
    "\n",
    "- 표준편차 vs 표준오차\n",
    "    - 표준편차 : 개별 데이터 포인트의 변동성\n",
    "    - 표준오차 : 표본 측정 지표의 변동성"
   ]
  },
  {
   "cell_type": "markdown",
   "metadata": {},
   "source": [
    "### <span style=\"color:olivedrab\">부트스트랩</span>\n",
    "\n",
    "통계량, 모델 파라미터의 표본분포를 추정하는 쉽고 효과적인 방법\n",
    "\n",
    "현재 있는 표본에서 추가적으로 표본을 복원추출하고 각 표본에 대한 통계량과 모델을 다시 계산함\n",
    "\n",
    "뽑을 때마다 각 원소가 뽑힐 확률은 유지하면서, 무한한 크기의 모집단 생성 가능\n",
    "\n",
    "**크기 n의 샘플의 평균을 구하는 부트스트랩 재표본추출 알고리즘**\n",
    "1. 샘플 값을 하나 뽑아서 기록하고 다시 복원시킨다.\n",
    "2. n번 반복한다.\n",
    "3. 재표본추출된 값의 평균을 기록한다.\n",
    "4. 1~3단계를 R번 반복\n",
    "5. R개의 결과를 사용하여\n",
    "    1) 표준편차 계산\n",
    "    2) 히스토그램, 상자그림 시각화\n",
    "    3) 신뢰구간 계산\n",
    "    \n",
    "**배깅** : 여러 부트스트랩 샘플로 여러 의사 결정 트리 사용"
   ]
  },
  {
   "cell_type": "code",
   "execution_count": 30,
   "metadata": {
    "ExecuteTime": {
     "end_time": "2022-08-29T09:11:14.224224Z",
     "start_time": "2022-08-29T09:11:14.211256Z"
    },
    "scrolled": false
   },
   "outputs": [
    {
     "data": {
      "text/html": [
       "<div>\n",
       "<style scoped>\n",
       "    .dataframe tbody tr th:only-of-type {\n",
       "        vertical-align: middle;\n",
       "    }\n",
       "\n",
       "    .dataframe tbody tr th {\n",
       "        vertical-align: top;\n",
       "    }\n",
       "\n",
       "    .dataframe thead th {\n",
       "        text-align: right;\n",
       "    }\n",
       "</style>\n",
       "<table border=\"1\" class=\"dataframe\">\n",
       "  <thead>\n",
       "    <tr style=\"text-align: right;\">\n",
       "      <th></th>\n",
       "      <th>x</th>\n",
       "    </tr>\n",
       "  </thead>\n",
       "  <tbody>\n",
       "    <tr>\n",
       "      <th>0</th>\n",
       "      <td>67000</td>\n",
       "    </tr>\n",
       "    <tr>\n",
       "      <th>1</th>\n",
       "      <td>52000</td>\n",
       "    </tr>\n",
       "    <tr>\n",
       "      <th>2</th>\n",
       "      <td>100000</td>\n",
       "    </tr>\n",
       "    <tr>\n",
       "      <th>3</th>\n",
       "      <td>78762</td>\n",
       "    </tr>\n",
       "    <tr>\n",
       "      <th>4</th>\n",
       "      <td>37041</td>\n",
       "    </tr>\n",
       "    <tr>\n",
       "      <th>...</th>\n",
       "      <td>...</td>\n",
       "    </tr>\n",
       "    <tr>\n",
       "      <th>49995</th>\n",
       "      <td>40000</td>\n",
       "    </tr>\n",
       "    <tr>\n",
       "      <th>49996</th>\n",
       "      <td>54000</td>\n",
       "    </tr>\n",
       "    <tr>\n",
       "      <th>49997</th>\n",
       "      <td>50000</td>\n",
       "    </tr>\n",
       "    <tr>\n",
       "      <th>49998</th>\n",
       "      <td>82000</td>\n",
       "    </tr>\n",
       "    <tr>\n",
       "      <th>49999</th>\n",
       "      <td>70000</td>\n",
       "    </tr>\n",
       "  </tbody>\n",
       "</table>\n",
       "<p>50000 rows × 1 columns</p>\n",
       "</div>"
      ],
      "text/plain": [
       "            x\n",
       "0       67000\n",
       "1       52000\n",
       "2      100000\n",
       "3       78762\n",
       "4       37041\n",
       "...       ...\n",
       "49995   40000\n",
       "49996   54000\n",
       "49997   50000\n",
       "49998   82000\n",
       "49999   70000\n",
       "\n",
       "[50000 rows x 1 columns]"
      ]
     },
     "execution_count": 30,
     "metadata": {},
     "output_type": "execute_result"
    }
   ],
   "source": [
    "loans_income"
   ]
  },
  {
   "cell_type": "code",
   "execution_count": 31,
   "metadata": {
    "ExecuteTime": {
     "end_time": "2022-08-29T09:11:17.332977Z",
     "start_time": "2022-08-29T09:11:14.227216Z"
    }
   },
   "outputs": [
    {
     "name": "stdout",
     "output_type": "stream",
     "text": [
      "부트스트랩 통계량 : \n",
      "original : x    62000.0\n",
      "dtype: float64\n",
      "bias : x   -72.1635\n",
      "dtype: float64\n",
      "std. error : 202.03824135227154\n",
      "0      x    62000.0\n",
      "dtype: float64\n",
      "1      x    62000.0\n",
      "dtype: float64\n",
      "2      x    61500.0\n",
      "dtype: float64\n",
      "3      x    62000.0\n",
      "dtype: float64\n",
      "4      x    62000.0\n",
      "dtype: float64\n",
      "                  ...             \n",
      "995    x    62000.0\n",
      "dtype: float64\n",
      "996    x    62000.0\n",
      "dtype: float64\n",
      "997    x    62000.0\n",
      "dtype: float64\n",
      "998    x    61402.0\n",
      "dtype: float64\n",
      "999    x    62000.0\n",
      "dtype: float64\n",
      "Length: 1000, dtype: object\n"
     ]
    }
   ],
   "source": [
    "# 부트스트랩을 통해 표준오차 계산\n",
    "from sklearn.utils import resample\n",
    "\n",
    "results = []\n",
    "for nrepeat in range(1000):\n",
    "    sample = resample(loans_income)\n",
    "    results.append(sample.median())\n",
    "results = pd.Series(results)\n",
    "print('부트스트랩 통계량 : ')\n",
    "print(f'original : {loans_income.median()}')\n",
    "print(f'bias : {results.mean() - loans_income.median()}')\n",
    "print(f'std. error : {results.std()}')\n",
    "print(results)"
   ]
  },
  {
   "cell_type": "markdown",
   "metadata": {},
   "source": [
    "### <span style=\"color:olivedrab\">신뢰구간</span>\n",
    "\n",
    "단일 수치 (점추정) 가 아닌 범위로 추정치 제시\n",
    "\n",
    "90%, 95%와 같이 항상 백분율로 표현되는 포함 수준과 함께 제시\n",
    "\n",
    "90% 신뢰구간 - 표본통계량의 부트스트랩 표본분포의 90%를 포함하는 구간\n",
    "\n",
    "표본크기 n과 관심 있는 표본통계량이 주어졌을 때의 부트스트랩 신뢰구간 구하는 법\n",
    "1. 데이터에서 복원추출 방식으로 크기 n인 표본을 뽑는다.\n",
    "2. 재표본추출한 표본에 대해 원하는 통계량 기록\n",
    "3. 1~2단계 R번 반복\n",
    "4. x% 신뢰구간을 구하기 위해, R개의 재표본 결과의 분포 양쪽 끝에서 [(100-x)/2]% 잘라냄\n",
    "5. 절단한 점들은 x% 부트스트랩 신뢰구간의 양 끝점\n",
    "\n",
    "- **신뢰수준** : 신뢰구간과 관련된 백분율\n",
    "\n",
    "신뢰수준이 높을수록 구간이 더 넓어진다.\n",
    "(불확실성 증가)\n",
    "\n",
    "표본이 작을수록 구간이 넓어진다.\n",
    "(불확실성 증가)"
   ]
  },
  {
   "cell_type": "markdown",
   "metadata": {},
   "source": [
    "### <span style=\"color:olivedrab\">정규분포</span>\n",
    "\n",
    "정규분포는 통계의 역사적 발전에 필수적인 개념\n",
    "\n",
    "데이터의 68%는 평균의 표준편차 내에 속한다.\n",
    "\n",
    "95%는 표준편차 두배수 내에 속한다.\n",
    "\n",
    "#### <span style=\"color:dodgerblue\">표준정규분포와 QQ 그림</span>\n",
    "\n",
    "**표준정규분포** : x축의 단위가 평균의 표준편차로 표현되는 정규분포\n",
    "\n",
    "데이터에서 평균을 빼고 표준편차로 나누는 과정 (**정규화, 표준화**) 를 통해 표준정규분포와 같은 척도로 변환\n",
    "\n",
    "표준화를 통해 변환한 값 : **z 점수**"
   ]
  },
  {
   "cell_type": "code",
   "execution_count": 32,
   "metadata": {
    "ExecuteTime": {
     "end_time": "2022-08-29T09:11:17.619215Z",
     "start_time": "2022-08-29T09:11:17.335967Z"
    }
   },
   "outputs": [
    {
     "data": {
      "text/plain": [
       "((array([-2.46203784, -2.12570747, -1.93122778, -1.79044653, -1.67819304,\n",
       "         -1.58381122, -1.50174123, -1.42869743, -1.36256869, -1.30191411,\n",
       "         -1.24570419, -1.19317644, -1.14374949, -1.09696931, -1.05247413,\n",
       "         -1.00997067, -0.96921765, -0.93001393, -0.89218993, -0.85560121,\n",
       "         -0.82012357, -0.78564937, -0.75208458, -0.71934648, -0.68736185,\n",
       "         -0.65606548, -0.62539893, -0.59530962, -0.56574992, -0.53667655,\n",
       "         -0.50804994, -0.47983378, -0.45199463, -0.42450149, -0.39732558,\n",
       "         -0.37044003, -0.34381966, -0.31744076, -0.29128096, -0.26531902,\n",
       "         -0.23953472, -0.21390872, -0.18842244, -0.16305799, -0.13779803,\n",
       "         -0.1126257 , -0.08752455, -0.06247843, -0.03747145, -0.01248789,\n",
       "          0.01248789,  0.03747145,  0.06247843,  0.08752455,  0.1126257 ,\n",
       "          0.13779803,  0.16305799,  0.18842244,  0.21390872,  0.23953472,\n",
       "          0.26531902,  0.29128096,  0.31744076,  0.34381966,  0.37044003,\n",
       "          0.39732558,  0.42450149,  0.45199463,  0.47983378,  0.50804994,\n",
       "          0.53667655,  0.56574992,  0.59530962,  0.62539893,  0.65606548,\n",
       "          0.68736185,  0.71934648,  0.75208458,  0.78564937,  0.82012357,\n",
       "          0.85560121,  0.89218993,  0.93001393,  0.96921765,  1.00997067,\n",
       "          1.05247413,  1.09696931,  1.14374949,  1.19317644,  1.24570419,\n",
       "          1.30191411,  1.36256869,  1.42869743,  1.50174123,  1.58381122,\n",
       "          1.67819304,  1.79044653,  1.93122778,  2.12570747,  2.46203784]),\n",
       "  array([-2.28783713e+00, -2.11519300e+00, -2.05162207e+00, -1.79361355e+00,\n",
       "         -1.70234470e+00, -1.61523020e+00, -1.60466820e+00, -1.59544312e+00,\n",
       "         -1.45448872e+00, -1.43242022e+00, -1.33134279e+00, -1.26688908e+00,\n",
       "         -1.22522221e+00, -1.21270569e+00, -1.11928123e+00, -1.10165662e+00,\n",
       "         -1.00684852e+00, -9.99507011e-01, -9.79999602e-01, -8.96990833e-01,\n",
       "         -8.22109704e-01, -8.02293999e-01, -7.38724537e-01, -6.87333993e-01,\n",
       "         -6.65906410e-01, -6.57950952e-01, -6.52008394e-01, -6.35083449e-01,\n",
       "         -5.14202322e-01, -5.14049348e-01, -5.10148732e-01, -4.62057012e-01,\n",
       "         -4.20769617e-01, -4.07258035e-01, -3.77284781e-01, -3.46168058e-01,\n",
       "         -3.14863495e-01, -3.09847131e-01, -3.04870860e-01, -2.37515185e-01,\n",
       "         -2.34249906e-01, -1.80554786e-01, -1.71534507e-01, -1.35933148e-01,\n",
       "         -7.91869190e-02, -2.68862477e-02, -2.05105630e-02, -1.71483113e-02,\n",
       "         -4.69465230e-03, -1.59382077e-03,  9.28395399e-03,  3.99449160e-02,\n",
       "          4.68073539e-02,  1.05678437e-01,  1.42962554e-01,  2.12698937e-01,\n",
       "          2.37074554e-01,  2.42890997e-01,  2.45256570e-01,  2.50178677e-01,\n",
       "          2.70701088e-01,  2.81772760e-01,  2.95055979e-01,  2.98458434e-01,\n",
       "          2.98747745e-01,  3.12892272e-01,  3.19953140e-01,  3.66037077e-01,\n",
       "          4.09811228e-01,  4.74064986e-01,  5.18582135e-01,  5.64198939e-01,\n",
       "          6.14153463e-01,  6.86616894e-01,  7.06822778e-01,  7.71267401e-01,\n",
       "          8.07319579e-01,  8.17554565e-01,  8.28697360e-01,  8.69134598e-01,\n",
       "          8.93836598e-01,  8.97431611e-01,  9.53710804e-01,  9.93272782e-01,\n",
       "          1.00916541e+00,  1.01526542e+00,  1.08276781e+00,  1.10464071e+00,\n",
       "          1.11069721e+00,  1.20309999e+00,  1.32592249e+00,  1.50030379e+00,\n",
       "          1.54080282e+00,  1.60203271e+00,  1.63626448e+00,  1.65413188e+00,\n",
       "          1.72744619e+00,  1.94424720e+00,  2.10250604e+00,  2.36447815e+00])),\n",
       " (1.0144719970458649, -0.0033939989058128124, 0.9982672792542281))"
      ]
     },
     "execution_count": 32,
     "metadata": {},
     "output_type": "execute_result"
    },
    {
     "data": {
      "image/png": "[encoded data removed]",
      "text/plain": [
       "<Figure size 288x288 with 1 Axes>"
      ]
     },
     "metadata": {
      "needs_background": "light"
     },
     "output_type": "display_data"
    }
   ],
   "source": [
    "# 표본정규분포로부터 추출한 100개 표본의 QQ 그림\n",
    "from scipy import stats\n",
    "\n",
    "fig, ax = plt.subplots(figsize=(4,4))\n",
    "norm_sample = stats.norm.rvs(size=100)\n",
    "stats.probplot(norm_sample, plot=ax)"
   ]
  },
  {
   "cell_type": "markdown",
   "metadata": {},
   "source": [
    "### <span style=\"color:olivedrab\">긴 꼬리 분포</span>\n",
    "\n",
    "데이터는 일반적으로 정규분포를 따르지 않음\n",
    "\n",
    "소득 데이터처럼 비스듬하게 기울어져 있거나 이항 데이터와 같이 이산적일 수 있음\n",
    "\n",
    "대칭, 비대칭 분포 모두 긴 꼬리를 가질 수 있다.\n",
    "\n",
    "분포의 꼬리는 양 극한값에 해당하고, 양쪽 긴 꼬리를 잘 들여다보는 것이 중요!\n",
    "\n",
    "긴 꼬리의 대표적인 사례 : 주가수익률\n",
    "\n",
    "**흑고니 이론** : 주식시장의 붕괴와 같은 이례적인 사건이, 정규분포로 예측되는 것보다 훨씬 자주 일어날 수 있다."
   ]
  },
  {
   "cell_type": "code",
   "execution_count": 33,
   "metadata": {
    "ExecuteTime": {
     "end_time": "2022-08-29T09:11:18.729272Z",
     "start_time": "2022-08-29T09:11:17.622209Z"
    }
   },
   "outputs": [
    {
     "data": {
      "text/plain": [
       "((array([-3.33278964, -3.07756454, -2.93575124, ...,  2.93575124,\n",
       "          3.07756454,  3.33278964]),\n",
       "  array([-6.60529819, -6.09667121, -5.40220961, ...,  5.12547859,\n",
       "          5.87072271,  6.03787   ])),\n",
       " (1.4823778663727063, 0.0015561067366313156, 0.9941828221936324))"
      ]
     },
     "execution_count": 33,
     "metadata": {},
     "output_type": "execute_result"
    },
    {
     "data": {
      "image/png": "[encoded data removed]",
      "text/plain": [
       "<Figure size 288x288 with 1 Axes>"
      ]
     },
     "metadata": {
      "needs_background": "light"
     },
     "output_type": "display_data"
    }
   ],
   "source": [
    "sp500_px = pd.read_csv(\"sp500_data.csv/sp500_data.csv\", index_col=0)\n",
    "sp500_sym = pd.read_csv(\"sp500_data.csv/sp500_sectors.csv\")\n",
    "\n",
    "# 넷플릭스의 일일 주식 수익률에 대한 QQ 그림\n",
    "nflx = sp500_px.NFLX\n",
    "nflx = np.diff(np.log(nflx[nflx>0]))\n",
    "fig, ax = plt.subplots(figsize=(4,4))\n",
    "stats.probplot(nflx, plot=ax)"
   ]
  },
  {
   "cell_type": "markdown",
   "metadata": {},
   "source": [
    "낮은 값의 점들은 대각선보다 훨씬 낮고, 높은 값은 선보다 훨씬 위에 존재함.\n",
    "- 데이터가 정규분포를 따르지 않는다.\n",
    "- 예상보다 많은 극단값을 관찰할 가능성이 있다.\n",
    "- 평균에서 표준편차 이내에 있는 점들은 선 가까이에 있다.\n",
    "    - 중간에서는 정상\n",
    "    - 긴 꼬리를 갖는다"
   ]
  },
  {
   "cell_type": "markdown",
   "metadata": {},
   "source": [
    "### <span style=\"color:olivedrab\">스튜던트의 t분포</span>\n",
    "\n",
    "t분포 : 정규분포와 비슷하지만, 꼬리 부분이 더 길고 두꺼움\n",
    "\n",
    "표본통계량의 분포를 설명하는데 사용\n",
    "\n",
    "표본이 클수록 정규분포에 가까운 t분포\n",
    "\n",
    "t분포와 표준화된 여러 통계자료와 비교해 신뢰구간을 추정할 수 있음"
   ]
  },
  {
   "cell_type": "markdown",
   "metadata": {},
   "source": [
    "### <span style=\"color:olivedrab\">이항분포</span>\n",
    "\n",
    "이항분포 : 각 시행마다 성공 확률 p가 정해져 있을 때, 주어진 시행 횟수 n 중에서 성공한 횟수 x의 도수분포\n",
    "\n",
    "핵심은 일련의 시행들이 주어지고, 각 시행은 정해진 확률로 단 2가지의 결과를 갖는다.\n",
    "\n",
    "이항분포의 평균 : n * p, 분산 : n * p * (1-p)"
   ]
  },
  {
   "cell_type": "code",
   "execution_count": 34,
   "metadata": {
    "ExecuteTime": {
     "end_time": "2022-08-29T09:11:18.745230Z",
     "start_time": "2022-08-29T09:11:18.732265Z"
    },
    "scrolled": true
   },
   "outputs": [
    {
     "name": "stdout",
     "output_type": "stream",
     "text": [
      "0.0729\n",
      "0.99144\n"
     ]
    }
   ],
   "source": [
    "# 성공 확률이 0.1인 시행을 5번했을 때, 2번 성공할 확률\n",
    "print(stats.binom.pmf(2, n=5, p=0.1))\n",
    "\n",
    "# 성공 확률이 0.1인 시행을 5번했을 때, 2번 이하 성공할 확률\n",
    "print(stats.binom.cdf(2, n=5, p=0.1))"
   ]
  },
  {
   "cell_type": "markdown",
   "metadata": {},
   "source": [
    "### <span style=\"color:olivedrab\">카이제곱분포</span>\n",
    "\n",
    "카이제곱통계량 : 검정 결과가 독립성에 대한 귀무 기댓값에서 벗어난 정도를 측정하는 통계량\n",
    "\n",
    "일반적으로 카이제곱통계량은 관측 데이터가 특정 분포에 적합한 정도를 나타냄\n",
    "\n",
    "카이제곱분포 : 귀무 모델에서 반복적으로 재표본추출한 통계량 분포"
   ]
  },
  {
   "cell_type": "markdown",
   "metadata": {},
   "source": [
    "### <span style=\"color:olivedrab\">F 분포</span>\n",
    "\n",
    "과학 실험의 일반적인 절차는 여러 그룹에 걸친 서로 다른 처리\n",
    "\n",
    "각 그룹에 대해 연속된 관측값 처리 -> 그룹 평균 간의 차이가 정규 무작위 변동에서 예상할 수 있는 것보다 얼마나 큰지에 관심\n",
    "\n",
    "F 분포는 측정된 데이터와 관련한 실험, 선형 모델에 사용\n",
    "\n",
    "F 통계량은 관심 요인으로 인한 변동성과 전체 변동성을 비교"
   ]
  },
  {
   "cell_type": "markdown",
   "metadata": {},
   "source": [
    "### <span style=\"color:olivedrab\">푸아송 분포</span>\n",
    "\n",
    "#### <span style=\"color:dodgerblue\">푸아송 분포</span>\n",
    "\n",
    "푸아송 분포 : 시간 단위 또는 공간 단위로 표본들을 수집할 때, 그 사건들의 분포를 알려준다. (일정 비율로 발생하는 사건으로 가정)\n",
    "\n",
    "ex) 5초 동안 서버에 도착한 인터넷 트래픽을 95% 확률로 완벽하게 처리하는데 필요한 용량? (대기행렬 질문)\n",
    "\n",
    "푸아송 분포의 핵심 파라미터 : $\\lambda$ (어떤 일정 시간/공간의 구간 안에서 발생한 평균 사건 수, 푸아송 분포의 분산)"
   ]
  },
  {
   "cell_type": "code",
   "execution_count": 35,
   "metadata": {
    "ExecuteTime": {
     "end_time": "2022-08-29T09:11:18.761187Z",
     "start_time": "2022-08-29T09:11:18.749218Z"
    }
   },
   "outputs": [
    {
     "data": {
      "text/plain": [
       "array([1, 4, 1, 3, 1, 1, 4, 5, 2, 3, 2, 2, 1, 3, 2, 6, 4, 1, 0, 1, 1, 2,\n",
       "       1, 2, 1, 4, 1, 2, 2, 1, 2, 0, 0, 3, 4, 2, 2, 0, 3, 2, 2, 1, 2, 1,\n",
       "       3, 1, 1, 2, 1, 2, 6, 4, 1, 2, 1, 4, 3, 1, 1, 2, 3, 2, 2, 3, 3, 2,\n",
       "       2, 3, 0, 2, 3, 2, 2, 2, 2, 1, 3, 2, 1, 2, 1, 0, 0, 1, 1, 2, 0, 1,\n",
       "       3, 1, 3, 3, 1, 2, 2, 2, 0, 1, 4, 2])"
      ]
     },
     "execution_count": 35,
     "metadata": {},
     "output_type": "execute_result"
    }
   ],
   "source": [
    "# 𝜆 = 2인 포아송 분포에서 난수 100개 생성하기\n",
    "stats.poisson.rvs(2, size=100)"
   ]
  },
  {
   "cell_type": "markdown",
   "metadata": {},
   "source": [
    "#### <span style=\"color:dodgerblue\">지수분포</span>\n",
    "\n",
    "사건과 사건 간의 시간 분포 모델링\n",
    "\n",
    "ex) 톨게이트에 차가 도착하는 시간 간격, 고장이 발생하는 시간, 개별 고객 상담에 소요되는 시간"
   ]
  },
  {
   "cell_type": "code",
   "execution_count": 36,
   "metadata": {
    "ExecuteTime": {
     "end_time": "2022-08-29T09:11:18.777144Z",
     "start_time": "2022-08-29T09:11:18.764178Z"
    }
   },
   "outputs": [
    {
     "data": {
      "text/plain": [
       "array([ 1.15764325,  1.35249178,  3.17453269,  2.16582079,  6.14977075,\n",
       "        5.83491027,  2.96116639,  5.36000405,  8.01879685,  1.75368212,\n",
       "        3.77473811,  3.77621134,  5.63682467, 10.5311073 ,  3.29666794,\n",
       "        1.43863531,  1.99361121,  3.82859307,  1.69536442,  2.59716848,\n",
       "        1.0337704 ,  6.19632792,  5.35181623,  8.65100053,  4.3351795 ,\n",
       "        6.14672425,  1.52042859,  2.25376016,  5.83478811, 11.15066437,\n",
       "        3.75797185,  0.01984958,  1.66341648,  8.38050664, 16.84257203,\n",
       "        0.17349445, 11.52108572,  6.72875983,  7.40780628,  2.46685976,\n",
       "        0.73653476,  6.06406031, 12.04209361,  0.68597624,  1.9488542 ,\n",
       "       16.82777477,  8.19795283,  8.31358383,  3.87550855,  0.30573379,\n",
       "        5.55615785,  9.55329146,  5.3151538 ,  6.31225628,  3.86462935,\n",
       "        3.66775648, 16.01432514,  0.68086459,  4.81767531, 10.19015992,\n",
       "       19.66244634,  0.25199754, 14.04568464, 15.73259347,  0.99205734,\n",
       "        6.85812634,  3.24968742,  5.17893404,  5.35152212,  1.89165133,\n",
       "        8.56908439,  6.02820371,  3.53799753, 16.91863287,  3.31586397,\n",
       "        1.59305439,  1.68737932,  6.42452552,  1.50114603,  6.0458893 ,\n",
       "        0.49581841,  3.80123391,  0.4096207 ,  0.45190643,  4.43853758,\n",
       "       11.09298003,  5.73220157,  4.67169946,  0.22737925,  6.25310237,\n",
       "        3.59596031, 10.74819304,  2.48689687,  7.07935516,  8.48438385,\n",
       "       11.05500183,  9.37960109,  2.34067225,  2.03056791,  9.83394496])"
      ]
     },
     "execution_count": 36,
     "metadata": {},
     "output_type": "execute_result"
    }
   ],
   "source": [
    "# 주기별 평균 사건 수가 0.2인 지수분포에서 난수 100개 생성\n",
    "stats.expon.rvs(scale=1/0.2, size=100)"
   ]
  },
  {
   "cell_type": "markdown",
   "metadata": {},
   "source": [
    "#### <span style=\"color:dodgerblue\">고장률 추정</span>\n",
    "\n",
    "일반적으로 사건 발생 비율 𝜆는 이미 알려져 있거나, 이전 데이터를 통해 추정 가능\n",
    "\n",
    "But, 드물게 발생하는 사건의 경우 그렇지 않음\n",
    "\n",
    "ex) 항공기 엔진 고장\n",
    "\n",
    "다행히, 몇 가지 추측은 가능함\n",
    "\n",
    "시뮬레이션 또는 확률의 직접 계산을 통해 다른 가상사건 발생률을 평가하고, 그 이하로 떨어지지 않을 임곗값 추산"
   ]
  },
  {
   "cell_type": "markdown",
   "metadata": {},
   "source": [
    "#### <span style=\"color:dodgerblue\">베이불 분포</span>\n",
    "\n",
    "사건 발생률이 시간에 따라 지속적으로 변한다면, 지수분포와 포아송분포는 유용하지 않음\n",
    "\n",
    "ex) 기계 고장 : 시간이 지날수록 고장 위험 증가\n",
    "\n",
    "베이불 분포 : 지수분포를 확장한 것으로, 형상 파라미터 $\\beta$가 지정된 대로 발생률이 달라질 수 있다.\n",
    "\n",
    "$\\beta$ > 1 : 발생률이 시간이 지남에 따라 증가<br>\n",
    "$\\beta$ < 1 : 발생률이 시간이 지남에 따라 감소\n",
    "\n",
    "척도 변수 $\\eta$ : 특성 수명"
   ]
  },
  {
   "cell_type": "code",
   "execution_count": 37,
   "metadata": {
    "ExecuteTime": {
     "end_time": "2022-08-29T09:11:18.793103Z",
     "start_time": "2022-08-29T09:11:18.780138Z"
    }
   },
   "outputs": [
    {
     "data": {
      "text/plain": [
       "array([ 6631.07707817,  7134.96530726,  1233.47116378,  4012.00398912,\n",
       "        2014.42241896,  5357.48624849,  4150.09558291,  2199.02062586,\n",
       "        6509.72575371,  2020.71115172,   576.9127114 ,  5418.26509856,\n",
       "       12199.42475098,  3375.54810747,  5136.35343986, 12108.23796212,\n",
       "        2243.52335505,  4750.2560889 ,  2360.73710786,   988.4514032 ,\n",
       "        2510.1695049 ,   537.99778696,  4061.41047379,  4125.48123103,\n",
       "        3510.0231525 ,  3271.97970288,  5608.57122146,  3392.44821432,\n",
       "        5874.45656035,  5943.90843023,  6293.62026282,  1691.13803501,\n",
       "        2606.33730268,  6025.83037075,   539.72337845,  9232.10388015,\n",
       "        2234.19211574,  5900.77309718,  8140.38971133,  5440.20694503,\n",
       "        4851.87327275,  8724.92563936,  2010.13722283,  4251.42855994,\n",
       "        4864.27941669,  5733.78581969,  5521.43004482,  6672.86998658,\n",
       "        4679.33928981,  4265.58207569,  1698.29395139,  4429.7182962 ,\n",
       "        6578.60076358,  6475.53649363, 10450.02695492,  1438.92211255,\n",
       "        3663.70399914,  4791.68136575,  3468.68778919,  2327.89653146,\n",
       "        4063.92294325,  3979.04225696,  7083.75568705, 13746.50235391,\n",
       "        4983.51479626,  4115.08997043,  3679.84886523,  2304.62229097,\n",
       "       12194.96130804,  4147.3459979 ,  5683.4474145 ,  7029.23950875,\n",
       "        5584.40688341,  6276.53976404,  4441.05503242,  6636.95868997,\n",
       "        8581.77399065,  5036.87937518,  4570.45245656,  1537.31338438,\n",
       "        5216.70703029,  6731.69767309,  2732.61412789,  5473.75580182,\n",
       "        4897.97659823,   990.0704365 , 12047.47903667,  4860.839228  ,\n",
       "       11498.65289006,  1385.24880207,  3912.2473647 ,  2024.86201959,\n",
       "        4245.20023102,  3920.74539483, 11820.20234504,  1260.48613598,\n",
       "        1731.78267056,  2443.41751388,  4073.16681007, 10533.7183857 ])"
      ]
     },
     "execution_count": 37,
     "metadata": {},
     "output_type": "execute_result"
    }
   ],
   "source": [
    "# 1.5의 형상 파라미터와 5000의 특성 수명을 갖는 베이불 분포에서 난수 100개 생성\n",
    "stats.weibull_min.rvs(1.5, scale=5000, size=100)"
   ]
  },
  {
   "cell_type": "markdown",
   "metadata": {},
   "source": [
    "형상 파라미터 𝛽가 1.5이므로 사건 발생률이 증가함에 따라 사건 발생 주기가 감소함을 볼 수 있다."
   ]
  },
  {
   "cell_type": "markdown",
   "metadata": {},
   "source": [
    "## 통계적 실험과 유의성검정"
   ]
  },
  {
   "cell_type": "markdown",
   "metadata": {},
   "source": [
    "데이터 과학자들은 지속적으로 실험설계를 통해 가설을 확인하거나 기각한다.\n",
    "\n",
    "**전형적인 통계 추론 과정**을 통해 최종 결론에 도달한다.\n",
    "- 가설을 세운다 -> 실험을 설계한다 -> 데이터를 수집한다 -> 추론 및 결론을 도출한다."
   ]
  },
  {
   "cell_type": "markdown",
   "metadata": {},
   "source": [
    "### <span style=\"color:olivedrab\">A/B 검정</span>\n",
    "\n",
    "**A/B검정** : 두 가지 처리 방법, 제품, 절차 중 어느 쪽이 다른 쪽보다 더 우월하다는 것을 입증하기 위해 실험군을 두 그룹으로 나누어 진행하는 실험\n",
    "\n",
    "두 그룹 중 기준이 되는 기존 방법 또는 아무런 처리도 적용하지 않은 방법 : **대조군**\n",
    "\n",
    "새로운 처리 방법을 적용하는 것이 대조군보다 더 낫다는 것이 일반적인 가설\n",
    "\n",
    "A/B 검정의 몇 가지 예시\n",
    "- 암을 더 효과적으로 억제하는 두 가지 치료법을 검정\n",
    "- 두 가지 가격을 검정해 더 많은 순이익을 산출하는 쪽을 결정\n",
    "- 두 개의 인터넷 뉴스 제목을 검정해 더 많은 클릭을 생성하는 쪽을 결정\n",
    "\n",
    "그룹 A와 그룹 B를 비교하는데 사용하는 검정통계량 또는 측정 지표에 주의\n",
    "\n",
    "일반적으로 이진변수로 사용되고, 2 X 2 표로 요약함"
   ]
  },
  {
   "cell_type": "markdown",
   "metadata": {},
   "source": [
    "#### <span style=\"color:dodgerblue\">대조군은 왜 필요할까?</span>\n",
    "\n",
    "대조군이 없이 이전 경험과 비교를 해도 될 것이라고 생각할 수 있음\n",
    "\n",
    "그러나, 대조군이 없다면 '모든 다른 것들은 동일하다'라는 보장이 없으며 발생한 어떤 차이가 우연 때문일 수 있음\n",
    "\n",
    "대조군은 관심 처리를 뺀 나머지는 처리군과 동일한 조건이 적용됨\n",
    "\n",
    "눈가림 연구 : 피실험자가 처리 A, B중 어떤 처리를 받고 있는지 알지 못함\n",
    "- 특정 처리를 받는 것에 대한 인식이 반응에 영향을 줄 수 있기 때문\n",
    "\n",
    "이중눈가림 : 피실험자뿐만 아니라 실험자도 어떤 처리를 하는지 모름\n",
    "\n",
    "A/B 검정이 데이터 과학 분야에서는 웹 환경에서 많이 적용됨\n",
    "- 웹 페이지 방문자를 대상으로 클릭 수, 방문 기간, 구매 수 등을 측정\n",
    "- 웹 페이지 디자인, 제품 가격 등이 처리 조건\n",
    "\n",
    "측정 지표를 미리 결정해야 함\n",
    "- 실험 이후 검정통계량 선택 시 연구자 편향 발생"
   ]
  },
  {
   "cell_type": "markdown",
   "metadata": {},
   "source": [
    "### <span style=\"color:olivedrab\">가설검정</span>\n",
    "\n",
    "가설검정을 하는 이유 : 관찰된 효과가 우연에 의한 것인지 여부를 알아내기 위함\n",
    "\n",
    "가설검정의 논리 : 인간은 실제로 우연히 발생한 일이라도 그것이 흔하지 않다면, 그것에 뭔가 의미가 있을 것이라고 해석하는 경향을 갖고 있다. 그러므로, 실험에서 얻은 그룹 간의 차이가 무작위로 얻을 수 있는 합리적인 수준과는 극단적으로 다르다는 증거가 필요하다."
   ]
  },
  {
   "cell_type": "markdown",
   "metadata": {},
   "source": [
    "#### <span style=\"color:dodgerblue\">귀무가설</span>\n",
    "\n",
    "귀무가설은 그룹 간의 차이는 우연에 의한 결과라는 가정\n",
    "\n",
    "즉, 귀무가설이 틀렸다는 것을 입증하면 그룹 간의 차이가 우연이 아니라는 것을 의미함"
   ]
  },
  {
   "cell_type": "markdown",
   "metadata": {},
   "source": [
    "#### <span style=\"color:dodgerblue\">대립가설</span>\n",
    "\n",
    "귀무가설을 대립하는 가설\n",
    "\n",
    "귀무가설과 대립가설이 모든 가능성을 설명할 수 있어야 함"
   ]
  },
  {
   "cell_type": "markdown",
   "metadata": {},
   "source": [
    "#### <span style=\"color:dodgerblue\">일원/이원 가설검정</span>\n",
    "\n",
    "일원 가설검정 : 단방향 대립가설로, 우연에 의한 극단적인 결과에 대해 한 방향만을 고려하여 p값을 계산함\n",
    "ex) B는 A보다 낫다\n",
    "\n",
    "이원 가설검정 : 양방향 대립가설로, 우연에 의한 극단적인 결과가 양쪽에서 나타날 p값을 계산함\n",
    "ex) A는 B와 다르며 더 크거나 더 작을 수 있다"
   ]
  },
  {
   "cell_type": "markdown",
   "metadata": {},
   "source": [
    "### <span style=\"color:olivedrab\">재표본추출</span>\n",
    "\n",
    "재표본추출 : 랜덤한 변동성을 알아보자는 일반적 목표를 가지고, 관찰된 데이터의 값에서 표본을 반복적으로 추출하는 것\n",
    "\n",
    "일부 머신러닝 모델의 정확성을 평가하고 향상시키는 데에 적용\n",
    "\n",
    "재표본추출 종류 : 부트스트랩, 순열검정"
   ]
  },
  {
   "cell_type": "markdown",
   "metadata": {},
   "source": [
    "#### <span style=\"color:dodgerblue\">순열검정</span>\n",
    "\n",
    "순열검정 절차\n",
    "1. 여러 그룹의 결과를 단일 데이터 집합으로 결합한다.\n",
    "2. 결합된 데이터를 잘 섞은 후, 그룹 A와 같은 크기의 표본을 무작위 비복원 추출한다.\n",
    "3. 나머지 데이터에서 그룹 B와 동일한 크기의 샘플을 무작위 비복원 추출한다.\n",
    "4. C, D 등의 그룹에 대해서도 동일한 작업 수행.\n",
    "5. 원래 샘플에 대해 구한 통계량 또는 추정치가 무엇이었든간에 지금 추출한 재표본에 대해 모두 다시 계산하고 기록한다. 한 번의 순열 반복 완료.\n",
    "6. 앞선 단계들을 R번 반복해 검정통계량의 순열분포를 얻는다.\n",
    "\n",
    "관찰된 차이가 순열로 보이는 차이의 집합 안에 들어있다면, 관찰된 차이가 우연히 일어날 수 있는 범위 내에 있다는 것을 의미\n",
    "\n",
    "그러나, 관찰된 차이가 대부분의 순열분포 밖에 있다면, 이것은 우연 때문이 아니라고 결론. (**통계적으로 유의미하다**)"
   ]
  },
  {
   "cell_type": "markdown",
   "metadata": {},
   "source": [
    "#### <span style=\"color:dodgerblue\">예제 : 웹 접착성</span>\n",
    "\n",
    "두 가지 웹 디자인 중 어떤 디자인이 더 나은 판매 효과를 가져올 지 검증하려고 함\n",
    "\n",
    "실제 매출 데이터를 얻는 데는 오랜 시간이 걸리므로, 페이지에 머문 시간을 측정 지표로 사용한다."
   ]
  },
  {
   "cell_type": "code",
   "execution_count": 38,
   "metadata": {
    "ExecuteTime": {
     "end_time": "2022-08-29T09:11:18.824020Z",
     "start_time": "2022-08-29T09:11:18.796096Z"
    }
   },
   "outputs": [
    {
     "data": {
      "text/html": [
       "<div>\n",
       "<style scoped>\n",
       "    .dataframe tbody tr th:only-of-type {\n",
       "        vertical-align: middle;\n",
       "    }\n",
       "\n",
       "    .dataframe tbody tr th {\n",
       "        vertical-align: top;\n",
       "    }\n",
       "\n",
       "    .dataframe thead th {\n",
       "        text-align: right;\n",
       "    }\n",
       "</style>\n",
       "<table border=\"1\" class=\"dataframe\">\n",
       "  <thead>\n",
       "    <tr style=\"text-align: right;\">\n",
       "      <th></th>\n",
       "      <th>Page</th>\n",
       "      <th>Time</th>\n",
       "    </tr>\n",
       "  </thead>\n",
       "  <tbody>\n",
       "    <tr>\n",
       "      <th>0</th>\n",
       "      <td>Page A</td>\n",
       "      <td>0.21</td>\n",
       "    </tr>\n",
       "    <tr>\n",
       "      <th>1</th>\n",
       "      <td>Page B</td>\n",
       "      <td>2.53</td>\n",
       "    </tr>\n",
       "    <tr>\n",
       "      <th>2</th>\n",
       "      <td>Page A</td>\n",
       "      <td>0.35</td>\n",
       "    </tr>\n",
       "    <tr>\n",
       "      <th>3</th>\n",
       "      <td>Page B</td>\n",
       "      <td>0.71</td>\n",
       "    </tr>\n",
       "    <tr>\n",
       "      <th>4</th>\n",
       "      <td>Page A</td>\n",
       "      <td>0.67</td>\n",
       "    </tr>\n",
       "    <tr>\n",
       "      <th>5</th>\n",
       "      <td>Page B</td>\n",
       "      <td>0.85</td>\n",
       "    </tr>\n",
       "    <tr>\n",
       "      <th>6</th>\n",
       "      <td>Page A</td>\n",
       "      <td>2.11</td>\n",
       "    </tr>\n",
       "    <tr>\n",
       "      <th>7</th>\n",
       "      <td>Page B</td>\n",
       "      <td>2.46</td>\n",
       "    </tr>\n",
       "    <tr>\n",
       "      <th>8</th>\n",
       "      <td>Page A</td>\n",
       "      <td>1.32</td>\n",
       "    </tr>\n",
       "    <tr>\n",
       "      <th>9</th>\n",
       "      <td>Page B</td>\n",
       "      <td>1.49</td>\n",
       "    </tr>\n",
       "    <tr>\n",
       "      <th>10</th>\n",
       "      <td>Page A</td>\n",
       "      <td>0.68</td>\n",
       "    </tr>\n",
       "    <tr>\n",
       "      <th>11</th>\n",
       "      <td>Page B</td>\n",
       "      <td>0.75</td>\n",
       "    </tr>\n",
       "    <tr>\n",
       "      <th>12</th>\n",
       "      <td>Page A</td>\n",
       "      <td>3.21</td>\n",
       "    </tr>\n",
       "    <tr>\n",
       "      <th>13</th>\n",
       "      <td>Page B</td>\n",
       "      <td>3.33</td>\n",
       "    </tr>\n",
       "    <tr>\n",
       "      <th>14</th>\n",
       "      <td>Page A</td>\n",
       "      <td>1.47</td>\n",
       "    </tr>\n",
       "    <tr>\n",
       "      <th>15</th>\n",
       "      <td>Page B</td>\n",
       "      <td>1.87</td>\n",
       "    </tr>\n",
       "    <tr>\n",
       "      <th>16</th>\n",
       "      <td>Page A</td>\n",
       "      <td>0.95</td>\n",
       "    </tr>\n",
       "    <tr>\n",
       "      <th>17</th>\n",
       "      <td>Page B</td>\n",
       "      <td>1.26</td>\n",
       "    </tr>\n",
       "    <tr>\n",
       "      <th>18</th>\n",
       "      <td>Page A</td>\n",
       "      <td>0.45</td>\n",
       "    </tr>\n",
       "    <tr>\n",
       "      <th>19</th>\n",
       "      <td>Page B</td>\n",
       "      <td>0.48</td>\n",
       "    </tr>\n",
       "    <tr>\n",
       "      <th>20</th>\n",
       "      <td>Page A</td>\n",
       "      <td>1.18</td>\n",
       "    </tr>\n",
       "    <tr>\n",
       "      <th>21</th>\n",
       "      <td>Page B</td>\n",
       "      <td>1.47</td>\n",
       "    </tr>\n",
       "    <tr>\n",
       "      <th>22</th>\n",
       "      <td>Page A</td>\n",
       "      <td>3.42</td>\n",
       "    </tr>\n",
       "    <tr>\n",
       "      <th>23</th>\n",
       "      <td>Page B</td>\n",
       "      <td>3.57</td>\n",
       "    </tr>\n",
       "    <tr>\n",
       "      <th>24</th>\n",
       "      <td>Page A</td>\n",
       "      <td>1.97</td>\n",
       "    </tr>\n",
       "    <tr>\n",
       "      <th>25</th>\n",
       "      <td>Page B</td>\n",
       "      <td>2.23</td>\n",
       "    </tr>\n",
       "    <tr>\n",
       "      <th>26</th>\n",
       "      <td>Page A</td>\n",
       "      <td>0.39</td>\n",
       "    </tr>\n",
       "    <tr>\n",
       "      <th>27</th>\n",
       "      <td>Page B</td>\n",
       "      <td>0.43</td>\n",
       "    </tr>\n",
       "    <tr>\n",
       "      <th>28</th>\n",
       "      <td>Page A</td>\n",
       "      <td>0.65</td>\n",
       "    </tr>\n",
       "    <tr>\n",
       "      <th>29</th>\n",
       "      <td>Page B</td>\n",
       "      <td>0.87</td>\n",
       "    </tr>\n",
       "    <tr>\n",
       "      <th>30</th>\n",
       "      <td>Page A</td>\n",
       "      <td>1.73</td>\n",
       "    </tr>\n",
       "    <tr>\n",
       "      <th>31</th>\n",
       "      <td>Page A</td>\n",
       "      <td>0.74</td>\n",
       "    </tr>\n",
       "    <tr>\n",
       "      <th>32</th>\n",
       "      <td>Page A</td>\n",
       "      <td>0.86</td>\n",
       "    </tr>\n",
       "    <tr>\n",
       "      <th>33</th>\n",
       "      <td>Page A</td>\n",
       "      <td>1.18</td>\n",
       "    </tr>\n",
       "    <tr>\n",
       "      <th>34</th>\n",
       "      <td>Page A</td>\n",
       "      <td>2.06</td>\n",
       "    </tr>\n",
       "    <tr>\n",
       "      <th>35</th>\n",
       "      <td>Page A</td>\n",
       "      <td>0.93</td>\n",
       "    </tr>\n",
       "  </tbody>\n",
       "</table>\n",
       "</div>"
      ],
      "text/plain": [
       "      Page  Time\n",
       "0   Page A  0.21\n",
       "1   Page B  2.53\n",
       "2   Page A  0.35\n",
       "3   Page B  0.71\n",
       "4   Page A  0.67\n",
       "5   Page B  0.85\n",
       "6   Page A  2.11\n",
       "7   Page B  2.46\n",
       "8   Page A  1.32\n",
       "9   Page B  1.49\n",
       "10  Page A  0.68\n",
       "11  Page B  0.75\n",
       "12  Page A  3.21\n",
       "13  Page B  3.33\n",
       "14  Page A  1.47\n",
       "15  Page B  1.87\n",
       "16  Page A  0.95\n",
       "17  Page B  1.26\n",
       "18  Page A  0.45\n",
       "19  Page B  0.48\n",
       "20  Page A  1.18\n",
       "21  Page B  1.47\n",
       "22  Page A  3.42\n",
       "23  Page B  3.57\n",
       "24  Page A  1.97\n",
       "25  Page B  2.23\n",
       "26  Page A  0.39\n",
       "27  Page B  0.43\n",
       "28  Page A  0.65\n",
       "29  Page B  0.87\n",
       "30  Page A  1.73\n",
       "31  Page A  0.74\n",
       "32  Page A  0.86\n",
       "33  Page A  1.18\n",
       "34  Page A  2.06\n",
       "35  Page A  0.93"
      ]
     },
     "execution_count": 38,
     "metadata": {},
     "output_type": "execute_result"
    }
   ],
   "source": [
    "session_times"
   ]
  },
  {
   "cell_type": "code",
   "execution_count": 39,
   "metadata": {
    "ExecuteTime": {
     "end_time": "2022-08-29T09:11:19.124224Z",
     "start_time": "2022-08-29T09:11:18.827013Z"
    }
   },
   "outputs": [
    {
     "data": {
      "text/plain": [
       "Text(0.5, 0.98, '')"
      ]
     },
     "execution_count": 39,
     "metadata": {},
     "output_type": "execute_result"
    },
    {
     "data": {
      "image/png": "[encoded data removed]",
      "text/plain": [
       "<Figure size 432x288 with 1 Axes>"
      ]
     },
     "metadata": {
      "needs_background": "light"
     },
     "output_type": "display_data"
    }
   ],
   "source": [
    "# 웹 페이지 A, B의 세션 시간\n",
    "ax = session_times.boxplot(by='Page', column='Time')\n",
    "ax.set_xlabel('')\n",
    "ax.set_ylabel('Time (in seconds)')\n",
    "plt.suptitle('')"
   ]
  },
  {
   "cell_type": "code",
   "execution_count": 40,
   "metadata": {
    "ExecuteTime": {
     "end_time": "2022-08-29T09:11:19.140180Z",
     "start_time": "2022-08-29T09:11:19.126218Z"
    }
   },
   "outputs": [
    {
     "data": {
      "text/plain": [
       "0.35666666666666713"
      ]
     },
     "execution_count": 40,
     "metadata": {},
     "output_type": "execute_result"
    }
   ],
   "source": [
    "# 페이지 A, B의 평균 세션 시간 차이\n",
    "mean_a = session_times[session_times['Page'] == 'Page A'].Time.mean()\n",
    "mean_b = session_times[session_times['Page'] == 'Page B'].Time.mean()\n",
    "mean_b - mean_a"
   ]
  },
  {
   "cell_type": "markdown",
   "metadata": {},
   "source": [
    "페이지 A와 페이지 B의 평균 세션 시간의 차이가 우연에 의한 것인지, 통계적으로 중요한 것인지 판단해야 함 -> **순열검정** 적용\n",
    "\n",
    "모든 세션 시간을 결합하고 섞은 후, 21개의 그룹 (페이지 A와 같은 크기) 과 15개의 그룹 (페이지 B와 같은 크기) 으로 반복해 표본을 추출한다."
   ]
  },
  {
   "cell_type": "code",
   "execution_count": 41,
   "metadata": {
    "ExecuteTime": {
     "end_time": "2022-08-29T09:11:19.156140Z",
     "start_time": "2022-08-29T09:11:19.142178Z"
    }
   },
   "outputs": [],
   "source": [
    "# 순열검정 함수\n",
    "def perm_fun(x, nA, nB):\n",
    "    n = nA + nB\n",
    "    idx_B = set(random.sample(range(n), nB))\n",
    "    idx_A = set(range(n)) - idx_B\n",
    "    return x.loc[idx_B].mean() - x.loc[idx_A].mean()"
   ]
  },
  {
   "cell_type": "code",
   "execution_count": 42,
   "metadata": {
    "ExecuteTime": {
     "end_time": "2022-08-29T09:11:20.346981Z",
     "start_time": "2022-08-29T09:11:19.159132Z"
    }
   },
   "outputs": [
    {
     "data": {
      "text/plain": [
       "Text(0, 0.5, 'Frequency')"
      ]
     },
     "execution_count": 42,
     "metadata": {},
     "output_type": "execute_result"
    },
    {
     "data": {
      "image/png": "[encoded data removed]",
      "text/plain": [
       "<Figure size 360x360 with 1 Axes>"
      ]
     },
     "metadata": {
      "needs_background": "light"
     },
     "output_type": "display_data"
    }
   ],
   "source": [
    "# 페이지 A, B 사이의 세션 시간 차이에 대한 도수분포\n",
    "perm_diffs = [perm_fun(session_times.Time, 21, 15) for _ in range(1000)]\n",
    "\n",
    "fig, ax = plt.subplots(figsize = (5,5))\n",
    "ax.hist(perm_diffs, bins=11, rwidth=0.9)\n",
    "ax.axvline(x = mean_b - mean_a, color='black', lw=2)\n",
    "ax.set_ylabel('Frequency')"
   ]
  },
  {
   "cell_type": "code",
   "execution_count": 43,
   "metadata": {
    "ExecuteTime": {
     "end_time": "2022-08-29T09:11:20.362938Z",
     "start_time": "2022-08-29T09:11:20.349974Z"
    }
   },
   "outputs": [
    {
     "data": {
      "text/plain": [
       "0.136"
      ]
     },
     "execution_count": 43,
     "metadata": {},
     "output_type": "execute_result"
    }
   ],
   "source": [
    "np.mean(np.array(perm_diffs) > mean_b - mean_a)"
   ]
  },
  {
   "cell_type": "markdown",
   "metadata": {},
   "source": [
    "페이지 A, B 사이의 세션 시간 차이가 확률분포의 범위 내에 있으므로 이 차이는 통계적으로 유의하지 않음"
   ]
  },
  {
   "cell_type": "markdown",
   "metadata": {},
   "source": [
    "#### <span style=\"color:dodgerblue\">전체 및 부트스트랩 순열검정</span>\n",
    "\n",
    "앞선 랜덤 셔플링은 **임의순열검정** (임의화검정)\n",
    "\n",
    "이외의 순열검정\n",
    "- **전체순열검정**\n",
    "- **부트스트랩 순열검정**\n",
    "\n",
    "전체순열검정\n",
    "- 데이터를 무작위로 섞고 나누는 대신, 실제로 나눌 수 있는 모든 가능한 조합을 찾음\n",
    "- 샘플 크기가 작을 때만 실용적\n",
    "- 셔플링을 많이 반복할수록, 임의순열검정 결과와 유사함\n",
    "- 정확한 결론을 보장하므로 '정확검정'이라고도 함\n",
    "\n",
    "부트스트랩 순열검정\n",
    "- 무작위 순열검정의 2단계, 3단계에서의 비복원 방식 대신, 복원추출로 수행함\n",
    "- 모집단에서 개체를 선택할 때 임의성 보장 뿐만 아니라 개체가 처리군에 할당될 때에도 임의성 보장\n",
    "\n",
    "데이터 과학의 입장에서, 전체순열검정과 부트스트랩 순열검정을 구별할 필요는 없음"
   ]
  },
  {
   "cell_type": "markdown",
   "metadata": {},
   "source": [
    "#### <span style=\"color:dodgerblue\">순열검정 : 데이터 과학의 최종 결론</span>\n",
    "\n",
    "순열검정은 상대적으로 코딩하고, 해석하고, 설명하기 쉬우며, 정확성을 보증한다.\n",
    "\n",
    "데이터가 숫자형, 이진형일 수 있고 샘플 크기가 같을 수도 다를 수도 있으며, 데이터가 정규분포를 따라야 한다는 가정도 필요 없다."
   ]
  },
  {
   "cell_type": "markdown",
   "metadata": {},
   "source": [
    "### <span style=\"color:olivedrab\">통계적 유의성과 p 값</span>\n",
    "\n",
    "통계적 유의성\n",
    "- 통계학자가 자신의 실험 결과가 우연히 일어난 것인지, 우연히 일어날 수 없는 극단적인 것인지를 판단하는 방법\n",
    "\n",
    "#### <span style=\"color:dodgerblue\">p 값</span>\n",
    "\n",
    "통계적 유의성을 정확히 측정하기 위한 지표\n",
    "\n",
    "순열검정으로 얻은 결과 중에서, 관찰된 차이와 같거나 더 큰 차이를 보이는 경우의 비율\n",
    "\n",
    "p 값이 0.3이라면, 우연히 얻은 결과의 30% 정도가 관찰한 것과 비슷한 정도로 예외적인 결과를 얻을 것으로 기대됨"
   ]
  },
  {
   "cell_type": "code",
   "execution_count": 44,
   "metadata": {
    "ExecuteTime": {
     "end_time": "2022-08-29T09:11:20.378899Z",
     "start_time": "2022-08-29T09:11:20.366928Z"
    }
   },
   "outputs": [
    {
     "name": "stdout",
     "output_type": "stream",
     "text": [
      "p-value for single sided test : 0.3498\n"
     ]
    }
   ],
   "source": [
    "survivors = np.array([[200, 23739 - 200], [182, 22588 - 182]])\n",
    "chi2, p_value, df, _ = stats.chi2_contingency(survivors)\n",
    "\n",
    "print(f'p-value for single sided test : {p_value / 2:.4f}')"
   ]
  },
  {
   "cell_type": "markdown",
   "metadata": {},
   "source": [
    "#### <span style=\"color:dodgerblue\">유의수준</span>\n",
    "\n",
    "랜덤 모델이 주어졌을 때, 극단적인 결과가 나올 확률\n",
    "\n",
    "p 값을 통해 전달하고자 하는 의미 : 결과가 우연에서 비롯될 확률\n",
    "\n",
    "실제 p 값이 나타내는 것 : 랜덤 모델이 주어졌을 때, 그 결과가 관찰된 결과보다 더 극단적일 확률\n",
    "\n",
    "p 값의 사용에 대한 경고를 촉구하는 성명서에서의 6가지 원칙\n",
    "1. p 값은 이 데이터가 특정 통계 모델과 얼마나 상반되는지 알 수 있음\n",
    "2. p 값은 연구 가설이 사실일 확률이나, 데이터가 랜덤하게 생성되었을 확률을 추정하는 것이 아님\n",
    "3. 과학적 결론, 비즈니스나 정책 결정은 p 값이 특정 임곗값을 통과하는지 여부를 기준으로 해서는 안됨\n",
    "4. 적절한 추론을 위해서는 완전한 보고나 투명성이 요구됨\n",
    "5. p 값 또는 통계적 유의성은 효과의 크기나 결과의 중요성을 의미하지 않음\n",
    "6. p 값 그 자체는 모델이나 가설에 대한 증거를 측정하기 위한 좋은 지표는 아님"
   ]
  },
  {
   "cell_type": "markdown",
   "metadata": {},
   "source": [
    "#### <span style=\"color:dodgerblue\">제1종과 제2종 오류</span>\n",
    "\n",
    "통계적 유의성을 평가할 때 발생할 수 있는 두 가지 유형의 오류\n",
    "\n",
    "- 제 1종 오류 : 우연히 발생했지만, 사실이라고 잘못 판단하는 경우\n",
    "    - 우연히 일어난 일에 속지 않는 것이 가장 중요한 기능이므로, 1종 오류를 최소화하도록 가설 설계\n",
    "- 제 2종 오류 : 실제로 있는 것이지만, 우연히 발생했다고 잘못 판단하는 경우\n",
    "    - 표본크기가 너무 작아서 효과를 알아낼 수 없음"
   ]
  },
  {
   "cell_type": "markdown",
   "metadata": {},
   "source": [
    "### <span style=\"color:olivedrab\">t 검정</span>\n",
    "\n",
    "제일 대표적인 유의성검정 방법\n",
    "\n",
    "모든 유의성검정은 관심 있는 효과를 측정하기 위한 검정통계량을 지정함\n",
    "\n",
    "관찰된 효과가 정상적인 랜덤 변이의 범위 내에 있는지 여부를 판단함"
   ]
  },
  {
   "cell_type": "code",
   "execution_count": 45,
   "metadata": {
    "ExecuteTime": {
     "end_time": "2022-08-29T09:11:20.394859Z",
     "start_time": "2022-08-29T09:11:20.383884Z"
    }
   },
   "outputs": [
    {
     "name": "stdout",
     "output_type": "stream",
     "text": [
      "p-value for single sided test: 0.1408\n"
     ]
    }
   ],
   "source": [
    "res = stats.ttest_ind(session_times[session_times.Page == 'Page A'].Time,\n",
    "                     session_times[session_times.Page == 'Page B'].Time,\n",
    "                     equal_var=False)\n",
    "print(f'p-value for single sided test: {res.pvalue / 2:.4f}')"
   ]
  },
  {
   "cell_type": "markdown",
   "metadata": {},
   "source": [
    "### <span style=\"color:olivedrab\">다중검정</span>\n",
    "\n",
    "다중검정에서는 예측변수가 많아질수록 1종 오류가 발생할 가능성이 높아진다.\n",
    "\n",
    "ex) 0.05의 유의수준에서 20번의 유의성검정을 수행하면, 20번 모두 무의미하다고 올바른 검정 결과를 보일 확률은 $0.95^{20} = 0.36$<br>\n",
    "    즉, 적어도 한 번의 테스트에서 유의미하다고 잘못 결론 내릴 확률은 0.64<br>\n",
    "    \n",
    "**알파 인플레이션** : 1종 오류를 만들 확률인 알파가 더 많은 테스트를 수행할수록 증가하는 다중검정 현상\n",
    "\n",
    "데이터마이닝에서의 오버피팅 현상과 관련 있음\n",
    "\n",
    "통계학의 수정 절차를 통해 다중검정에서의 문제점 개선 가능\n",
    "- 단일 가설검정보다 통계적 유의성에 대한 기준을 엄격하게 설정\n",
    "- 일반적으로 검정 횟수에 따라 유의수준을 나누는 방법 사용\n",
    "- 각 검정에 대해 더 작은 알파를 적용함\n",
    "    - 본페로니 수정 : 알파 / 비교 횟수\n"
   ]
  },
  {
   "cell_type": "markdown",
   "metadata": {},
   "source": [
    "### <span style=\"color:olivedrab\">자유도</span>\n",
    "\n",
    "표본 데이터에서 계산된 통계량에 적용되며, 변화가 가능한 값들의 개수\n",
    "\n",
    "ex) 10개의 값으로 이루어진 표본에서 평균값을 알고 있다면, 여기에는 9개의 자유도가 있다.<br>\n",
    "(표본 중 9개를 알고 있다면 10번째는 계싼할 수 있으며 자유롭게 변경할 수 없다.)\n",
    "\n",
    "많은 확률분포에 적용되는 자유도 모수는 분포의 모양에 영향을 줌\n",
    "\n",
    "분산, 표준편차에 대한 계산에서 분모의 n-1을 자유도라고 부름\n",
    "- n을 사용하면 추정치가 살짝 아래쪽으로 편향됨\n",
    "\n",
    "데이터 과학에서 유의성검정 측면에서는 중요하지 않음\n",
    "- 보통 데이터가 충분히 크기 때문에, n과 n-1은 거의 차이가 없음\n",
    "\n",
    "회귀에서 요인변수를 사용할 때는 중요함\n",
    "- 범주형 변수를 이진 지표로 더미화할 때 자유도를 신경써야 함<br>\n",
    "- 다중공선성 오차 방지<br>\n",
    "ex) '요일' 변수를 이진 지표로 바꿀 때 자유도는 6개이다. "
   ]
  },
  {
   "cell_type": "markdown",
   "metadata": {},
   "source": [
    "### <span style=\"color:olivedrab\">분산분석 (ANOVA)</span>\n",
    "\n",
    "여러 그룹들의 수치 데이터를 서로 비교할 때, 여러 그룹 간의 통계적으로 유의미한 차이를 검정하는 통계적 절차\n",
    "\n",
    "그룹 한 쌍씩 비교하는 횟수가 증가하게 되면, 우연히 일어난 일에 속을 가능성이 커짐<br>\n",
    "대신, 전체적인 총괄검정을 하는 것이 좋음\n",
    "\n",
    "-> ANOVA는 이러한 총괄검정에 사용되는 방법\n",
    "\n",
    "ANOVA의 토대가 되는 재표본추출 과정 (그룹 4개)\n",
    "1. 모든 데이터를 한 상자에 모음\n",
    "2. 5개의 값을 갖는 4개의 재표본을 섞어 추출\n",
    "3. 각 그룹의 평균 기록\n",
    "4. 네 그룹 평균 사이의 분산 기록\n",
    "5. 2~4단계 여러 번 반복"
   ]
  },
  {
   "cell_type": "markdown",
   "metadata": {},
   "source": [
    "### <span style=\"color:olivedrab\">카이제곱검정</span>\n",
    "\n",
    "동시에 여러 가지 처리를 한 번에 테스트할 때 사용\n",
    "\n",
    "횟수 관련 데이터에 주로 사용되며 예상되는 분포에 얼마나 잘 맞는지 검정함"
   ]
  },
  {
   "cell_type": "markdown",
   "metadata": {},
   "source": [
    "#### <span style=\"color:dodgerblue\">재표본추출 방법</span>"
   ]
  },
  {
   "cell_type": "code",
   "execution_count": 46,
   "metadata": {
    "ExecuteTime": {
     "end_time": "2022-08-29T09:11:20.426769Z",
     "start_time": "2022-08-29T09:11:20.397845Z"
    }
   },
   "outputs": [
    {
     "data": {
      "text/plain": [
       "      Headline  \n",
       "Rate  Headline A    14\n",
       "      Headline B     8\n",
       "      Headline C    12\n",
       "Name: Click, dtype: int64"
      ]
     },
     "execution_count": 46,
     "metadata": {},
     "output_type": "execute_result"
    }
   ],
   "source": [
    "click_rates = pd.read_csv('click_rates.csv')\n",
    "click_rates = click_rates.pivot_table(index='Click', columns='Headline')\n",
    "clicks = click_rates.loc['Click']\n",
    "clicks"
   ]
  },
  {
   "cell_type": "markdown",
   "metadata": {},
   "source": [
    "재표본추출을 통해, 클릭률이 우연히 발생할 수 있는 것보다 유의미한 정도로 큰지 검정할 수 있음\n",
    "\n",
    "즉, 이 경우 각 헤드라인 모두가 동일한 클릭률을 갖는다는 가정이 귀무가설에 속한다.\n",
    "\n",
    "피어슨 잔차들을 제곱합하여 카이제곱통계량을 구할 수 있고, 구한 카이제곱통계량이 귀무가설로 얻을 수 있는 값보다 크다고 할 수 있을지 재표본추출 알고리즘을 통해 검정할 수 있다.\n",
    "1. 34개의 1과 2966개의 0이 들어 있는 상자를 만든다.\n",
    "2. 내용물을 섞고, 1000개의 표본을 세 번씩 가져와서 각각의 클릭 수를 계산한다.\n",
    "3. 얻은 횟수와 기대한 횟수의 차이를 제곱해 합산한다.\n",
    "4. 2~3단계를 1000번 반복한다.\n",
    "5. 재표본추출을 통해 얻은 편차의 제곱합이 얼마나 자주 관측값을 초과하는가? 이것이 p 값이다."
   ]
  },
  {
   "cell_type": "markdown",
   "metadata": {},
   "source": [
    "### <span style=\"color:olivedrab\">멀티암드 밴딧 알고리즘</span>"
   ]
  },
  {
   "cell_type": "markdown",
   "metadata": {},
   "source": [
    "### <span style=\"color:olivedrab\">검정력과 표본크기</span>"
   ]
  },
  {
   "cell_type": "markdown",
   "metadata": {},
   "source": [
    "## 회귀와 예측"
   ]
  },
  {
   "cell_type": "markdown",
   "metadata": {},
   "source": [
    "### <span style=\"color:olivedrab\">단순선형회귀</span>\n",
    "\n",
    "두 변수 간의 관계에 대한 모델\n",
    "\n",
    "상관관계 : 두 변수 사이의 전체적인 관련 강도 제공<br>\n",
    "회귀 : 관계 자체를 정량화하는 방법\n",
    "\n",
    "예측하고자 하는 변수 : 종속변수, 목표변수, Y 변수, 응답변수, 반응변수, 출력<br>\n",
    "예측하기 위해 사용되는 변수 : 독립변수, 예측변수, X 변수, 피쳐, 속성"
   ]
  },
  {
   "cell_type": "markdown",
   "metadata": {},
   "source": [
    "#### <span style=\"color:dodgerblue\">회귀식</span>\n",
    "\n",
    "$Y = b_0 + b_1X$\n",
    "\n",
    "다음 식으로 선형 관계를 이용해 변수 X로부터 변수 Y 예측\n",
    "\n",
    "$b_0$ : 절편(상수)<BR>\n",
    "$b_1$ : X의 기울기, 계수"
   ]
  },
  {
   "cell_type": "code",
   "execution_count": 47,
   "metadata": {
    "ExecuteTime": {
     "end_time": "2022-08-29T09:11:20.458687Z",
     "start_time": "2022-08-29T09:11:20.430760Z"
    }
   },
   "outputs": [
    {
     "data": {
      "text/html": [
       "<div>\n",
       "<style scoped>\n",
       "    .dataframe tbody tr th:only-of-type {\n",
       "        vertical-align: middle;\n",
       "    }\n",
       "\n",
       "    .dataframe tbody tr th {\n",
       "        vertical-align: top;\n",
       "    }\n",
       "\n",
       "    .dataframe thead th {\n",
       "        text-align: right;\n",
       "    }\n",
       "</style>\n",
       "<table border=\"1\" class=\"dataframe\">\n",
       "  <thead>\n",
       "    <tr style=\"text-align: right;\">\n",
       "      <th></th>\n",
       "      <th>PEFR</th>\n",
       "      <th>Exposure</th>\n",
       "    </tr>\n",
       "  </thead>\n",
       "  <tbody>\n",
       "    <tr>\n",
       "      <th>0</th>\n",
       "      <td>390</td>\n",
       "      <td>0</td>\n",
       "    </tr>\n",
       "    <tr>\n",
       "      <th>1</th>\n",
       "      <td>410</td>\n",
       "      <td>0</td>\n",
       "    </tr>\n",
       "    <tr>\n",
       "      <th>2</th>\n",
       "      <td>430</td>\n",
       "      <td>0</td>\n",
       "    </tr>\n",
       "    <tr>\n",
       "      <th>3</th>\n",
       "      <td>460</td>\n",
       "      <td>0</td>\n",
       "    </tr>\n",
       "    <tr>\n",
       "      <th>4</th>\n",
       "      <td>420</td>\n",
       "      <td>1</td>\n",
       "    </tr>\n",
       "    <tr>\n",
       "      <th>...</th>\n",
       "      <td>...</td>\n",
       "      <td>...</td>\n",
       "    </tr>\n",
       "    <tr>\n",
       "      <th>117</th>\n",
       "      <td>450</td>\n",
       "      <td>22</td>\n",
       "    </tr>\n",
       "    <tr>\n",
       "      <th>118</th>\n",
       "      <td>490</td>\n",
       "      <td>22</td>\n",
       "    </tr>\n",
       "    <tr>\n",
       "      <th>119</th>\n",
       "      <td>500</td>\n",
       "      <td>22</td>\n",
       "    </tr>\n",
       "    <tr>\n",
       "      <th>120</th>\n",
       "      <td>370</td>\n",
       "      <td>23</td>\n",
       "    </tr>\n",
       "    <tr>\n",
       "      <th>121</th>\n",
       "      <td>390</td>\n",
       "      <td>23</td>\n",
       "    </tr>\n",
       "  </tbody>\n",
       "</table>\n",
       "<p>122 rows × 2 columns</p>\n",
       "</div>"
      ],
      "text/plain": [
       "     PEFR  Exposure\n",
       "0     390         0\n",
       "1     410         0\n",
       "2     430         0\n",
       "3     460         0\n",
       "4     420         1\n",
       "..    ...       ...\n",
       "117   450        22\n",
       "118   490        22\n",
       "119   500        22\n",
       "120   370        23\n",
       "121   390        23\n",
       "\n",
       "[122 rows x 2 columns]"
      ]
     },
     "execution_count": 47,
     "metadata": {},
     "output_type": "execute_result"
    }
   ],
   "source": [
    "lung"
   ]
  },
  {
   "cell_type": "code",
   "execution_count": 48,
   "metadata": {
    "ExecuteTime": {
     "end_time": "2022-08-29T09:11:20.855632Z",
     "start_time": "2022-08-29T09:11:20.462675Z"
    }
   },
   "outputs": [
    {
     "data": {
      "text/plain": [
       "<Figure size 720x720 with 0 Axes>"
      ]
     },
     "execution_count": 48,
     "metadata": {},
     "output_type": "execute_result"
    },
    {
     "data": {
      "image/png": "[encoded data removed]",
      "text/plain": [
       "<Figure size 432x288 with 1 Axes>"
      ]
     },
     "metadata": {
      "needs_background": "light"
     },
     "output_type": "display_data"
    },
    {
     "data": {
      "text/plain": [
       "<Figure size 720x720 with 0 Axes>"
      ]
     },
     "metadata": {},
     "output_type": "display_data"
    }
   ],
   "source": [
    "# 노동자들이 면진에 노출된 연수와 폐활량 간의 산점도\n",
    "plt.scatter(x=lung['Exposure'], y=lung['PEFR'])\n",
    "plt.xlabel('Exposure')\n",
    "plt.ylabel('PEFR')\n",
    "plt.figure(figsize=(10,10))"
   ]
  },
  {
   "cell_type": "code",
   "execution_count": 49,
   "metadata": {
    "ExecuteTime": {
     "end_time": "2022-08-29T09:11:20.871588Z",
     "start_time": "2022-08-29T09:11:20.858623Z"
    }
   },
   "outputs": [
    {
     "name": "stdout",
     "output_type": "stream",
     "text": [
      "Intercept: 424.582806573957\n",
      "Coefficient Exposure: -4.1845764854614425\n"
     ]
    }
   ],
   "source": [
    "# 선형 회귀 모델\n",
    "predictors = ['Exposure']\n",
    "outcome = 'PEFR'\n",
    "\n",
    "lr = LinearRegression()\n",
    "lr.fit(lung[predictors], lung[outcome])\n",
    "\n",
    "print(f'Intercept: {lr.intercept_}') # 절편\n",
    "print(f'Coefficient Exposure: {lr.coef_[0]}') # 기울기"
   ]
  },
  {
   "cell_type": "markdown",
   "metadata": {},
   "source": [
    "#### <span style=\"color:dodgerblue\">적합값과 잔차</span>\n",
    "\n",
    "회귀분석에서 중요한 개념 : 적합값(예측값), 잔차(예측 오차)\n",
    "\n",
    "$Y_i = b_0 + b_1X_i + e_i$ ($e_i$ : 오차항)\n",
    "\n",
    "추정치라는 것을 나타내기 위해 $e_i$를 지우고 hat 표기법 추가할 수 있음\n",
    "\n",
    "$\\hat{Y_i} = \\hat{b_0} + \\hat{b_1}X_i$\n",
    "\n",
    "즉, 잔차 $\\hat{e_i} = Y_i - \\hat{Y_I}$"
   ]
  },
  {
   "cell_type": "code",
   "execution_count": 50,
   "metadata": {
    "ExecuteTime": {
     "end_time": "2022-08-29T09:11:20.935418Z",
     "start_time": "2022-08-29T09:11:20.874581Z"
    }
   },
   "outputs": [
    {
     "data": {
      "text/html": [
       "<div>\n",
       "<style scoped>\n",
       "    .dataframe tbody tr th:only-of-type {\n",
       "        vertical-align: middle;\n",
       "    }\n",
       "\n",
       "    .dataframe tbody tr th {\n",
       "        vertical-align: top;\n",
       "    }\n",
       "\n",
       "    .dataframe thead th {\n",
       "        text-align: right;\n",
       "    }\n",
       "</style>\n",
       "<table border=\"1\" class=\"dataframe\">\n",
       "  <thead>\n",
       "    <tr style=\"text-align: right;\">\n",
       "      <th></th>\n",
       "      <th>0</th>\n",
       "      <th>1</th>\n",
       "      <th>2</th>\n",
       "      <th>3</th>\n",
       "      <th>4</th>\n",
       "      <th>5</th>\n",
       "      <th>6</th>\n",
       "      <th>7</th>\n",
       "      <th>8</th>\n",
       "      <th>9</th>\n",
       "      <th>...</th>\n",
       "      <th>112</th>\n",
       "      <th>113</th>\n",
       "      <th>114</th>\n",
       "      <th>115</th>\n",
       "      <th>116</th>\n",
       "      <th>117</th>\n",
       "      <th>118</th>\n",
       "      <th>119</th>\n",
       "      <th>120</th>\n",
       "      <th>121</th>\n",
       "    </tr>\n",
       "  </thead>\n",
       "  <tbody>\n",
       "    <tr>\n",
       "      <th>실제값</th>\n",
       "      <td>390.000000</td>\n",
       "      <td>410.000000</td>\n",
       "      <td>430.000000</td>\n",
       "      <td>460.000000</td>\n",
       "      <td>420.00000</td>\n",
       "      <td>280.000000</td>\n",
       "      <td>420.000000</td>\n",
       "      <td>520.000000</td>\n",
       "      <td>610.000000</td>\n",
       "      <td>590.000000</td>\n",
       "      <td>...</td>\n",
       "      <td>510.0000</td>\n",
       "      <td>530.0000</td>\n",
       "      <td>280.000000</td>\n",
       "      <td>360.000000</td>\n",
       "      <td>400.000000</td>\n",
       "      <td>450.000000</td>\n",
       "      <td>490.000000</td>\n",
       "      <td>500.000000</td>\n",
       "      <td>370.000000</td>\n",
       "      <td>390.000000</td>\n",
       "    </tr>\n",
       "    <tr>\n",
       "      <th>적합값</th>\n",
       "      <td>424.582807</td>\n",
       "      <td>424.582807</td>\n",
       "      <td>424.582807</td>\n",
       "      <td>424.582807</td>\n",
       "      <td>420.39823</td>\n",
       "      <td>416.213654</td>\n",
       "      <td>416.213654</td>\n",
       "      <td>416.213654</td>\n",
       "      <td>412.029077</td>\n",
       "      <td>412.029077</td>\n",
       "      <td>...</td>\n",
       "      <td>336.7067</td>\n",
       "      <td>336.7067</td>\n",
       "      <td>332.522124</td>\n",
       "      <td>332.522124</td>\n",
       "      <td>332.522124</td>\n",
       "      <td>332.522124</td>\n",
       "      <td>332.522124</td>\n",
       "      <td>332.522124</td>\n",
       "      <td>328.337547</td>\n",
       "      <td>328.337547</td>\n",
       "    </tr>\n",
       "    <tr>\n",
       "      <th>오차</th>\n",
       "      <td>-34.582807</td>\n",
       "      <td>-14.582807</td>\n",
       "      <td>5.417193</td>\n",
       "      <td>35.417193</td>\n",
       "      <td>-0.39823</td>\n",
       "      <td>-136.213654</td>\n",
       "      <td>3.786346</td>\n",
       "      <td>103.786346</td>\n",
       "      <td>197.970923</td>\n",
       "      <td>177.970923</td>\n",
       "      <td>...</td>\n",
       "      <td>173.2933</td>\n",
       "      <td>193.2933</td>\n",
       "      <td>-52.522124</td>\n",
       "      <td>27.477876</td>\n",
       "      <td>67.477876</td>\n",
       "      <td>117.477876</td>\n",
       "      <td>157.477876</td>\n",
       "      <td>167.477876</td>\n",
       "      <td>41.662453</td>\n",
       "      <td>61.662453</td>\n",
       "    </tr>\n",
       "  </tbody>\n",
       "</table>\n",
       "<p>3 rows × 122 columns</p>\n",
       "</div>"
      ],
      "text/plain": [
       "            0           1           2           3          4           5    \\\n",
       "실제값  390.000000  410.000000  430.000000  460.000000  420.00000  280.000000   \n",
       "적합값  424.582807  424.582807  424.582807  424.582807  420.39823  416.213654   \n",
       "오차   -34.582807  -14.582807    5.417193   35.417193   -0.39823 -136.213654   \n",
       "\n",
       "            6           7           8           9    ...       112       113  \\\n",
       "실제값  420.000000  520.000000  610.000000  590.000000  ...  510.0000  530.0000   \n",
       "적합값  416.213654  416.213654  412.029077  412.029077  ...  336.7067  336.7067   \n",
       "오차     3.786346  103.786346  197.970923  177.970923  ...  173.2933  193.2933   \n",
       "\n",
       "            114         115         116         117         118         119  \\\n",
       "실제값  280.000000  360.000000  400.000000  450.000000  490.000000  500.000000   \n",
       "적합값  332.522124  332.522124  332.522124  332.522124  332.522124  332.522124   \n",
       "오차   -52.522124   27.477876   67.477876  117.477876  157.477876  167.477876   \n",
       "\n",
       "            120         121  \n",
       "실제값  370.000000  390.000000  \n",
       "적합값  328.337547  328.337547  \n",
       "오차    41.662453   61.662453  \n",
       "\n",
       "[3 rows x 122 columns]"
      ]
     },
     "execution_count": 50,
     "metadata": {},
     "output_type": "execute_result"
    }
   ],
   "source": [
    "fitted = lr.predict(lung[predictors]) # 적합값(예측값)\n",
    "residuals = lung[outcome] - fitted # 실제값 - 적합값 (오차)\n",
    "\n",
    "pd.DataFrame([lung[outcome], fitted, residuals], index=['실제값', '적합값', '오차'])"
   ]
  },
  {
   "cell_type": "markdown",
   "metadata": {},
   "source": [
    "#### <span style=\"color:dodgerblue\">최소제곱</span>\n",
    "\n",
    "잔차제곱(RSS) : 잔차들을 제곱한 값들의 합\n",
    "\n",
    "일반적으로 회귀선은 잔차제곱을 최소화하는 선 - 최소제곱회귀, 보통최소제곱회귀\n",
    "\n",
    "RSS 최소화하는 방법으로 $\\hat{b_0}, \\hat{b_1}$ 추정\n",
    "\n",
    "계산의 편의성 덕분에 최소제곱이 널리 사용됨 But, 특잇값에 매우 민감"
   ]
  },
  {
   "cell_type": "markdown",
   "metadata": {},
   "source": [
    "#### <span style=\"color:dodgerblue\">예측 대 설명</span>\n",
    "\n",
    "데이터를 피팅한 회귀 모델은 X의 변화가 Y의 변화를 유도하도록 설명되지만, 회귀방정식 자체가 인과관계를 정확히 증명하는 것은 아님\n",
    "\n",
    "ex) 회귀방정식은 웹 광고에서 클릭 수와 전환율 간의 명확한 관계를 보여주지만, 광고 클릭이 판매로 연결된다는 결론을 끌어내지는 못함<br>\n",
    "인과관계에 대한 결론을 이끌어내기 위해서는 추가 지식을 발휘해야 한다."
   ]
  },
  {
   "cell_type": "markdown",
   "metadata": {},
   "source": [
    "### <span style=\"color:olivedrab\">다중선형회귀</span>\n",
    "\n",
    "예측변수가 여러 개일 때의 회귀식\n",
    "\n",
    "$Y = b_0 + b_1X_1 + b_2X_2 + b_pX_p + e$\n",
    "\n",
    "각 계수와 그 변수들 사이의 관계는 선형이므로 선형모형"
   ]
  },
  {
   "cell_type": "markdown",
   "metadata": {},
   "source": [
    "#### <span style=\"color:dodgerblue\">킹 카운티 주택 정보 예제</span>\n",
    "\n",
    "다중선형회귀분석의 대표적 사례 : 주택 가치 추정"
   ]
  },
  {
   "cell_type": "code",
   "execution_count": 51,
   "metadata": {
    "ExecuteTime": {
     "end_time": "2022-08-29T09:11:21.015208Z",
     "start_time": "2022-08-29T09:11:20.938411Z"
    }
   },
   "outputs": [
    {
     "data": {
      "text/html": [
       "<div>\n",
       "<style scoped>\n",
       "    .dataframe tbody tr th:only-of-type {\n",
       "        vertical-align: middle;\n",
       "    }\n",
       "\n",
       "    .dataframe tbody tr th {\n",
       "        vertical-align: top;\n",
       "    }\n",
       "\n",
       "    .dataframe thead th {\n",
       "        text-align: right;\n",
       "    }\n",
       "</style>\n",
       "<table border=\"1\" class=\"dataframe\">\n",
       "  <thead>\n",
       "    <tr style=\"text-align: right;\">\n",
       "      <th></th>\n",
       "      <th>DocumentDate</th>\n",
       "      <th>SalePrice</th>\n",
       "      <th>PropertyID</th>\n",
       "      <th>PropertyType</th>\n",
       "      <th>ym</th>\n",
       "      <th>zhvi_px</th>\n",
       "      <th>zhvi_idx</th>\n",
       "      <th>AdjSalePrice</th>\n",
       "      <th>NbrLivingUnits</th>\n",
       "      <th>SqFtLot</th>\n",
       "      <th>...</th>\n",
       "      <th>Bathrooms</th>\n",
       "      <th>Bedrooms</th>\n",
       "      <th>BldgGrade</th>\n",
       "      <th>YrBuilt</th>\n",
       "      <th>YrRenovated</th>\n",
       "      <th>TrafficNoise</th>\n",
       "      <th>LandVal</th>\n",
       "      <th>ImpsVal</th>\n",
       "      <th>ZipCode</th>\n",
       "      <th>NewConstruction</th>\n",
       "    </tr>\n",
       "  </thead>\n",
       "  <tbody>\n",
       "    <tr>\n",
       "      <th>1</th>\n",
       "      <td>2014-09-16</td>\n",
       "      <td>280000</td>\n",
       "      <td>1000102</td>\n",
       "      <td>Multiplex</td>\n",
       "      <td>2014-09-01</td>\n",
       "      <td>405100</td>\n",
       "      <td>0.930836</td>\n",
       "      <td>300805.0</td>\n",
       "      <td>2</td>\n",
       "      <td>9373</td>\n",
       "      <td>...</td>\n",
       "      <td>3.00</td>\n",
       "      <td>6</td>\n",
       "      <td>7</td>\n",
       "      <td>1991</td>\n",
       "      <td>0</td>\n",
       "      <td>0</td>\n",
       "      <td>70000</td>\n",
       "      <td>229000</td>\n",
       "      <td>98002</td>\n",
       "      <td>False</td>\n",
       "    </tr>\n",
       "    <tr>\n",
       "      <th>2</th>\n",
       "      <td>2006-06-16</td>\n",
       "      <td>1000000</td>\n",
       "      <td>1200013</td>\n",
       "      <td>Single Family</td>\n",
       "      <td>2006-06-01</td>\n",
       "      <td>404400</td>\n",
       "      <td>0.929228</td>\n",
       "      <td>1076162.0</td>\n",
       "      <td>1</td>\n",
       "      <td>20156</td>\n",
       "      <td>...</td>\n",
       "      <td>3.75</td>\n",
       "      <td>4</td>\n",
       "      <td>10</td>\n",
       "      <td>2005</td>\n",
       "      <td>0</td>\n",
       "      <td>0</td>\n",
       "      <td>203000</td>\n",
       "      <td>590000</td>\n",
       "      <td>98166</td>\n",
       "      <td>True</td>\n",
       "    </tr>\n",
       "    <tr>\n",
       "      <th>3</th>\n",
       "      <td>2007-01-29</td>\n",
       "      <td>745000</td>\n",
       "      <td>1200019</td>\n",
       "      <td>Single Family</td>\n",
       "      <td>2007-01-01</td>\n",
       "      <td>425600</td>\n",
       "      <td>0.977941</td>\n",
       "      <td>761805.0</td>\n",
       "      <td>1</td>\n",
       "      <td>26036</td>\n",
       "      <td>...</td>\n",
       "      <td>1.75</td>\n",
       "      <td>4</td>\n",
       "      <td>8</td>\n",
       "      <td>1947</td>\n",
       "      <td>0</td>\n",
       "      <td>0</td>\n",
       "      <td>183000</td>\n",
       "      <td>275000</td>\n",
       "      <td>98166</td>\n",
       "      <td>False</td>\n",
       "    </tr>\n",
       "    <tr>\n",
       "      <th>4</th>\n",
       "      <td>2008-02-25</td>\n",
       "      <td>425000</td>\n",
       "      <td>2800016</td>\n",
       "      <td>Single Family</td>\n",
       "      <td>2008-02-01</td>\n",
       "      <td>418400</td>\n",
       "      <td>0.961397</td>\n",
       "      <td>442065.0</td>\n",
       "      <td>1</td>\n",
       "      <td>8618</td>\n",
       "      <td>...</td>\n",
       "      <td>3.75</td>\n",
       "      <td>5</td>\n",
       "      <td>7</td>\n",
       "      <td>1966</td>\n",
       "      <td>0</td>\n",
       "      <td>0</td>\n",
       "      <td>104000</td>\n",
       "      <td>229000</td>\n",
       "      <td>98168</td>\n",
       "      <td>False</td>\n",
       "    </tr>\n",
       "    <tr>\n",
       "      <th>5</th>\n",
       "      <td>2013-03-29</td>\n",
       "      <td>240000</td>\n",
       "      <td>2800024</td>\n",
       "      <td>Single Family</td>\n",
       "      <td>2013-03-01</td>\n",
       "      <td>351600</td>\n",
       "      <td>0.807904</td>\n",
       "      <td>297065.0</td>\n",
       "      <td>1</td>\n",
       "      <td>8620</td>\n",
       "      <td>...</td>\n",
       "      <td>1.75</td>\n",
       "      <td>4</td>\n",
       "      <td>7</td>\n",
       "      <td>1948</td>\n",
       "      <td>0</td>\n",
       "      <td>0</td>\n",
       "      <td>104000</td>\n",
       "      <td>205000</td>\n",
       "      <td>98168</td>\n",
       "      <td>False</td>\n",
       "    </tr>\n",
       "    <tr>\n",
       "      <th>...</th>\n",
       "      <td>...</td>\n",
       "      <td>...</td>\n",
       "      <td>...</td>\n",
       "      <td>...</td>\n",
       "      <td>...</td>\n",
       "      <td>...</td>\n",
       "      <td>...</td>\n",
       "      <td>...</td>\n",
       "      <td>...</td>\n",
       "      <td>...</td>\n",
       "      <td>...</td>\n",
       "      <td>...</td>\n",
       "      <td>...</td>\n",
       "      <td>...</td>\n",
       "      <td>...</td>\n",
       "      <td>...</td>\n",
       "      <td>...</td>\n",
       "      <td>...</td>\n",
       "      <td>...</td>\n",
       "      <td>...</td>\n",
       "      <td>...</td>\n",
       "    </tr>\n",
       "    <tr>\n",
       "      <th>27057</th>\n",
       "      <td>2011-04-08</td>\n",
       "      <td>325000</td>\n",
       "      <td>9842300710</td>\n",
       "      <td>Single Family</td>\n",
       "      <td>2011-04-01</td>\n",
       "      <td>318700</td>\n",
       "      <td>0.732307</td>\n",
       "      <td>443803.0</td>\n",
       "      <td>1</td>\n",
       "      <td>5468</td>\n",
       "      <td>...</td>\n",
       "      <td>1.75</td>\n",
       "      <td>3</td>\n",
       "      <td>7</td>\n",
       "      <td>1951</td>\n",
       "      <td>0</td>\n",
       "      <td>0</td>\n",
       "      <td>201000</td>\n",
       "      <td>172000</td>\n",
       "      <td>98126</td>\n",
       "      <td>False</td>\n",
       "    </tr>\n",
       "    <tr>\n",
       "      <th>27058</th>\n",
       "      <td>2007-09-28</td>\n",
       "      <td>1580000</td>\n",
       "      <td>9845500010</td>\n",
       "      <td>Single Family</td>\n",
       "      <td>2007-09-01</td>\n",
       "      <td>433500</td>\n",
       "      <td>0.996094</td>\n",
       "      <td>1586196.0</td>\n",
       "      <td>1</td>\n",
       "      <td>23914</td>\n",
       "      <td>...</td>\n",
       "      <td>4.50</td>\n",
       "      <td>4</td>\n",
       "      <td>11</td>\n",
       "      <td>2000</td>\n",
       "      <td>0</td>\n",
       "      <td>1</td>\n",
       "      <td>703000</td>\n",
       "      <td>951000</td>\n",
       "      <td>98040</td>\n",
       "      <td>False</td>\n",
       "    </tr>\n",
       "    <tr>\n",
       "      <th>27061</th>\n",
       "      <td>2012-07-09</td>\n",
       "      <td>165000</td>\n",
       "      <td>9899200010</td>\n",
       "      <td>Single Family</td>\n",
       "      <td>2012-07-01</td>\n",
       "      <td>325300</td>\n",
       "      <td>0.747472</td>\n",
       "      <td>220744.0</td>\n",
       "      <td>1</td>\n",
       "      <td>11170</td>\n",
       "      <td>...</td>\n",
       "      <td>1.00</td>\n",
       "      <td>4</td>\n",
       "      <td>6</td>\n",
       "      <td>1971</td>\n",
       "      <td>0</td>\n",
       "      <td>0</td>\n",
       "      <td>92000</td>\n",
       "      <td>130000</td>\n",
       "      <td>98055</td>\n",
       "      <td>False</td>\n",
       "    </tr>\n",
       "    <tr>\n",
       "      <th>27062</th>\n",
       "      <td>2006-05-26</td>\n",
       "      <td>315000</td>\n",
       "      <td>9900000355</td>\n",
       "      <td>Single Family</td>\n",
       "      <td>2006-05-01</td>\n",
       "      <td>400600</td>\n",
       "      <td>0.920496</td>\n",
       "      <td>342207.0</td>\n",
       "      <td>1</td>\n",
       "      <td>6223</td>\n",
       "      <td>...</td>\n",
       "      <td>2.00</td>\n",
       "      <td>3</td>\n",
       "      <td>7</td>\n",
       "      <td>1939</td>\n",
       "      <td>0</td>\n",
       "      <td>0</td>\n",
       "      <td>103000</td>\n",
       "      <td>212000</td>\n",
       "      <td>98166</td>\n",
       "      <td>False</td>\n",
       "    </tr>\n",
       "    <tr>\n",
       "      <th>27063</th>\n",
       "      <td>2007-01-09</td>\n",
       "      <td>465000</td>\n",
       "      <td>9906000035</td>\n",
       "      <td>Single Family</td>\n",
       "      <td>2007-01-01</td>\n",
       "      <td>425600</td>\n",
       "      <td>0.977941</td>\n",
       "      <td>475489.0</td>\n",
       "      <td>1</td>\n",
       "      <td>4400</td>\n",
       "      <td>...</td>\n",
       "      <td>1.50</td>\n",
       "      <td>3</td>\n",
       "      <td>7</td>\n",
       "      <td>1928</td>\n",
       "      <td>0</td>\n",
       "      <td>0</td>\n",
       "      <td>311000</td>\n",
       "      <td>268000</td>\n",
       "      <td>98103</td>\n",
       "      <td>False</td>\n",
       "    </tr>\n",
       "  </tbody>\n",
       "</table>\n",
       "<p>22687 rows × 22 columns</p>\n",
       "</div>"
      ],
      "text/plain": [
       "      DocumentDate  SalePrice  PropertyID   PropertyType          ym  zhvi_px  \\\n",
       "1       2014-09-16     280000     1000102      Multiplex  2014-09-01   405100   \n",
       "2       2006-06-16    1000000     1200013  Single Family  2006-06-01   404400   \n",
       "3       2007-01-29     745000     1200019  Single Family  2007-01-01   425600   \n",
       "4       2008-02-25     425000     2800016  Single Family  2008-02-01   418400   \n",
       "5       2013-03-29     240000     2800024  Single Family  2013-03-01   351600   \n",
       "...            ...        ...         ...            ...         ...      ...   \n",
       "27057   2011-04-08     325000  9842300710  Single Family  2011-04-01   318700   \n",
       "27058   2007-09-28    1580000  9845500010  Single Family  2007-09-01   433500   \n",
       "27061   2012-07-09     165000  9899200010  Single Family  2012-07-01   325300   \n",
       "27062   2006-05-26     315000  9900000355  Single Family  2006-05-01   400600   \n",
       "27063   2007-01-09     465000  9906000035  Single Family  2007-01-01   425600   \n",
       "\n",
       "       zhvi_idx  AdjSalePrice  NbrLivingUnits  SqFtLot  ...  Bathrooms  \\\n",
       "1      0.930836      300805.0               2     9373  ...       3.00   \n",
       "2      0.929228     1076162.0               1    20156  ...       3.75   \n",
       "3      0.977941      761805.0               1    26036  ...       1.75   \n",
       "4      0.961397      442065.0               1     8618  ...       3.75   \n",
       "5      0.807904      297065.0               1     8620  ...       1.75   \n",
       "...         ...           ...             ...      ...  ...        ...   \n",
       "27057  0.732307      443803.0               1     5468  ...       1.75   \n",
       "27058  0.996094     1586196.0               1    23914  ...       4.50   \n",
       "27061  0.747472      220744.0               1    11170  ...       1.00   \n",
       "27062  0.920496      342207.0               1     6223  ...       2.00   \n",
       "27063  0.977941      475489.0               1     4400  ...       1.50   \n",
       "\n",
       "       Bedrooms  BldgGrade  YrBuilt  YrRenovated  TrafficNoise  LandVal  \\\n",
       "1             6          7     1991            0             0    70000   \n",
       "2             4         10     2005            0             0   203000   \n",
       "3             4          8     1947            0             0   183000   \n",
       "4             5          7     1966            0             0   104000   \n",
       "5             4          7     1948            0             0   104000   \n",
       "...         ...        ...      ...          ...           ...      ...   \n",
       "27057         3          7     1951            0             0   201000   \n",
       "27058         4         11     2000            0             1   703000   \n",
       "27061         4          6     1971            0             0    92000   \n",
       "27062         3          7     1939            0             0   103000   \n",
       "27063         3          7     1928            0             0   311000   \n",
       "\n",
       "       ImpsVal  ZipCode  NewConstruction  \n",
       "1       229000    98002            False  \n",
       "2       590000    98166             True  \n",
       "3       275000    98166            False  \n",
       "4       229000    98168            False  \n",
       "5       205000    98168            False  \n",
       "...        ...      ...              ...  \n",
       "27057   172000    98126            False  \n",
       "27058   951000    98040            False  \n",
       "27061   130000    98055            False  \n",
       "27062   212000    98166            False  \n",
       "27063   268000    98103            False  \n",
       "\n",
       "[22687 rows x 22 columns]"
      ]
     },
     "execution_count": 51,
     "metadata": {},
     "output_type": "execute_result"
    }
   ],
   "source": [
    "house"
   ]
  },
  {
   "cell_type": "code",
   "execution_count": 52,
   "metadata": {
    "ExecuteTime": {
     "end_time": "2022-08-29T09:11:21.047122Z",
     "start_time": "2022-08-29T09:11:21.018200Z"
    }
   },
   "outputs": [
    {
     "data": {
      "text/html": [
       "<div>\n",
       "<style scoped>\n",
       "    .dataframe tbody tr th:only-of-type {\n",
       "        vertical-align: middle;\n",
       "    }\n",
       "\n",
       "    .dataframe tbody tr th {\n",
       "        vertical-align: top;\n",
       "    }\n",
       "\n",
       "    .dataframe thead th {\n",
       "        text-align: right;\n",
       "    }\n",
       "</style>\n",
       "<table border=\"1\" class=\"dataframe\">\n",
       "  <thead>\n",
       "    <tr style=\"text-align: right;\">\n",
       "      <th></th>\n",
       "      <th>AdjSalePrice</th>\n",
       "      <th>SqFtTotLiving</th>\n",
       "      <th>SqFtLot</th>\n",
       "      <th>Bathrooms</th>\n",
       "      <th>Bedrooms</th>\n",
       "      <th>BldgGrade</th>\n",
       "    </tr>\n",
       "  </thead>\n",
       "  <tbody>\n",
       "    <tr>\n",
       "      <th>1</th>\n",
       "      <td>300805.0</td>\n",
       "      <td>2400</td>\n",
       "      <td>9373</td>\n",
       "      <td>3.00</td>\n",
       "      <td>6</td>\n",
       "      <td>7</td>\n",
       "    </tr>\n",
       "    <tr>\n",
       "      <th>2</th>\n",
       "      <td>1076162.0</td>\n",
       "      <td>3764</td>\n",
       "      <td>20156</td>\n",
       "      <td>3.75</td>\n",
       "      <td>4</td>\n",
       "      <td>10</td>\n",
       "    </tr>\n",
       "    <tr>\n",
       "      <th>3</th>\n",
       "      <td>761805.0</td>\n",
       "      <td>2060</td>\n",
       "      <td>26036</td>\n",
       "      <td>1.75</td>\n",
       "      <td>4</td>\n",
       "      <td>8</td>\n",
       "    </tr>\n",
       "    <tr>\n",
       "      <th>4</th>\n",
       "      <td>442065.0</td>\n",
       "      <td>3200</td>\n",
       "      <td>8618</td>\n",
       "      <td>3.75</td>\n",
       "      <td>5</td>\n",
       "      <td>7</td>\n",
       "    </tr>\n",
       "    <tr>\n",
       "      <th>5</th>\n",
       "      <td>297065.0</td>\n",
       "      <td>1720</td>\n",
       "      <td>8620</td>\n",
       "      <td>1.75</td>\n",
       "      <td>4</td>\n",
       "      <td>7</td>\n",
       "    </tr>\n",
       "  </tbody>\n",
       "</table>\n",
       "</div>"
      ],
      "text/plain": [
       "   AdjSalePrice  SqFtTotLiving  SqFtLot  Bathrooms  Bedrooms  BldgGrade\n",
       "1      300805.0           2400     9373       3.00         6          7\n",
       "2     1076162.0           3764    20156       3.75         4         10\n",
       "3      761805.0           2060    26036       1.75         4          8\n",
       "4      442065.0           3200     8618       3.75         5          7\n",
       "5      297065.0           1720     8620       1.75         4          7"
      ]
     },
     "execution_count": 52,
     "metadata": {},
     "output_type": "execute_result"
    }
   ],
   "source": [
    "subset = ['AdjSalePrice', 'SqFtTotLiving', 'SqFtLot', 'Bathrooms', 'Bedrooms', 'BldgGrade']\n",
    "\n",
    "house_ml = house[subset]\n",
    "house_ml.head()"
   ]
  },
  {
   "cell_type": "code",
   "execution_count": 53,
   "metadata": {
    "ExecuteTime": {
     "end_time": "2022-08-29T09:11:21.079038Z",
     "start_time": "2022-08-29T09:11:21.050115Z"
    }
   },
   "outputs": [
    {
     "data": {
      "text/plain": [
       "LinearRegression()"
      ]
     },
     "execution_count": 53,
     "metadata": {},
     "output_type": "execute_result"
    }
   ],
   "source": [
    "X = house_ml.loc[:,'SqFtTotLiving':]\n",
    "y = house_ml.loc[:,'AdjSalePrice']\n",
    "\n",
    "house_lm = LinearRegression()\n",
    "house_lm.fit(X, y)"
   ]
  },
  {
   "cell_type": "code",
   "execution_count": 54,
   "metadata": {
    "ExecuteTime": {
     "end_time": "2022-08-29T09:11:21.095002Z",
     "start_time": "2022-08-29T09:11:21.082031Z"
    }
   },
   "outputs": [
    {
     "name": "stdout",
     "output_type": "stream",
     "text": [
      "Intercept : -521871.368\n",
      "Coefficients :\n",
      "SqFtTotLiving: 228.831\n",
      "SqFtLot: -0.060\n",
      "Bathrooms: -19442.840\n",
      "Bedrooms: -47769.955\n",
      "BldgGrade: 106106.963\n"
     ]
    }
   ],
   "source": [
    "predictors = ['SqFtTotLiving', 'SqFtLot', 'Bathrooms', 'Bedrooms', 'BldgGrade']\n",
    "print(f'Intercept : {house_lm.intercept_:.3f}')\n",
    "print('Coefficients :')\n",
    "for name, coef in zip(predictors, house_lm.coef_):\n",
    "    print(f'{name}: {coef:.3f}')"
   ]
  },
  {
   "cell_type": "markdown",
   "metadata": {},
   "source": [
    "#### <span style=\"color:dodgerblue\">모형 평가</span>\n",
    "\n",
    "데이터 과학 관점에서 가장 중요한 성능 지표\n",
    "\n",
    "**RMSE (제곱근평균제곱오차)** : 예측된 $\\hat{y_i}$ 값들의 평균제곱오차의 제곱근<br>\n",
    "전반적인 모델의 정확도 측정, 다른 모델과 비교하기 위한 기준"
   ]
  },
  {
   "cell_type": "code",
   "execution_count": 55,
   "metadata": {
    "ExecuteTime": {
     "end_time": "2022-08-29T09:11:21.110954Z",
     "start_time": "2022-08-29T09:11:21.097988Z"
    }
   },
   "outputs": [
    {
     "name": "stdout",
     "output_type": "stream",
     "text": [
      "RMSE : 261220\n",
      "r2 : 0.541\n"
     ]
    }
   ],
   "source": [
    "fitted = house_lm.predict(X)\n",
    "RMSE = np.sqrt(mean_squared_error(y, fitted))\n",
    "r2 = r2_score(y, fitted)\n",
    "print(f'RMSE : {RMSE:.0f}')\n",
    "print(f'r2 : {r2:.3f}')"
   ]
  },
  {
   "cell_type": "code",
   "execution_count": 56,
   "metadata": {
    "ExecuteTime": {
     "end_time": "2022-08-29T09:11:21.158827Z",
     "start_time": "2022-08-29T09:11:21.113947Z"
    }
   },
   "outputs": [
    {
     "data": {
      "text/html": [
       "<table class=\"simpletable\">\n",
       "<caption>OLS Regression Results</caption>\n",
       "<tr>\n",
       "  <th>Dep. Variable:</th>      <td>AdjSalePrice</td>   <th>  R-squared:         </th>  <td>   0.541</td>  \n",
       "</tr>\n",
       "<tr>\n",
       "  <th>Model:</th>                   <td>OLS</td>       <th>  Adj. R-squared:    </th>  <td>   0.540</td>  \n",
       "</tr>\n",
       "<tr>\n",
       "  <th>Method:</th>             <td>Least Squares</td>  <th>  F-statistic:       </th>  <td>   5338.</td>  \n",
       "</tr>\n",
       "<tr>\n",
       "  <th>Date:</th>             <td>Mon, 29 Aug 2022</td> <th>  Prob (F-statistic):</th>   <td>  0.00</td>   \n",
       "</tr>\n",
       "<tr>\n",
       "  <th>Time:</th>                 <td>18:11:21</td>     <th>  Log-Likelihood:    </th> <td>-3.1517e+05</td>\n",
       "</tr>\n",
       "<tr>\n",
       "  <th>No. Observations:</th>      <td> 22687</td>      <th>  AIC:               </th>  <td>6.304e+05</td> \n",
       "</tr>\n",
       "<tr>\n",
       "  <th>Df Residuals:</th>          <td> 22681</td>      <th>  BIC:               </th>  <td>6.304e+05</td> \n",
       "</tr>\n",
       "<tr>\n",
       "  <th>Df Model:</th>              <td>     5</td>      <th>                     </th>      <td> </td>     \n",
       "</tr>\n",
       "<tr>\n",
       "  <th>Covariance Type:</th>      <td>nonrobust</td>    <th>                     </th>      <td> </td>     \n",
       "</tr>\n",
       "</table>\n",
       "<table class=\"simpletable\">\n",
       "<tr>\n",
       "        <td></td>           <th>coef</th>     <th>std err</th>      <th>t</th>      <th>P>|t|</th>  <th>[0.025</th>    <th>0.975]</th>  \n",
       "</tr>\n",
       "<tr>\n",
       "  <th>SqFtTotLiving</th> <td>  228.8306</td> <td>    3.899</td> <td>   58.694</td> <td> 0.000</td> <td>  221.189</td> <td>  236.472</td>\n",
       "</tr>\n",
       "<tr>\n",
       "  <th>SqFtLot</th>       <td>   -0.0605</td> <td>    0.061</td> <td>   -0.988</td> <td> 0.323</td> <td>   -0.180</td> <td>    0.059</td>\n",
       "</tr>\n",
       "<tr>\n",
       "  <th>Bathrooms</th>     <td>-1.944e+04</td> <td> 3625.388</td> <td>   -5.363</td> <td> 0.000</td> <td>-2.65e+04</td> <td>-1.23e+04</td>\n",
       "</tr>\n",
       "<tr>\n",
       "  <th>Bedrooms</th>      <td>-4.777e+04</td> <td> 2489.732</td> <td>  -19.187</td> <td> 0.000</td> <td>-5.27e+04</td> <td>-4.29e+04</td>\n",
       "</tr>\n",
       "<tr>\n",
       "  <th>BldgGrade</th>     <td> 1.061e+05</td> <td> 2396.445</td> <td>   44.277</td> <td> 0.000</td> <td> 1.01e+05</td> <td> 1.11e+05</td>\n",
       "</tr>\n",
       "<tr>\n",
       "  <th>const</th>         <td>-5.219e+05</td> <td> 1.57e+04</td> <td>  -33.342</td> <td> 0.000</td> <td>-5.53e+05</td> <td>-4.91e+05</td>\n",
       "</tr>\n",
       "</table>\n",
       "<table class=\"simpletable\">\n",
       "<tr>\n",
       "  <th>Omnibus:</th>       <td>29676.557</td> <th>  Durbin-Watson:     </th>   <td>   1.247</td>  \n",
       "</tr>\n",
       "<tr>\n",
       "  <th>Prob(Omnibus):</th>  <td> 0.000</td>   <th>  Jarque-Bera (JB):  </th> <td>19390738.346</td>\n",
       "</tr>\n",
       "<tr>\n",
       "  <th>Skew:</th>           <td> 6.889</td>   <th>  Prob(JB):          </th>   <td>    0.00</td>  \n",
       "</tr>\n",
       "<tr>\n",
       "  <th>Kurtosis:</th>       <td>145.559</td>  <th>  Cond. No.          </th>   <td>2.86e+05</td>  \n",
       "</tr>\n",
       "</table><br/><br/>Notes:<br/>[1] Standard Errors assume that the covariance matrix of the errors is correctly specified.<br/>[2] The condition number is large, 2.86e+05. This might indicate that there are<br/>strong multicollinearity or other numerical problems."
      ],
      "text/plain": [
       "<class 'statsmodels.iolib.summary.Summary'>\n",
       "\"\"\"\n",
       "                            OLS Regression Results                            \n",
       "==============================================================================\n",
       "Dep. Variable:           AdjSalePrice   R-squared:                       0.541\n",
       "Model:                            OLS   Adj. R-squared:                  0.540\n",
       "Method:                 Least Squares   F-statistic:                     5338.\n",
       "Date:                Mon, 29 Aug 2022   Prob (F-statistic):               0.00\n",
       "Time:                        18:11:21   Log-Likelihood:            -3.1517e+05\n",
       "No. Observations:               22687   AIC:                         6.304e+05\n",
       "Df Residuals:                   22681   BIC:                         6.304e+05\n",
       "Df Model:                           5                                         \n",
       "Covariance Type:            nonrobust                                         \n",
       "=================================================================================\n",
       "                    coef    std err          t      P>|t|      [0.025      0.975]\n",
       "---------------------------------------------------------------------------------\n",
       "SqFtTotLiving   228.8306      3.899     58.694      0.000     221.189     236.472\n",
       "SqFtLot          -0.0605      0.061     -0.988      0.323      -0.180       0.059\n",
       "Bathrooms     -1.944e+04   3625.388     -5.363      0.000   -2.65e+04   -1.23e+04\n",
       "Bedrooms      -4.777e+04   2489.732    -19.187      0.000   -5.27e+04   -4.29e+04\n",
       "BldgGrade      1.061e+05   2396.445     44.277      0.000    1.01e+05    1.11e+05\n",
       "const         -5.219e+05   1.57e+04    -33.342      0.000   -5.53e+05   -4.91e+05\n",
       "==============================================================================\n",
       "Omnibus:                    29676.557   Durbin-Watson:                   1.247\n",
       "Prob(Omnibus):                  0.000   Jarque-Bera (JB):         19390738.346\n",
       "Skew:                           6.889   Prob(JB):                         0.00\n",
       "Kurtosis:                     145.559   Cond. No.                     2.86e+05\n",
       "==============================================================================\n",
       "\n",
       "Notes:\n",
       "[1] Standard Errors assume that the covariance matrix of the errors is correctly specified.\n",
       "[2] The condition number is large, 2.86e+05. This might indicate that there are\n",
       "strong multicollinearity or other numerical problems.\n",
       "\"\"\""
      ]
     },
     "execution_count": 56,
     "metadata": {},
     "output_type": "execute_result"
    }
   ],
   "source": [
    "# 회귀모델에 대한 세부 분석\n",
    "model = sm.OLS(y, X.assign(const = 1)) # 값이 1인 상수 열을 예측변수에 추가 (절편을 모델링하기 위함)\n",
    "results = model.fit()\n",
    "results.summary()"
   ]
  },
  {
   "cell_type": "markdown",
   "metadata": {},
   "source": [
    "$R^2$ (결정계수) : 모델 데이터의 변동률 (0~1)<br>\n",
    "모델이 데이터에 얼마나 적합한지 평가함\n",
    "\n",
    "t 통계량과 p 값 : 계수가 통계적으로 유의미한 정도<br>\n",
    "예측변수와 목표변수를 랜덤하게 재배치했을 때 우연히 얻을 수 있는 범위를 어느 정도 벗어났는지 측정\n",
    "\n",
    "**t 통계량이 높을수록, p 값이 낮을수록 예측변수는 더욱 유의미함**"
   ]
  },
  {
   "cell_type": "markdown",
   "metadata": {},
   "source": [
    "#### <span style=\"color:dodgerblue\">교차타당성검사</span>\n",
    "\n",
    "데이터 수가 커지면서 표본 밖 유효성 검사는 더욱 중요해짐\n",
    "\n",
    "일반적으로 대부분의 데이터는 적합한 모델을 찾는 데 사용하고, 나머지 데이터 (홀드아웃 샘플) 는 모델을 테스트하는 데 사용\n",
    "\n",
    "홀드아웃 샘플을 사용하더라도, 상대적으로 작은 홀드아웃 샘플의 변동성으로 불확실성을 초래할 수 있음\n",
    "\n",
    "**교차타당성검사** : 홀드아웃 샘플 아이디어를 여러 개의 연속된 홀드아웃 샘플로 확장한 것\n",
    "\n",
    "기본적인 k 다중 교차타당성검사 알고리즘\n",
    "1. 1/k의 데이터를 홀드아웃 샘플로 따로 떼어놓는다.\n",
    "2. 남아 있는 데이터로 모델 훈련\n",
    "3. 모델을 1/k 홀드아웃에 적용하고 필요한 모델 평가 지표를 기록\n",
    "4. 데이터의 첫 번째 1/k를 복원하고, 다음 1/k를 따로 보관\n",
    "5. 2~3단계 반복\n",
    "6. 모든 레코드가 홀드아웃 샘플로 사용될 때까지 반복\n",
    "7. 모델 평가 지표들을 평균과 같은 방식으로 결합\n",
    "\n",
    "**폴드** : 훈련을 위한 샘플과 홀드아웃 샘플로 데이터를 분할하는 것"
   ]
  },
  {
   "cell_type": "markdown",
   "metadata": {},
   "source": [
    "#### <span style=\"color:dodgerblue\">모형 선택 및 단계적 회귀</span>\n",
    "\n",
    "예측변수를 많이 사용할 수 있지만, 이는 좋은 방법이 아님\n",
    "\n",
    "모든 것이 동일한 조건에서는, 복잡한 모델보다는 단순한 모델을 우선 사용해야 한다는 '오컴의 면도날' 원리 사용\n",
    "\n",
    "$R^2$ 대신, 모델 복잡성을 함께 고려하는 **Adjusted $R^2$**을 사용하는 것도 좋은 방법<br>\n",
    "$R_{adj}^2 = 1 - (1 - R^2) \\frac{n - 1}{n - P - 1}$\n",
    "\n",
    "**AIC** : 모델에 항을 추가할수록 불이익을 주는 측정 지표<br>\n",
    "$AIC = 2P + n\\log{(RSS/n)}$\n",
    "\n",
    "(P : 변수의 개수, n : 레코드의 개수)\n",
    "\n",
    "AIC를 최소로 하거나, Adjusted $R^2$를 최대로 하는 모델을 찾는 방법\n",
    "- **부분집합회귀** : 모든 가능한 모델을 검색하는 방법 But, 많은 계산 비용, 대용량 데이터와 변수가 많은 문제에 부적합\n",
    "- **단계적 회귀**\n",
    "    - 전체 모델부터 시작해서 별로 의미 없는 변수들을 연속적으로 삭제하는 방법 (**후진제거**)\n",
    "    - 상수 모델에서 시작해서 연속적으로 변수를 추가하는 방법 (**전진선택**)\n",
    "    - 예측변수를 연속적으로 추가/삭제하여 AIC를 낮추거나 R 제곱을 높이는 모델을 찾는 방법 (**단계적 회귀분석**)\n",
    "- **벌점회귀** : 개별 모델 집합들을 명시적으로 검색하는 대신, 모델 적합 방정식에 많은 변수에 대해 모델에 불이익을 주는 제약 조건을 추가하는 방법\n",
    "    - 계수 크기를 감소시키거나 경우에 따라 거의 0으로 만들어 벌점 적용\n",
    "    - 많이 사용되는 벌점회귀 방법 : 라소, 능형회귀\n",
    "    \n",
    "단계적 회귀, 부분집합회귀는 모델을 평가하고 조정하는 표본 내 방법이므로, 오버피팅이 될 가능성 존재<br>\n",
    "-> 교차타당성검사를 통해 모델의 유효성 검사"
   ]
  },
  {
   "cell_type": "markdown",
   "metadata": {},
   "source": [
    "#### <span style=\"color:dodgerblue\">가중회귀</span>\n",
    "\n",
    "가중회귀의 유용성\n",
    "- 서로 다른 관측치를 다른 정밀도로 측정했을 때, 역분산 가중치를 얻을 수 있다. 분산이 높을수록 가중치가 낮다.\n",
    "- 가중치 변수가 집계된 데이터의 각 행이 나타내는 원본 관측치의 수를 인코딩하도록, 행이 여러 경우를 의미하는 데이터를 분석할 수 있다."
   ]
  },
  {
   "cell_type": "code",
   "execution_count": 57,
   "metadata": {
    "ExecuteTime": {
     "end_time": "2022-08-29T09:11:21.206699Z",
     "start_time": "2022-08-29T09:11:21.161819Z"
    }
   },
   "outputs": [],
   "source": [
    "house['Year'] = [int(date.split('-')[0]) for date in house.DocumentDate]\n",
    "house['Weight'] = house.Year - 2005"
   ]
  },
  {
   "cell_type": "code",
   "execution_count": 58,
   "metadata": {
    "ExecuteTime": {
     "end_time": "2022-08-29T09:11:21.238614Z",
     "start_time": "2022-08-29T09:11:21.209693Z"
    }
   },
   "outputs": [
    {
     "data": {
      "text/plain": [
       "LinearRegression()"
      ]
     },
     "execution_count": 58,
     "metadata": {},
     "output_type": "execute_result"
    }
   ],
   "source": [
    "predictors = ['SqFtTotLiving', 'SqFtLot', 'Bathrooms', 'Bedrooms', 'BldgGrade']\n",
    "outcome = 'AdjSalePrice'\n",
    "\n",
    "house_wt = LinearRegression()\n",
    "house_wt.fit(house[predictors], house[outcome], sample_weight=house.Weight)"
   ]
  },
  {
   "cell_type": "code",
   "execution_count": 59,
   "metadata": {
    "ExecuteTime": {
     "end_time": "2022-08-29T09:11:21.253575Z",
     "start_time": "2022-08-29T09:11:21.241607Z"
    }
   },
   "outputs": [
    {
     "name": "stdout",
     "output_type": "stream",
     "text": [
      "Intercept : -584189.329\n",
      "Coefficients :\n",
      "SqFtTotLiving: 245.024\n",
      "SqFtLot: -0.292\n",
      "Bathrooms: -26085.970\n",
      "Bedrooms: -53608.876\n",
      "BldgGrade: 115242.435\n"
     ]
    }
   ],
   "source": [
    "print(f'Intercept : {house_wt.intercept_:.3f}')\n",
    "print('Coefficients :')\n",
    "for name, coef in zip(predictors, house_wt.coef_):\n",
    "    print(f'{name}: {coef:.3f}')"
   ]
  },
  {
   "cell_type": "markdown",
   "metadata": {},
   "source": [
    "기존의 회귀분석의 결과와 가중회귀의 결과가 다른 것을 알 수 있다."
   ]
  },
  {
   "cell_type": "markdown",
   "metadata": {},
   "source": [
    "### <span style=\"color:olivedrab\">회귀를 이용한 예측</span>"
   ]
  },
  {
   "cell_type": "markdown",
   "metadata": {
    "heading_collapsed": true
   },
   "source": [
    "#### <span style=\"color:dodgerblue\">외삽의 위험</span>\n",
    "\n",
    "**외삽법** : 모델링에 사용된 데이터 범위를 벗어난 부분까지 모델을 확장하는 것\n",
    "\n",
    "회귀모형은 외삽하면 안됨\n",
    "- 잘못된 예측 발생"
   ]
  },
  {
   "cell_type": "markdown",
   "metadata": {},
   "source": [
    "#### <span style=\"color:dodgerblue\">신뢰구간과 예측구간</span>\n",
    "\n",
    "신뢰구간 : 여러 값에서 계산된 평균이나 다른 통계량과 관련한 불확실성<br>\n",
    "예측구간 : 한 값에 대한 불확실성\n",
    "\n",
    "신뢰구간이 예측구간에 비해 훨씬 좁다.\n",
    "\n",
    "P개의 예측변수, n개의 레코드가 있는 데이터에 대해 회귀 파라미터에 대한 신뢰구간을 생성하기 위한 부트스트랩 알고리즘\n",
    "1. 각 행을 하나의 티켓으로 생각하고 개수가 모두 n개인 티켓을 박스에 넣었다고 가정\n",
    "2. 무작위로 티켓을 뽑아 값을 기록하고 다시 박스에 넣는다.\n",
    "3. 2번 과정을 n번 반복. 이를 통해 부트스트랩 재표본을 하나 생성\n",
    "4. 이 표본을 가지고 회귀모형을 구함. 그리고 추정된 계수 기록\n",
    "5. 2~4번 과정을 1000번 반복\n",
    "6. 각 계수에 대해 1000개의 부트스트랩 값을 갖는다. 각각에 대해 적합한 백분위수를 구함"
   ]
  },
  {
   "cell_type": "markdown",
   "metadata": {},
   "source": [
    "### <span style=\"color:olivedrab\">회귀에서의 요인변수</span>\n",
    "\n",
    "**범주형 변수 : 요인변수**\n",
    "\n",
    "ex) 대출 목적 - '결혼', '자동차', '부채 정리'\n",
    "\n",
    "요인변수는 모델에 사용될 수 있도록 다시 수치화해야 함\n",
    "\n",
    "가장 일반적인 방법 : 변수를 이진 가변수들의 집합으로 변환"
   ]
  },
  {
   "cell_type": "markdown",
   "metadata": {},
   "source": [
    "#### <span style=\"color:dodgerblue\">가변수 표현</span>"
   ]
  },
  {
   "cell_type": "markdown",
   "metadata": {},
   "source": [
    "**원-핫 인코딩**"
   ]
  },
  {
   "cell_type": "code",
   "execution_count": 60,
   "metadata": {
    "ExecuteTime": {
     "end_time": "2022-08-29T09:11:21.268537Z",
     "start_time": "2022-08-29T09:11:21.256567Z"
    }
   },
   "outputs": [
    {
     "data": {
      "text/plain": [
       "Single Family    20720\n",
       "Townhouse         1710\n",
       "Multiplex          257\n",
       "Name: PropertyType, dtype: int64"
      ]
     },
     "execution_count": 60,
     "metadata": {},
     "output_type": "execute_result"
    }
   ],
   "source": [
    "house['PropertyType'].value_counts()"
   ]
  },
  {
   "cell_type": "code",
   "execution_count": 61,
   "metadata": {
    "ExecuteTime": {
     "end_time": "2022-08-29T09:11:21.300451Z",
     "start_time": "2022-08-29T09:11:21.271529Z"
    }
   },
   "outputs": [
    {
     "data": {
      "text/html": [
       "<div>\n",
       "<style scoped>\n",
       "    .dataframe tbody tr th:only-of-type {\n",
       "        vertical-align: middle;\n",
       "    }\n",
       "\n",
       "    .dataframe tbody tr th {\n",
       "        vertical-align: top;\n",
       "    }\n",
       "\n",
       "    .dataframe thead th {\n",
       "        text-align: right;\n",
       "    }\n",
       "</style>\n",
       "<table border=\"1\" class=\"dataframe\">\n",
       "  <thead>\n",
       "    <tr style=\"text-align: right;\">\n",
       "      <th></th>\n",
       "      <th>Single Family</th>\n",
       "      <th>Townhouse</th>\n",
       "    </tr>\n",
       "  </thead>\n",
       "  <tbody>\n",
       "    <tr>\n",
       "      <th>1</th>\n",
       "      <td>0</td>\n",
       "      <td>0</td>\n",
       "    </tr>\n",
       "    <tr>\n",
       "      <th>2</th>\n",
       "      <td>1</td>\n",
       "      <td>0</td>\n",
       "    </tr>\n",
       "    <tr>\n",
       "      <th>3</th>\n",
       "      <td>1</td>\n",
       "      <td>0</td>\n",
       "    </tr>\n",
       "    <tr>\n",
       "      <th>4</th>\n",
       "      <td>1</td>\n",
       "      <td>0</td>\n",
       "    </tr>\n",
       "    <tr>\n",
       "      <th>5</th>\n",
       "      <td>1</td>\n",
       "      <td>0</td>\n",
       "    </tr>\n",
       "    <tr>\n",
       "      <th>...</th>\n",
       "      <td>...</td>\n",
       "      <td>...</td>\n",
       "    </tr>\n",
       "    <tr>\n",
       "      <th>27057</th>\n",
       "      <td>1</td>\n",
       "      <td>0</td>\n",
       "    </tr>\n",
       "    <tr>\n",
       "      <th>27058</th>\n",
       "      <td>1</td>\n",
       "      <td>0</td>\n",
       "    </tr>\n",
       "    <tr>\n",
       "      <th>27061</th>\n",
       "      <td>1</td>\n",
       "      <td>0</td>\n",
       "    </tr>\n",
       "    <tr>\n",
       "      <th>27062</th>\n",
       "      <td>1</td>\n",
       "      <td>0</td>\n",
       "    </tr>\n",
       "    <tr>\n",
       "      <th>27063</th>\n",
       "      <td>1</td>\n",
       "      <td>0</td>\n",
       "    </tr>\n",
       "  </tbody>\n",
       "</table>\n",
       "<p>22687 rows × 2 columns</p>\n",
       "</div>"
      ],
      "text/plain": [
       "       Single Family  Townhouse\n",
       "1                  0          0\n",
       "2                  1          0\n",
       "3                  1          0\n",
       "4                  1          0\n",
       "5                  1          0\n",
       "...              ...        ...\n",
       "27057              1          0\n",
       "27058              1          0\n",
       "27061              1          0\n",
       "27062              1          0\n",
       "27063              1          0\n",
       "\n",
       "[22687 rows x 2 columns]"
      ]
     },
     "execution_count": 61,
     "metadata": {},
     "output_type": "execute_result"
    }
   ],
   "source": [
    "pd.get_dummies(house['PropertyType'], drop_first=True)"
   ]
  },
  {
   "cell_type": "markdown",
   "metadata": {},
   "source": [
    "**3개의 열이 아니라 2개의 열로 표시되는 이유** (drop_first)\n",
    "\n",
    "회귀분석에서 P개의 개별 수준을 갖는 요인변수는 보통 P-1개의 열을 갖는 행렬로 표시된다.\n",
    "\n",
    "회귀모형에 일반적으로 절편이 포함되기 때문에, P-1개의 이진변수의 값을 정의하고 나면 P번째 값을 알 수 있고, 따라서 P번째 값까지 넣게 되면 중복성 문제가 발생할 수 있음 (다중공선성 오류)"
   ]
  },
  {
   "cell_type": "code",
   "execution_count": 62,
   "metadata": {
    "ExecuteTime": {
     "end_time": "2022-08-29T09:11:21.348325Z",
     "start_time": "2022-08-29T09:11:21.303442Z"
    }
   },
   "outputs": [
    {
     "data": {
      "text/plain": [
       "LinearRegression()"
      ]
     },
     "execution_count": 62,
     "metadata": {},
     "output_type": "execute_result"
    }
   ],
   "source": [
    "predictors = ['SqFtTotLiving', 'SqFtLot', 'Bathrooms', 'Bedrooms', 'BldgGrade', 'PropertyType']\n",
    "\n",
    "X = pd.get_dummies(house[predictors], drop_first=True)\n",
    "\n",
    "house_lm_factor = LinearRegression()\n",
    "house_lm_factor.fit(X, house[outcome])"
   ]
  },
  {
   "cell_type": "code",
   "execution_count": 63,
   "metadata": {
    "ExecuteTime": {
     "end_time": "2022-08-29T09:11:21.364282Z",
     "start_time": "2022-08-29T09:11:21.351317Z"
    }
   },
   "outputs": [
    {
     "name": "stdout",
     "output_type": "stream",
     "text": [
      "Intercept : -446841.366\n",
      "Coefficients :\n",
      "SqFtTotLiving: 223.374\n",
      "SqFtLot: -0.070\n",
      "Bathrooms: -15979.013\n",
      "Bedrooms: -50889.732\n",
      "BldgGrade: 109416.305\n",
      "PropertyType_Single Family: -84678.216\n",
      "PropertyType_Townhouse: -115121.979\n"
     ]
    }
   ],
   "source": [
    "print(f'Intercept : {house_lm_factor.intercept_:.3f}')\n",
    "print('Coefficients :')\n",
    "for name, coef in zip(X.columns, house_lm_factor.coef_):\n",
    "    print(f'{name}: {coef:.3f}')"
   ]
  },
  {
   "cell_type": "markdown",
   "metadata": {},
   "source": [
    "#### <span style=\"color:dodgerblue\">다수의 수준을 갖는 요인변수들</span>"
   ]
  },
  {
   "cell_type": "markdown",
   "metadata": {
    "ExecuteTime": {
     "end_time": "2022-08-29T08:42:53.494480Z",
     "start_time": "2022-08-29T08:42:53.477529Z"
    }
   },
   "source": [
    "한 요인변수에 다수의 수준을 갖는 경우\n",
    "- 유용한 정보가 범주에 포함되는지 여부 판단\n",
    "- 모든 요소 유지 or 수준 통합 결정"
   ]
  },
  {
   "cell_type": "code",
   "execution_count": 64,
   "metadata": {
    "ExecuteTime": {
     "end_time": "2022-08-29T09:11:21.396198Z",
     "start_time": "2022-08-29T09:11:21.367275Z"
    },
    "scrolled": true
   },
   "outputs": [
    {
     "data": {
      "text/html": [
       "<div>\n",
       "<style scoped>\n",
       "    .dataframe tbody tr th:only-of-type {\n",
       "        vertical-align: middle;\n",
       "    }\n",
       "\n",
       "    .dataframe tbody tr th {\n",
       "        vertical-align: top;\n",
       "    }\n",
       "\n",
       "    .dataframe thead th {\n",
       "        text-align: right;\n",
       "    }\n",
       "</style>\n",
       "<table border=\"1\" class=\"dataframe\">\n",
       "  <thead>\n",
       "    <tr style=\"text-align: right;\">\n",
       "      <th></th>\n",
       "      <th>98038</th>\n",
       "      <th>98103</th>\n",
       "      <th>98042</th>\n",
       "      <th>98115</th>\n",
       "      <th>98117</th>\n",
       "      <th>98052</th>\n",
       "      <th>98034</th>\n",
       "      <th>98033</th>\n",
       "      <th>98059</th>\n",
       "      <th>98074</th>\n",
       "      <th>...</th>\n",
       "      <th>98051</th>\n",
       "      <th>98024</th>\n",
       "      <th>98354</th>\n",
       "      <th>98050</th>\n",
       "      <th>98057</th>\n",
       "      <th>98288</th>\n",
       "      <th>98224</th>\n",
       "      <th>98043</th>\n",
       "      <th>98068</th>\n",
       "      <th>98113</th>\n",
       "    </tr>\n",
       "  </thead>\n",
       "  <tbody>\n",
       "    <tr>\n",
       "      <th>ZipCode</th>\n",
       "      <td>788</td>\n",
       "      <td>671</td>\n",
       "      <td>641</td>\n",
       "      <td>620</td>\n",
       "      <td>619</td>\n",
       "      <td>614</td>\n",
       "      <td>575</td>\n",
       "      <td>517</td>\n",
       "      <td>513</td>\n",
       "      <td>502</td>\n",
       "      <td>...</td>\n",
       "      <td>32</td>\n",
       "      <td>31</td>\n",
       "      <td>9</td>\n",
       "      <td>7</td>\n",
       "      <td>4</td>\n",
       "      <td>4</td>\n",
       "      <td>3</td>\n",
       "      <td>1</td>\n",
       "      <td>1</td>\n",
       "      <td>1</td>\n",
       "    </tr>\n",
       "  </tbody>\n",
       "</table>\n",
       "<p>1 rows × 80 columns</p>\n",
       "</div>"
      ],
      "text/plain": [
       "         98038  98103  98042  98115  98117  98052  98034  98033  98059  98074  \\\n",
       "ZipCode    788    671    641    620    619    614    575    517    513    502   \n",
       "\n",
       "         ...  98051  98024  98354  98050  98057  98288  98224  98043  98068  \\\n",
       "ZipCode  ...     32     31      9      7      4      4      3      1      1   \n",
       "\n",
       "         98113  \n",
       "ZipCode      1  \n",
       "\n",
       "[1 rows x 80 columns]"
      ]
     },
     "execution_count": 64,
     "metadata": {},
     "output_type": "execute_result"
    }
   ],
   "source": [
    "pd.DataFrame(house['ZipCode'].value_counts()).T"
   ]
  },
  {
   "cell_type": "markdown",
   "metadata": {},
   "source": [
    "총 80개의 수준을 가지므로, 모든 수준을 원-핫 인코딩하여 79개의 계수가 생성되지만, 너무 많음\n",
    "\n",
    "- 대도시 지역의 지리적 위치에 대응되는 첫 두세자리만을 이용하는 방법\n",
    "    - 이 데이터의 경우 대부분이 980xx, 981xx이므로 비효율적\n",
    "- 매매 가격과 같은 다른 변수에 따라 우편번호를 그룹으로 묶는 방법\n",
    "- 초기 모델의 잔차를 이용해 우편번호 그룹을 만드는 방법"
   ]
  },
  {
   "cell_type": "code",
   "execution_count": 65,
   "metadata": {
    "ExecuteTime": {
     "end_time": "2022-08-29T09:11:21.460028Z",
     "start_time": "2022-08-29T09:11:21.400187Z"
    }
   },
   "outputs": [
    {
     "data": {
      "text/html": [
       "<div>\n",
       "<style scoped>\n",
       "    .dataframe tbody tr th:only-of-type {\n",
       "        vertical-align: middle;\n",
       "    }\n",
       "\n",
       "    .dataframe tbody tr th {\n",
       "        vertical-align: top;\n",
       "    }\n",
       "\n",
       "    .dataframe thead th {\n",
       "        text-align: right;\n",
       "    }\n",
       "</style>\n",
       "<table border=\"1\" class=\"dataframe\">\n",
       "  <thead>\n",
       "    <tr style=\"text-align: right;\">\n",
       "      <th></th>\n",
       "      <th>ZipCode</th>\n",
       "      <th>count</th>\n",
       "      <th>median_residual</th>\n",
       "    </tr>\n",
       "  </thead>\n",
       "  <tbody>\n",
       "    <tr>\n",
       "      <th>36</th>\n",
       "      <td>98057</td>\n",
       "      <td>4</td>\n",
       "      <td>-537321.644462</td>\n",
       "    </tr>\n",
       "    <tr>\n",
       "      <th>27</th>\n",
       "      <td>98043</td>\n",
       "      <td>1</td>\n",
       "      <td>-307661.343614</td>\n",
       "    </tr>\n",
       "    <tr>\n",
       "      <th>46</th>\n",
       "      <td>98092</td>\n",
       "      <td>289</td>\n",
       "      <td>-193569.183599</td>\n",
       "    </tr>\n",
       "    <tr>\n",
       "      <th>23</th>\n",
       "      <td>98038</td>\n",
       "      <td>788</td>\n",
       "      <td>-150066.477035</td>\n",
       "    </tr>\n",
       "    <tr>\n",
       "      <th>31</th>\n",
       "      <td>98051</td>\n",
       "      <td>32</td>\n",
       "      <td>-142352.869593</td>\n",
       "    </tr>\n",
       "    <tr>\n",
       "      <th>...</th>\n",
       "      <td>...</td>\n",
       "      <td>...</td>\n",
       "      <td>...</td>\n",
       "    </tr>\n",
       "    <tr>\n",
       "      <th>60</th>\n",
       "      <td>98119</td>\n",
       "      <td>260</td>\n",
       "      <td>174462.549290</td>\n",
       "    </tr>\n",
       "    <tr>\n",
       "      <th>54</th>\n",
       "      <td>98112</td>\n",
       "      <td>357</td>\n",
       "      <td>232788.487256</td>\n",
       "    </tr>\n",
       "    <tr>\n",
       "      <th>25</th>\n",
       "      <td>98040</td>\n",
       "      <td>244</td>\n",
       "      <td>254004.002463</td>\n",
       "    </tr>\n",
       "    <tr>\n",
       "      <th>3</th>\n",
       "      <td>98004</td>\n",
       "      <td>293</td>\n",
       "      <td>383596.028729</td>\n",
       "    </tr>\n",
       "    <tr>\n",
       "      <th>24</th>\n",
       "      <td>98039</td>\n",
       "      <td>47</td>\n",
       "      <td>740960.478872</td>\n",
       "    </tr>\n",
       "  </tbody>\n",
       "</table>\n",
       "<p>80 rows × 3 columns</p>\n",
       "</div>"
      ],
      "text/plain": [
       "    ZipCode  count  median_residual\n",
       "36    98057      4   -537321.644462\n",
       "27    98043      1   -307661.343614\n",
       "46    98092    289   -193569.183599\n",
       "23    98038    788   -150066.477035\n",
       "31    98051     32   -142352.869593\n",
       "..      ...    ...              ...\n",
       "60    98119    260    174462.549290\n",
       "54    98112    357    232788.487256\n",
       "25    98040    244    254004.002463\n",
       "3     98004    293    383596.028729\n",
       "24    98039     47    740960.478872\n",
       "\n",
       "[80 rows x 3 columns]"
      ]
     },
     "execution_count": 65,
     "metadata": {},
     "output_type": "execute_result"
    }
   ],
   "source": [
    "predictors = ['SqFtTotLiving', 'SqFtLot', 'Bathrooms', 'Bedrooms', 'BldgGrade']\n",
    "zip_groups = pd.DataFrame([\n",
    "    *pd.DataFrame({\n",
    "        'ZipCode' : house['ZipCode'],\n",
    "        'residual' : house[outcome] - house_lm.predict(house[predictors]),\n",
    "    })\n",
    "    .groupby(['ZipCode'])\n",
    "    .apply(lambda x: {\n",
    "        'ZipCode' : x.iloc[0,0],\n",
    "        'count' : len(x),\n",
    "        'median_residual': x.residual.median()\n",
    "    })\n",
    "]).sort_values('median_residual')\n",
    "zip_groups"
   ]
  },
  {
   "cell_type": "markdown",
   "metadata": {
    "ExecuteTime": {
     "end_time": "2022-08-29T08:55:54.197581Z",
     "start_time": "2022-08-29T08:55:54.186611Z"
    }
   },
   "source": [
    "각 우편번호에 해당하는 레코드 수 (count) 와 각 우편번호에 대한 잔차의 중간값 (median_residual)을 계산"
   ]
  },
  {
   "cell_type": "code",
   "execution_count": 66,
   "metadata": {
    "ExecuteTime": {
     "end_time": "2022-08-29T09:11:21.506903Z",
     "start_time": "2022-08-29T09:11:21.470001Z"
    }
   },
   "outputs": [],
   "source": [
    "zip_groups['cum_count'] = np.cumsum(zip_groups['count']) # 누적으로 count 세기\n",
    "zip_groups['ZipGroup'] = pd.qcut(zip_groups['cum_count'], 5, labels=False, retbins=False) # 5개의 그룹으로 분할\n",
    "\n",
    "to_join = zip_groups[['ZipCode', 'ZipGroup']].set_index('ZipCode')\n",
    "house = house.join(to_join, on='ZipCode') # ZipCode에 해당되는 ZipGroup으로 house 데이터프레임에 join\n",
    "house['ZipGroup'] = house['ZipGroup'].astype('category') # 범주형 변수로 변환"
   ]
  },
  {
   "cell_type": "markdown",
   "metadata": {},
   "source": [
    "중간값으로 정렬한 우편번호를 5개의 그룹으로 분할"
   ]
  },
  {
   "cell_type": "markdown",
   "metadata": {},
   "source": [
    "#### <span style=\"color:dodgerblue\">순서가 있는 요인변수</span>\n",
    "\n",
    "순서를 갖는 요인변수의 예시\n",
    "- 대출 등급 : 'A', 'B', 'C'\n",
    "\n",
    "일반적으로 숫자 값으로 변환하여 그대로 사용 (수치형 변수로 전환)\n",
    "- 그냥 요인변수로 다룰 경우, 순서에 대한 정보 소실"
   ]
  },
  {
   "cell_type": "markdown",
   "metadata": {},
   "source": [
    "### <span style=\"color:olivedrab\">회귀방정식 해석</span>\n",
    "\n",
    "**변수간 상관** : 변수들이 같은 방향으로 움직이려는 경향 (변수끼리 강한 상관관계 존재)<BR>\n",
    "**다중공선성** : 예측변수들이 거의 완벽에 가까운 상관성을 가지면, 회귀는 불안정하며 계산이 불가능함"
   ]
  },
  {
   "cell_type": "markdown",
   "metadata": {},
   "source": [
    "#### <span style=\"color:dodgerblue\">예측변수간 상관</span>"
   ]
  },
  {
   "cell_type": "code",
   "execution_count": 68,
   "metadata": {
    "ExecuteTime": {
     "end_time": "2022-08-29T09:21:18.440606Z",
     "start_time": "2022-08-29T09:21:18.433624Z"
    }
   },
   "outputs": [
    {
     "name": "stdout",
     "output_type": "stream",
     "text": [
      "Intercept : -446841.366\n",
      "Coefficients :\n",
      "SqFtTotLiving: 223.374\n",
      "SqFtLot: -0.070\n",
      "Bathrooms: -15979.013\n",
      "Bedrooms: -50889.732\n",
      "BldgGrade: 109416.305\n",
      "PropertyType_Single Family: -84678.216\n",
      "PropertyType_Townhouse: -115121.979\n"
     ]
    }
   ],
   "source": [
    "print(f'Intercept : {house_lm_factor.intercept_:.3f}')\n",
    "print('Coefficients :')\n",
    "for name, coef in zip(X.columns, house_lm_factor.coef_):\n",
    "    print(f'{name}: {coef:.3f}')"
   ]
  },
  {
   "cell_type": "markdown",
   "metadata": {},
   "source": [
    "Bedroom의 계수가 음수인 것의 의미\n",
    "- 침실 개수를 늘릴 수록 그 가치가 감소한다. But, 비상식적\n",
    "- 예측변수들끼리 상관성이 존재하기 때문\n",
    "    - 집이 클수록 침실이 더 많은 경향이 있고, 침실 수보다는 집의 크기가 가격에 더 큰 영향\n",
    "    \n",
    "상호 연관된 예측변수들을 사용하면 회귀계수의 부호와 값의 의미를 해석하기 어려울 수 있음"
   ]
  },
  {
   "cell_type": "markdown",
   "metadata": {},
   "source": [
    "서로 상관성이 존재하는 예측변수들을 삭제해 변수의 개수를 줄인 이후 모델 적합"
   ]
  },
  {
   "cell_type": "code",
   "execution_count": 70,
   "metadata": {
    "ExecuteTime": {
     "end_time": "2022-08-29T09:48:24.422178Z",
     "start_time": "2022-08-29T09:48:24.388274Z"
    }
   },
   "outputs": [
    {
     "data": {
      "text/plain": [
       "LinearRegression()"
      ]
     },
     "execution_count": 70,
     "metadata": {},
     "output_type": "execute_result"
    }
   ],
   "source": [
    "predictors = ['Bedrooms', 'BldgGrade', 'PropertyType', 'YrBuilt']\n",
    "outcome = 'AdjSalePrice'\n",
    "\n",
    "X = pd.get_dummies(house[predictors], drop_first=True)\n",
    "\n",
    "reduced_lm = LinearRegression()\n",
    "reduced_lm.fit(X, house[outcome])"
   ]
  },
  {
   "cell_type": "code",
   "execution_count": 72,
   "metadata": {
    "ExecuteTime": {
     "end_time": "2022-08-29T09:48:59.989819Z",
     "start_time": "2022-08-29T09:48:59.975858Z"
    }
   },
   "outputs": [
    {
     "name": "stdout",
     "output_type": "stream",
     "text": [
      "Intercept : 4913973.344\n",
      "Coefficients :\n",
      "Bedrooms: 27150.537\n",
      "BldgGrade: 248997.794\n",
      "YrBuilt: -3211.745\n",
      "PropertyType_Single Family: -19898.495\n",
      "PropertyType_Townhouse: -47355.437\n"
     ]
    }
   ],
   "source": [
    "print(f'Intercept : {reduced_lm.intercept_:.3f}')\n",
    "print('Coefficients :')\n",
    "for name, coef in zip(X.columns, reduced_lm.coef_):\n",
    "    print(f'{name}: {coef:.3f}')"
   ]
  },
  {
   "cell_type": "markdown",
   "metadata": {},
   "source": [
    "#### <span style=\"color:dodgerblue\">다중공선성</span>\n",
    "\n",
    "변수 상관이 극단적으로 발생 : 다중공선성 발생\n",
    "\n",
    "완전 다중공선성 : 한 예측변수가 다른 변수들의 선형결합으로 표현되는 것을 의미\n",
    "\n",
    "다중공선성이 발생하는 경우\n",
    "- 오류로 인해 한 변수가 여러 번 포함된 경우\n",
    "- 요인변수로부터 P-1개가 아닌 P개의 가변수가 만들어진 경우\n",
    "- 두 변수가 서로 거의 완벽하게 상관성이 있는 경우\n",
    "\n",
    "회귀분석에서는 반드시 다중공선성 문제를 해결해야 함\n",
    "- 다중공선성이 사라질 때까지 변수 제거\n",
    "\n",
    "비선형회귀 (트리, 클러스터링, KNN) 등에서는 다중공선성이 거의 문제가 되지 않음"
   ]
  },
  {
   "cell_type": "markdown",
   "metadata": {},
   "source": [
    "#### <span style=\"color:dodgerblue\">교란변수</span>\n",
    "\n",
    "변수 상관이 극단적으로 발생 : 다중공선성 발생\n",
    "\n",
    "완전 다중공선성 : 한 예측변수가 다른 변수들의 선형결합으로 표현되는 것을 의미\n",
    "\n",
    "다중공선성이 발생하는 경우\n",
    "- 오류로 인해 한 변수가 여러 번 포함된 경우\n",
    "- 요인변수로부터 P-1개가 아닌 P개의 가변수가 만들어진 경우\n",
    "- 두 변수가 서로 거의 완벽하게 상관성이 있는 경우\n",
    "\n",
    "회귀분석에서는 반드시 다중공선성 문제를 해결해야 함\n",
    "- 다중공선성이 사라질 때까지 변수 제거\n",
    "\n",
    "비선형회귀 (트리, 클러스터링, KNN) 등에서는 다중공선성이 거의 문제가 되지 않음"
   ]
  },
  {
   "cell_type": "code",
   "execution_count": null,
   "metadata": {},
   "outputs": [],
   "source": []
  }
 ],
 "metadata": {
  "kernelspec": {
   "display_name": "Python 3 (ipykernel)",
   "language": "python",
   "name": "python3"
  },
  "language_info": {
   "codemirror_mode": {
    "name": "ipython",
    "version": 3
   },
   "file_extension": ".py",
   "mimetype": "text/x-python",
   "name": "python",
   "nbconvert_exporter": "python",
   "pygments_lexer": "ipython3",
   "version": "3.8.5"
  },
  "toc": {
   "base_numbering": 1,
   "nav_menu": {
    "height": "366px",
    "width": "352px"
   },
   "number_sections": true,
   "sideBar": true,
   "skip_h1_title": false,
   "title_cell": "Table of Contents",
   "title_sidebar": "Contents",
   "toc_cell": false,
   "toc_position": {
    "height": "calc(100% - 180px)",
    "left": "10px",
    "top": "150px",
    "width": "313.825px"
   },
   "toc_section_display": true,
   "toc_window_display": true
  }
 },
 "nbformat": 4,
 "nbformat_minor": 4
}
